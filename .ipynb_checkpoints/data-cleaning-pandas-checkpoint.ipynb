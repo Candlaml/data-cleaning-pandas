{
 "cells": [
  {
   "cell_type": "code",
   "execution_count": 2,
   "id": "6ef2c7a4-a88e-48d6-9e1b-9108291cfcbe",
   "metadata": {},
   "outputs": [
    {
     "name": "stdout",
     "output_type": "stream",
     "text": [
      "Requirement already satisfied: fuzzywuzzy in /opt/anaconda3/lib/python3.12/site-packages (0.18.0)\n",
      "Requirement already satisfied: python-Levenshtein in /opt/anaconda3/lib/python3.12/site-packages (0.27.1)\n",
      "Requirement already satisfied: Levenshtein==0.27.1 in /opt/anaconda3/lib/python3.12/site-packages (from python-Levenshtein) (0.27.1)\n",
      "Requirement already satisfied: rapidfuzz<4.0.0,>=3.9.0 in /opt/anaconda3/lib/python3.12/site-packages (from Levenshtein==0.27.1->python-Levenshtein) (3.13.0)\n"
     ]
    }
   ],
   "source": [
    "# Step 0 - Import and install the necessary libraries\n",
    "!pip install fuzzywuzzy\n",
    "!pip install python-Levenshtein  # Optional: Boosts performance\n",
    "import pandas as pd\n",
    "import numpy as np\n",
    "import re\n",
    "import matplotlib.pyplot as plt\n",
    "from fuzzywuzzy import process\n",
    "import plotly.express as px\n",
    "\n",
    "\n",
    "# Load the Excel File\n",
    "df= pd.read_excel(\"GSAF5.xls\")\n",
    "#df = pd.read_excel(\"/Users/candela/Desktop/Sharkattack/GSAF5.xls\")\n"
   ]
  },
  {
   "cell_type": "code",
   "execution_count": 276,
   "id": "dd86d935-ca42-4f87-9cd1-de2e9a0ac8e1",
   "metadata": {},
   "outputs": [
    {
     "name": "stdout",
     "output_type": "stream",
     "text": [
      "(7012, 23)\n",
      "Index(['Date', 'Year', 'Type', 'Country', 'State', 'Location', 'Activity',\n",
      "       'Name', 'Sex', 'Age', 'Injury', 'Fatal Y/N', 'Time', 'Species ',\n",
      "       'Source', 'pdf', 'href formula', 'href', 'Case Number', 'Case Number.1',\n",
      "       'original order', 'Unnamed: 21', 'Unnamed: 22'],\n",
      "      dtype='object')\n"
     ]
    },
    {
     "data": {
      "text/html": [
       "<div>\n",
       "<style scoped>\n",
       "    .dataframe tbody tr th:only-of-type {\n",
       "        vertical-align: middle;\n",
       "    }\n",
       "\n",
       "    .dataframe tbody tr th {\n",
       "        vertical-align: top;\n",
       "    }\n",
       "\n",
       "    .dataframe thead th {\n",
       "        text-align: right;\n",
       "    }\n",
       "</style>\n",
       "<table border=\"1\" class=\"dataframe\">\n",
       "  <thead>\n",
       "    <tr style=\"text-align: right;\">\n",
       "      <th></th>\n",
       "      <th>Date</th>\n",
       "      <th>Year</th>\n",
       "      <th>Type</th>\n",
       "      <th>Country</th>\n",
       "      <th>State</th>\n",
       "      <th>Location</th>\n",
       "      <th>Activity</th>\n",
       "      <th>Name</th>\n",
       "      <th>Sex</th>\n",
       "      <th>Age</th>\n",
       "      <th>...</th>\n",
       "      <th>Species</th>\n",
       "      <th>Source</th>\n",
       "      <th>pdf</th>\n",
       "      <th>href formula</th>\n",
       "      <th>href</th>\n",
       "      <th>Case Number</th>\n",
       "      <th>Case Number.1</th>\n",
       "      <th>original order</th>\n",
       "      <th>Unnamed: 21</th>\n",
       "      <th>Unnamed: 22</th>\n",
       "    </tr>\n",
       "  </thead>\n",
       "  <tbody>\n",
       "    <tr>\n",
       "      <th>0</th>\n",
       "      <td>2025-04-19 00:00:00</td>\n",
       "      <td>2025.0</td>\n",
       "      <td>Unprovoked</td>\n",
       "      <td>Maldives</td>\n",
       "      <td>Kulhudhuffushi City</td>\n",
       "      <td>Haa Dhaalu atoll</td>\n",
       "      <td>snorkeling</td>\n",
       "      <td>Unknown Male</td>\n",
       "      <td>M</td>\n",
       "      <td>30</td>\n",
       "      <td>...</td>\n",
       "      <td>Not stated</td>\n",
       "      <td>Todd Smith: The edition: https://en.sun.mv/96031</td>\n",
       "      <td>NaN</td>\n",
       "      <td>NaN</td>\n",
       "      <td>NaN</td>\n",
       "      <td>NaN</td>\n",
       "      <td>NaN</td>\n",
       "      <td>NaN</td>\n",
       "      <td>NaN</td>\n",
       "      <td>NaN</td>\n",
       "    </tr>\n",
       "    <tr>\n",
       "      <th>1</th>\n",
       "      <td>2025-04-12 00:00:00</td>\n",
       "      <td>2025.0</td>\n",
       "      <td>Unprovoked</td>\n",
       "      <td>USA</td>\n",
       "      <td>Florida</td>\n",
       "      <td>Everglades National Park Flamingo Lodge Highwa...</td>\n",
       "      <td>Undisclosed</td>\n",
       "      <td>Unknown Male</td>\n",
       "      <td>M</td>\n",
       "      <td>?</td>\n",
       "      <td>...</td>\n",
       "      <td>Not stated</td>\n",
       "      <td>Kevin McMurray Trackingsharks.com: Florida New...</td>\n",
       "      <td>NaN</td>\n",
       "      <td>NaN</td>\n",
       "      <td>NaN</td>\n",
       "      <td>NaN</td>\n",
       "      <td>NaN</td>\n",
       "      <td>NaN</td>\n",
       "      <td>NaN</td>\n",
       "      <td>NaN</td>\n",
       "    </tr>\n",
       "    <tr>\n",
       "      <th>2</th>\n",
       "      <td>2025-03-26 00:00:00</td>\n",
       "      <td>2025.0</td>\n",
       "      <td>Unprovoked</td>\n",
       "      <td>Australia</td>\n",
       "      <td>WA</td>\n",
       "      <td>Sandtrax Port Beach North Fremantle Perth</td>\n",
       "      <td>Swimming</td>\n",
       "      <td>Unknown Male</td>\n",
       "      <td>M</td>\n",
       "      <td>30+</td>\n",
       "      <td>...</td>\n",
       "      <td>1.5m Tiger shark</td>\n",
       "      <td>Kevin McMurray Trackingsharks.com: www.surfer....</td>\n",
       "      <td>NaN</td>\n",
       "      <td>NaN</td>\n",
       "      <td>NaN</td>\n",
       "      <td>NaN</td>\n",
       "      <td>NaN</td>\n",
       "      <td>NaN</td>\n",
       "      <td>NaN</td>\n",
       "      <td>NaN</td>\n",
       "    </tr>\n",
       "    <tr>\n",
       "      <th>3</th>\n",
       "      <td>2025-03-10 00:00:00</td>\n",
       "      <td>2025.0</td>\n",
       "      <td>Unprovoked</td>\n",
       "      <td>Australia</td>\n",
       "      <td>WA</td>\n",
       "      <td>Duke of Orleans Bay</td>\n",
       "      <td>Surfing</td>\n",
       "      <td>Steven Jeffrey Payne</td>\n",
       "      <td>M</td>\n",
       "      <td>37</td>\n",
       "      <td>...</td>\n",
       "      <td>Great White Shark</td>\n",
       "      <td>Bob Myatt</td>\n",
       "      <td>NaN</td>\n",
       "      <td>NaN</td>\n",
       "      <td>NaN</td>\n",
       "      <td>NaN</td>\n",
       "      <td>NaN</td>\n",
       "      <td>NaN</td>\n",
       "      <td>NaN</td>\n",
       "      <td>NaN</td>\n",
       "    </tr>\n",
       "    <tr>\n",
       "      <th>4</th>\n",
       "      <td>2025-03-07 00:00:00</td>\n",
       "      <td>2025.0</td>\n",
       "      <td>Unprovoked</td>\n",
       "      <td>Australia</td>\n",
       "      <td>NSW</td>\n",
       "      <td>Gunyah beach Bundeena Port Hacking</td>\n",
       "      <td>Swimming</td>\n",
       "      <td>Mangyong Zhang</td>\n",
       "      <td>F</td>\n",
       "      <td>56</td>\n",
       "      <td>...</td>\n",
       "      <td>Bull shark</td>\n",
       "      <td>Bob Myatt</td>\n",
       "      <td>NaN</td>\n",
       "      <td>NaN</td>\n",
       "      <td>NaN</td>\n",
       "      <td>NaN</td>\n",
       "      <td>NaN</td>\n",
       "      <td>NaN</td>\n",
       "      <td>NaN</td>\n",
       "      <td>NaN</td>\n",
       "    </tr>\n",
       "  </tbody>\n",
       "</table>\n",
       "<p>5 rows × 23 columns</p>\n",
       "</div>"
      ],
      "text/plain": [
       "                  Date    Year        Type    Country                State  \\\n",
       "0  2025-04-19 00:00:00  2025.0  Unprovoked   Maldives  Kulhudhuffushi City   \n",
       "1  2025-04-12 00:00:00  2025.0  Unprovoked        USA              Florida   \n",
       "2  2025-03-26 00:00:00  2025.0  Unprovoked  Australia                   WA   \n",
       "3  2025-03-10 00:00:00  2025.0  Unprovoked  Australia                   WA   \n",
       "4  2025-03-07 00:00:00  2025.0  Unprovoked  Australia                  NSW   \n",
       "\n",
       "                                            Location     Activity  \\\n",
       "0                                   Haa Dhaalu atoll   snorkeling   \n",
       "1  Everglades National Park Flamingo Lodge Highwa...  Undisclosed   \n",
       "2          Sandtrax Port Beach North Fremantle Perth     Swimming   \n",
       "3                                Duke of Orleans Bay      Surfing   \n",
       "4                 Gunyah beach Bundeena Port Hacking     Swimming   \n",
       "\n",
       "                   Name Sex  Age  ...           Species   \\\n",
       "0          Unknown Male   M   30  ...         Not stated   \n",
       "1          Unknown Male   M    ?  ...         Not stated   \n",
       "2          Unknown Male   M  30+  ...   1.5m Tiger shark   \n",
       "3  Steven Jeffrey Payne   M   37  ...  Great White Shark   \n",
       "4        Mangyong Zhang  F    56  ...         Bull shark   \n",
       "\n",
       "                                              Source  pdf href formula href  \\\n",
       "0   Todd Smith: The edition: https://en.sun.mv/96031  NaN          NaN  NaN   \n",
       "1  Kevin McMurray Trackingsharks.com: Florida New...  NaN          NaN  NaN   \n",
       "2  Kevin McMurray Trackingsharks.com: www.surfer....  NaN          NaN  NaN   \n",
       "3                                          Bob Myatt  NaN          NaN  NaN   \n",
       "4                                          Bob Myatt  NaN          NaN  NaN   \n",
       "\n",
       "  Case Number Case Number.1 original order Unnamed: 21 Unnamed: 22  \n",
       "0         NaN           NaN            NaN         NaN         NaN  \n",
       "1         NaN           NaN            NaN         NaN         NaN  \n",
       "2         NaN           NaN            NaN         NaN         NaN  \n",
       "3         NaN           NaN            NaN         NaN         NaN  \n",
       "4         NaN           NaN            NaN         NaN         NaN  \n",
       "\n",
       "[5 rows x 23 columns]"
      ]
     },
     "execution_count": 276,
     "metadata": {},
     "output_type": "execute_result"
    }
   ],
   "source": [
    "# Show basic info\n",
    "print(df.shape)\n",
    "print(df.columns)\n",
    "df.head()\n"
   ]
  },
  {
   "cell_type": "code",
   "execution_count": 279,
   "id": "3f3049b4-fe28-49a9-94e6-53d27067003d",
   "metadata": {},
   "outputs": [
    {
     "name": "stdout",
     "output_type": "stream",
     "text": [
      "(7011, 15)\n",
      "Index(['Date', 'Year', 'Type', 'Country', 'State', 'Location', 'Activity',\n",
      "       'Name', 'Sex', 'Age', 'Injury', 'Fatal_Y/N', 'Time', 'Species',\n",
      "       'Source'],\n",
      "      dtype='object')\n"
     ]
    },
    {
     "data": {
      "text/html": [
       "<div>\n",
       "<style scoped>\n",
       "    .dataframe tbody tr th:only-of-type {\n",
       "        vertical-align: middle;\n",
       "    }\n",
       "\n",
       "    .dataframe tbody tr th {\n",
       "        vertical-align: top;\n",
       "    }\n",
       "\n",
       "    .dataframe thead th {\n",
       "        text-align: right;\n",
       "    }\n",
       "</style>\n",
       "<table border=\"1\" class=\"dataframe\">\n",
       "  <thead>\n",
       "    <tr style=\"text-align: right;\">\n",
       "      <th></th>\n",
       "      <th>Date</th>\n",
       "      <th>Year</th>\n",
       "      <th>Type</th>\n",
       "      <th>Country</th>\n",
       "      <th>State</th>\n",
       "      <th>Location</th>\n",
       "      <th>Activity</th>\n",
       "      <th>Name</th>\n",
       "      <th>Sex</th>\n",
       "      <th>Age</th>\n",
       "      <th>Injury</th>\n",
       "      <th>Fatal_Y/N</th>\n",
       "      <th>Time</th>\n",
       "      <th>Species</th>\n",
       "      <th>Source</th>\n",
       "    </tr>\n",
       "  </thead>\n",
       "  <tbody>\n",
       "    <tr>\n",
       "      <th>0</th>\n",
       "      <td>2025-04-19 00:00:00</td>\n",
       "      <td>2025.0</td>\n",
       "      <td>Unprovoked</td>\n",
       "      <td>Maldives</td>\n",
       "      <td>Kulhudhuffushi City</td>\n",
       "      <td>Haa Dhaalu atoll</td>\n",
       "      <td>snorkeling</td>\n",
       "      <td>Unknown Male</td>\n",
       "      <td>M</td>\n",
       "      <td>30</td>\n",
       "      <td>Injuries to right shoulder</td>\n",
       "      <td>N</td>\n",
       "      <td>Not stated</td>\n",
       "      <td>Not stated</td>\n",
       "      <td>Todd Smith: The edition: https://en.sun.mv/96031</td>\n",
       "    </tr>\n",
       "    <tr>\n",
       "      <th>1</th>\n",
       "      <td>2025-04-12 00:00:00</td>\n",
       "      <td>2025.0</td>\n",
       "      <td>Unprovoked</td>\n",
       "      <td>USA</td>\n",
       "      <td>Florida</td>\n",
       "      <td>Everglades National Park Flamingo Lodge Highwa...</td>\n",
       "      <td>Undisclosed</td>\n",
       "      <td>Unknown Male</td>\n",
       "      <td>M</td>\n",
       "      <td>?</td>\n",
       "      <td>Injuries to right hand and arm</td>\n",
       "      <td>N</td>\n",
       "      <td>1500hrs</td>\n",
       "      <td>Not stated</td>\n",
       "      <td>Kevin McMurray Trackingsharks.com: Florida New...</td>\n",
       "    </tr>\n",
       "    <tr>\n",
       "      <th>2</th>\n",
       "      <td>2025-03-26 00:00:00</td>\n",
       "      <td>2025.0</td>\n",
       "      <td>Unprovoked</td>\n",
       "      <td>Australia</td>\n",
       "      <td>WA</td>\n",
       "      <td>Sandtrax Port Beach North Fremantle Perth</td>\n",
       "      <td>Swimming</td>\n",
       "      <td>Unknown Male</td>\n",
       "      <td>M</td>\n",
       "      <td>30+</td>\n",
       "      <td>Bumping to the body</td>\n",
       "      <td>N</td>\n",
       "      <td>1430hrs</td>\n",
       "      <td>1.5m Tiger shark</td>\n",
       "      <td>Kevin McMurray Trackingsharks.com: www.surfer....</td>\n",
       "    </tr>\n",
       "    <tr>\n",
       "      <th>3</th>\n",
       "      <td>2025-03-10 00:00:00</td>\n",
       "      <td>2025.0</td>\n",
       "      <td>Unprovoked</td>\n",
       "      <td>Australia</td>\n",
       "      <td>WA</td>\n",
       "      <td>Duke of Orleans Bay</td>\n",
       "      <td>Surfing</td>\n",
       "      <td>Steven Jeffrey Payne</td>\n",
       "      <td>M</td>\n",
       "      <td>37</td>\n",
       "      <td>Missing body not recovered</td>\n",
       "      <td>Y</td>\n",
       "      <td>1210 hrs</td>\n",
       "      <td>Great White Shark</td>\n",
       "      <td>Bob Myatt</td>\n",
       "    </tr>\n",
       "    <tr>\n",
       "      <th>4</th>\n",
       "      <td>2025-03-07 00:00:00</td>\n",
       "      <td>2025.0</td>\n",
       "      <td>Unprovoked</td>\n",
       "      <td>Australia</td>\n",
       "      <td>NSW</td>\n",
       "      <td>Gunyah beach Bundeena Port Hacking</td>\n",
       "      <td>Swimming</td>\n",
       "      <td>Mangyong Zhang</td>\n",
       "      <td>F</td>\n",
       "      <td>56</td>\n",
       "      <td>Serious lacerations above right knee.</td>\n",
       "      <td>N</td>\n",
       "      <td>1340hrs</td>\n",
       "      <td>Bull shark</td>\n",
       "      <td>Bob Myatt</td>\n",
       "    </tr>\n",
       "  </tbody>\n",
       "</table>\n",
       "</div>"
      ],
      "text/plain": [
       "                  Date    Year        Type    Country                State  \\\n",
       "0  2025-04-19 00:00:00  2025.0  Unprovoked   Maldives  Kulhudhuffushi City   \n",
       "1  2025-04-12 00:00:00  2025.0  Unprovoked        USA              Florida   \n",
       "2  2025-03-26 00:00:00  2025.0  Unprovoked  Australia                   WA   \n",
       "3  2025-03-10 00:00:00  2025.0  Unprovoked  Australia                   WA   \n",
       "4  2025-03-07 00:00:00  2025.0  Unprovoked  Australia                  NSW   \n",
       "\n",
       "                                            Location     Activity  \\\n",
       "0                                   Haa Dhaalu atoll   snorkeling   \n",
       "1  Everglades National Park Flamingo Lodge Highwa...  Undisclosed   \n",
       "2          Sandtrax Port Beach North Fremantle Perth     Swimming   \n",
       "3                                Duke of Orleans Bay      Surfing   \n",
       "4                 Gunyah beach Bundeena Port Hacking     Swimming   \n",
       "\n",
       "                   Name Sex  Age                                 Injury  \\\n",
       "0          Unknown Male   M   30             Injuries to right shoulder   \n",
       "1          Unknown Male   M    ?         Injuries to right hand and arm   \n",
       "2          Unknown Male   M  30+                    Bumping to the body   \n",
       "3  Steven Jeffrey Payne   M   37             Missing body not recovered   \n",
       "4        Mangyong Zhang  F    56  Serious lacerations above right knee.   \n",
       "\n",
       "  Fatal_Y/N        Time            Species  \\\n",
       "0         N  Not stated         Not stated   \n",
       "1         N     1500hrs         Not stated   \n",
       "2         N     1430hrs   1.5m Tiger shark   \n",
       "3         Y    1210 hrs  Great White Shark   \n",
       "4         N     1340hrs         Bull shark   \n",
       "\n",
       "                                              Source  \n",
       "0   Todd Smith: The edition: https://en.sun.mv/96031  \n",
       "1  Kevin McMurray Trackingsharks.com: Florida New...  \n",
       "2  Kevin McMurray Trackingsharks.com: www.surfer....  \n",
       "3                                          Bob Myatt  \n",
       "4                                          Bob Myatt  "
      ]
     },
     "execution_count": 279,
     "metadata": {},
     "output_type": "execute_result"
    }
   ],
   "source": [
    "# Step 1:\n",
    "\n",
    "# Drop Empty Columns (Discrepancy between number of columns between the excel document and data frame)\n",
    "\n",
    "columns_to_drop = ['pdf', 'href formula', 'href', 'Case Number', 'Case Number.1', 'original order', 'Unnamed: 21', 'Unnamed: 22']\n",
    "df = df.drop(columns=columns_to_drop)\n",
    "\n",
    "# Remove Duplicates and Clean Column Names\n",
    "# Drop duplicate rows\n",
    "df = df.drop_duplicates()\n",
    "\n",
    "# Clean column names: strip spaces, replace spaces with underscores, ensure is capitalized\n",
    "df.columns = df.columns.str.strip().str.replace(' ', '_').str.title()\n",
    "\n",
    "print(df.shape)\n",
    "print(df.columns)\n",
    "df.head()\n"
   ]
  },
  {
   "cell_type": "code",
   "execution_count": 281,
   "id": "0ed9d09f-29be-49e8-bed9-050b77b7b992",
   "metadata": {},
   "outputs": [
    {
     "name": "stdout",
     "output_type": "stream",
     "text": [
      "                  Date    Year        Type    Country                State  \\\n",
      "0  2025-04-19 00:00:00  2025.0  Unprovoked   Maldives  Kulhudhuffushi City   \n",
      "1  2025-04-12 00:00:00  2025.0  Unprovoked        USA              Florida   \n",
      "2  2025-03-26 00:00:00  2025.0  Unprovoked  Australia                   WA   \n",
      "3  2025-03-10 00:00:00  2025.0  Unprovoked  Australia                   WA   \n",
      "4  2025-03-07 00:00:00  2025.0  Unprovoked  Australia                  NSW   \n",
      "\n",
      "                                            Location     Activity  \\\n",
      "0                                   Haa Dhaalu atoll   snorkeling   \n",
      "1  Everglades National Park Flamingo Lodge Highwa...  Undisclosed   \n",
      "2          Sandtrax Port Beach North Fremantle Perth     Swimming   \n",
      "3                                Duke of Orleans Bay      Surfing   \n",
      "4                 Gunyah beach Bundeena Port Hacking     Swimming   \n",
      "\n",
      "                   Name Sex  Age                                 Injury  \\\n",
      "0          Unknown Male   M   30             Injuries to right shoulder   \n",
      "1          Unknown Male   M    ?         Injuries to right hand and arm   \n",
      "2          Unknown Male   M  30+                    Bumping to the body   \n",
      "3  Steven Jeffrey Payne   M   37             Missing body not recovered   \n",
      "4        Mangyong Zhang  F    56  Serious lacerations above right knee.   \n",
      "\n",
      "  Fatal_Y/N        Time            Species  \\\n",
      "0         N  Not stated         Not stated   \n",
      "1         N     1500hrs         Not stated   \n",
      "2         N     1430hrs   1.5m Tiger shark   \n",
      "3         Y    1210 hrs  Great White Shark   \n",
      "4         N     1340hrs         Bull shark   \n",
      "\n",
      "                                              Source  \n",
      "0   Todd Smith: The edition: https://en.sun.mv/96031  \n",
      "1  Kevin McMurray Trackingsharks.com: Florida New...  \n",
      "2  Kevin McMurray Trackingsharks.com: www.surfer....  \n",
      "3                                          Bob Myatt  \n",
      "4                                          Bob Myatt  \n",
      "count    5195.000000\n",
      "mean     1994.643118\n",
      "std        21.975230\n",
      "min      1950.000000\n",
      "25%      1975.000000\n",
      "50%      2001.000000\n",
      "75%      2013.000000\n",
      "max      2026.000000\n",
      "Name: Year, dtype: float64\n"
     ]
    }
   ],
   "source": [
    "# Ensure 'Year' is numeric for filtering\n",
    "df[\"Year\"] = pd.to_numeric(df[\"Year\"], errors=\"coerce\")\n",
    "\n",
    "# Keep only data from 1950 onwards\n",
    "df_filtered = df[df[\"Year\"] >= 1950]\n",
    "\n",
    "# Display filtered data \n",
    "print(df_filtered.head())\n",
    "print(df_filtered[\"Year\"].describe())  # Check year range\n",
    "df = df_filtered.copy()\n"
   ]
  },
  {
   "cell_type": "code",
   "execution_count": 283,
   "id": "3bc1683f-d5df-417b-b3cf-b035d08e020d",
   "metadata": {},
   "outputs": [],
   "source": [
    "df.to_csv(\"filtered_shark_attacks.csv\", index=False)\n"
   ]
  },
  {
   "cell_type": "code",
   "execution_count": 285,
   "id": "8729851a-a3b0-49b5-9e0d-ca62c2e5b08c",
   "metadata": {},
   "outputs": [
    {
     "name": "stdout",
     "output_type": "stream",
     "text": [
      "           Missing Percentage\n",
      "Time                    39.73\n",
      "Species                 36.27\n",
      "Age                     31.18\n",
      "Sex                      7.93\n",
      "Fatal_Y/N                7.43\n",
      "Activity                 6.83\n",
      "Location                 5.70\n",
      "State                    4.77\n",
      "Name                     2.33\n",
      "Injury                   0.40\n",
      "Source                   0.31\n",
      "Type                     0.27\n",
      "Country                  0.27\n",
      "Date                     0.00\n",
      "Year                     0.00\n"
     ]
    }
   ],
   "source": [
    "# Step 2 - Check Missing Values\n",
    "# Calculate missing data for each column\n",
    "missing_percentage = (df.isnull().sum() / len(df)) * 100\n",
    "\n",
    "# Round the missing percentage to two decimal places\n",
    "missing_percentage = missing_percentage.round(2)\n",
    "\n",
    "# Put it into a table and sort it\n",
    "missing_table = missing_percentage.sort_values(ascending=False).to_frame('Missing Percentage')\n",
    "\n",
    "# Show the missing data\n",
    "print(missing_table)"
   ]
  },
  {
   "cell_type": "code",
   "execution_count": 287,
   "id": "97229b60-61c2-457c-ae6e-4623e004d981",
   "metadata": {},
   "outputs": [
    {
     "name": "stdout",
     "output_type": "stream",
     "text": [
      "         Date  Year\n",
      "0  19-04-2025  2025\n",
      "1  12-04-2025  2025\n",
      "2  26-03-2025  2025\n",
      "3  10-03-2025  2025\n",
      "4  07-03-2025  2025\n",
      "(5195, 15)\n"
     ]
    }
   ],
   "source": [
    "# Step 3: Cleaning Process\n",
    "\n",
    "# Fix 'Date' and 'Year'\n",
    "# Convert 'Date' to datetime\n",
    "df['Date'] = pd.to_datetime(df['Date'], errors='coerce')\n",
    "\n",
    "# Change date format from (year, month, day) to (day, month, year)\n",
    "df['Date'] = df['Date'].dt.strftime('%d-%m-%Y')\n",
    "\n",
    "# Drop rows where 'Year' is missing\n",
    "df = df.dropna(subset=['Year'])\n",
    "\n",
    "# Convert 'Year' to integer\n",
    "df['Year'] = df['Year'].astype(int)\n",
    "\n",
    "# Check sample\n",
    "print(df[['Date', 'Year']].head())\n",
    "print(df.shape)"
   ]
  },
  {
   "cell_type": "code",
   "execution_count": 289,
   "id": "90f62b0a-60fe-4106-be05-decdb90cee3a",
   "metadata": {},
   "outputs": [
    {
     "name": "stdout",
     "output_type": "stream",
     "text": [
      "['Unprovoked' 'Questionable' 'Provoked' 'Watercraft' 'Sea Disaster'\n",
      " 'Unknown']\n"
     ]
    }
   ],
   "source": [
    "# Cleaning 'Type' column\n",
    "\n",
    "def clean_attack_type(df):\n",
    "    \"\"\"Cleans and standardizes the 'Type' column in a DataFrame.\"\"\"\n",
    "\n",
    "    # Define replacements for standardization\n",
    "    replace_dict = {\n",
    "        'Provoked': 'Provoked',\n",
    "        'Unprovoked': 'Unprovoked',\n",
    "        'Invalid': 'Unknown',\n",
    "        'Watercraft': 'Watercraft',\n",
    "        'Sea Disaster': 'Sea Disaster',\n",
    "        'Questionable': 'Questionable',\n",
    "        'Boat': 'Watercraft',  # Merge Boat under Watercraft\n",
    "        '?': 'Unknown',\n",
    "        'Unconfirmed': 'Unknown',\n",
    "        'Unverified': 'Unknown',\n",
    "        'Under investigation': 'Unknown'\n",
    "    }\n",
    "\n",
    "    # Fill missing values and apply replacements\n",
    "    df['Type'] = df['Type'].fillna('Unknown').replace(replace_dict)\n",
    "\n",
    "    # Ensure consistent formatting\n",
    "    df['Type'] = df['Type'].str.title()\n",
    "\n",
    "    # Remove leading/trailing spaces to standardize entries\n",
    "    df['Type'] = df['Type'].str.strip()\n",
    "\n",
    "    # Check unique values again\n",
    "    print(df['Type'].unique())\n",
    "\n",
    "    return df\n",
    "\n",
    "# Example usage:\n",
    "df = clean_attack_type(df)\n",
    "\n"
   ]
  },
  {
   "cell_type": "code",
   "execution_count": 291,
   "id": "4f996bdf-dd7b-4f21-99dd-498766176f4c",
   "metadata": {
    "scrolled": true
   },
   "outputs": [
    {
     "name": "stdout",
     "output_type": "stream",
     "text": [
      "['snorkeling' 'Undisclosed' 'Swimming' ... 'Diving for coins'\n",
      " 'Spearfishing, but walking carrying fish on end of speargun'\n",
      " 'Helmet diving, collecting trochus shell']\n",
      "snorkeling\n",
      "Undisclosed\n",
      "Swimming\n",
      "Surfing\n",
      "SCUBA Diving\n",
      "Kayaking\n",
      "Fishing was pulled of boat by shark\n",
      "Snorkeling\n",
      "Bathing\n",
      "Spearfishing\n",
      "Diving\n",
      "Disappeared whilst diving remains found in shark\n",
      "Diving for shellfish\n",
      "Swimming - jumped off yacht\n",
      "Swimming - Diving \n",
      "Diving into Water\n",
      "Wading\n",
      "Playing football in the water\n",
      "Unconfirmed Possibly swimming near the boat harbour\n",
      "Swimming ocean training \n",
      "Military ocean training\n",
      "snorkelling\n",
      "Freediving\n",
      "Jumpinf from dock to boat acidentally fell into water at marina\n",
      "Fishing\n",
      "Free diving\n",
      "Foil Boarding\n",
      "Paddle boarding\n",
      "Scuba diving\n",
      "On a round-the-world expedition\n",
      "Kayak fishing\n",
      "nan\n",
      "Towing a dead whale out to sea\n",
      "Boogie boarding\n",
      "Sitting\n",
      "Watching the sardine run\n",
      "Standing\n",
      "Filming\n",
      "Kite surfing\n",
      "Jumped overboard\n",
      "Shark Feeding\n",
      "Diving for crayfish\n",
      "Windsurfing\n",
      "Kite-Surfing\n",
      "Surf-sking\n",
      "Diving with  surface-supplied air\n",
      "Spearishing\n",
      "Snorkeling at Shark Feeding site\n",
      "Diving/Shark Feeding\n",
      "Surf skiing \n",
      "Shipwreck\n",
      "Swimming  or Snorkeling\n",
      "Paddleboarding\n",
      "Lobstering\n",
      "Lifeguard Training Exercise\n",
      "Lifeguard Exercises\n",
      "Scalloping\n",
      "Jumped into water\n",
      "Playing in the water\n",
      "Feeding sharks & stingrays\n",
      "Fihing\n",
      "Surface Supplied  Diving\n",
      "Floating in inflatable pool ring\n",
      "Fishing for sharks\n",
      "Wing Foil Surfing\n",
      "Swimmingq\n",
      "Playing\n",
      "Fishing, fell in water\n",
      "Harassing sharks\n",
      "Squatting in the water\n",
      "Moving captive shark\n",
      "Jackass Team's publicity stunt for Discovery Channel's Shark Week 2021\n",
      "Canoeing\n",
      "Parasailing\n",
      "Kite Foiling\n",
      "Baiting sharks\n",
      "Boggie boarding\n",
      "Stand Up Paddleboarding\n",
      "Tagging sharks\n",
      "Body boarding\n",
      "Body surfing\n",
      "Swimming / Kayaking\n",
      "Fell off fishing boat\n",
      "Body Surfing\n",
      "Foil-boarding\n",
      "Surf fishing\n",
      "Fishing / Filming sharks feeding on whale carcass\n",
      "Sightseeing\n",
      "Treading water\n",
      "Skimboarding\n",
      "Body Boarding\n",
      "Stand-Up Paddleboarding\n",
      "Stand-Up Paddle boarding\n",
      "Floating \n",
      "Swimming after being swept off rocks\n",
      "Feeding sharks\n",
      "Kayaking fishing\n",
      "Swimming/ Treading water\n",
      "Spearfishing / Diving\n",
      "Fishing \n",
      "Body-surfing\n",
      "Abalone diving\n",
      "Swimming with sharks\n",
      "Picking opihi\n",
      "Diving in shark tank\n",
      "Paddling an outrigger canoe\n",
      "Diving / Filming\n",
      "Swimming/Standing\n",
      "Putting hand in shark tank\n",
      "Boogie Boarding\n",
      "Floating\n",
      "Paddling\n",
      "Scuba Diving\n",
      "Walking\n",
      "Surf-skiing\n",
      "Foilboarding\n",
      "Cleaning fish\n",
      "Fishing / Wading\n",
      "2 boats capsized\n",
      "Night bathing\n",
      "Surfing \n",
      "Kayaking / Fishing\n",
      "Swimming, poaching abalone\n",
      "SUP\n",
      "Touching a shark\n",
      "Attempting to lasso a shark\n",
      "Photo shoot\n",
      "Kakaying\n",
      "Washing hands\n",
      "Grabbing shark for a selfie\n",
      "Not stated\n",
      "Body Recovery\n",
      "Cage Diving\n",
      "Surfng\n",
      "SUP Foil boarding\n",
      "Floating in tube\n",
      "Teasing a shark\n",
      "Diving for beche-de-mer\n",
      "Feeding stingrays?\n",
      "Sea disaster\n",
      "Lobster fishing\n",
      "Swimming / Wading\n",
      "Fishing for shrimp\n",
      "Photographing fish\n",
      "Kayak Fishing\n",
      "Scallop diving on hookah\n",
      "Body boarding \n",
      "Body surfing?\n",
      "Attempting to rescue a shark\n",
      "Photographing the shark\n",
      "Standing / Snorkeling\n",
      "Hand feeding sharks\n",
      "Sitting in the water\n",
      "Transatlantic Rowing\n",
      "Bodysurfing\n",
      "Rowing\n",
      "Shark fishing\n",
      "Surfing & filming dolphins\n",
      "Swimming after falling overboard\n",
      "Fishing for blue sharks\n",
      "Standing in inner tube\n",
      "Body surfing or Boogie boarding\n",
      "Kayaking \n",
      "Feeding fish\n",
      "Playing with an air mattress\n",
      "Kite boarding\n",
      "Shark diving\n",
      "Petting a shark\n",
      "Kneeling in the water\n",
      "Fell into the water\n",
      "Shark watching\n",
      "Diving for lobsters\n",
      "Kite Surfing\n",
      "Scuba diving / culling lionfish\n",
      "Kitesurfing\n",
      "Sailing\n",
      "Spearfishing / Free diving\n",
      "Free diving / Photographing pilot whales\n",
      "Filming a documentary\n",
      "Attempting to remove fishing net from submerged object\n",
      "Kiteboarding\n",
      "Diving \n",
      "Swimming / snorkeling\n",
      "Diving for Abalone\n",
      "Casting a net\n",
      "Marathon swimming\n",
      "Longline fishing for sharks\n",
      "Wrangling a shark\n",
      "Attempting to free the shark\n",
      "Walking in surf\n",
      "Swimming \n",
      "Swimming & snorkeling\n",
      "Playing in the surf\n",
      "Fly fishing\n",
      "Fishing - 'tag & release'\n",
      "Swimming to shore with floatioon devices after boat engine conked out\n",
      "Dragging stranded shark into deeper water\n",
      "Bodyboarding\n",
      "Swimming or boogie boarding\n",
      "Wading or swimming\n",
      "Free diving \n",
      "Attempting to rescue an injured & beached shark\n",
      "Free diving / spearfishing\n",
      "Crayfishing\n",
      "Diving, feeding sharks\n",
      "Attempting to Kite surf from Egypt to Saudi Arabia\n",
      "Fishing (illegally)\n",
      "Diving, photographing sharks\n",
      "Wade fishing\n",
      "Jumping in the waves\n",
      "Wade Fishing\n",
      "Standing, collecting sea stars\n",
      "Swimming or Snorkeling\n",
      "Kayaking or Wave skiing\n",
      "Jet skiing\n",
      "Standing or boogie boardin\n",
      "Kite Boarding\n",
      "Washing sand off a speared fish\n",
      "Standing, holding shark pup\n",
      "Diving / fishing\n",
      "Wakeboarding\n",
      "Diving for abalone\n",
      "Shark fishing on the Ricardo Astorga\n",
      "Shark fishing on the Don Agustín-VI. \n",
      "Attempting to fix motor\n",
      "Swimming /  Whale Watching\n",
      "Swimming after boat became disabled\n",
      "Rescuing\n",
      "Measuring sharks\n",
      "Swimming / treading water\n",
      "Surf fishing / wading\n",
      "Spearfishing (free diving)\n",
      "Paddling on kneeboard\n",
      "Swimming to shore from capsized kayak\n",
      "Paddle-boarding\n",
      "Swimming, attempting to rescue a girl  believed to be drowning\n",
      "Washing his feet\n",
      "Paddle-surfing\n",
      "Crawling\n",
      "Diving, but on the surface when bitten by the shark\n",
      "Air Disaster\n",
      "Crabbing\n",
      "Yacht race\n",
      "Sinking of the cargo ship Mark Jason\n",
      "Fishing boat swamped in storm\n",
      "Swimming, towing surfboard\n",
      "Swimming or surfing\n",
      "Rowing an inflatable dinghy\n",
      "Sea Disaster\n",
      "Night diving\n",
      "Free-diving\n",
      "Walking out of the water after surfing\n",
      "Fishing from surfski\n",
      "Accidentally stood on hooked shark's tail before attempting to gut it \n",
      "Attempting to chase shark out to sea\n",
      "Fishing for snapper\n",
      "Removing fish from a trap\n",
      "The 426-ton cargo ship Mia, laden with cement, capsized in heavy seas \n",
      "Wading?\n",
      "Jumping\n",
      "Floating near boat & observing bioluminesce\n",
      "Jumped into the water\n",
      "Surf paddling\n",
      "Murder\n",
      "Removing hook from shark\n",
      "Reviving a sedated shark\n",
      "Shark tagging\n",
      "Swimming / jumping off a jetty\n",
      "Playing on a sandbar\n",
      "Shrimping\n",
      "Swimming / Body Surfing\n",
      "Playing soccer in the water\n",
      "Free diving / modeling\n",
      "Diving / Kissing the shark\n",
      "Lifesaving drill\n",
      "Touching sharks\n",
      "Competing in the Woodvale Atlantic Rowing Race\n",
      "Night Surfing\n",
      "Standing / Surfing\n",
      "Treading water/ Surfing\n",
      "Removing shark from net\n",
      "Boogie boarding, kicked at object in the water\n",
      "Scuba diving in aquarium tank\n",
      "Holding onto an inflatable boat\n",
      "Swimming with boogie board\n",
      "Spearfishing (Free diving)\n",
      "Crouching in 2' of water\n",
      "Diving in aquarium display tank\n",
      "Attempting to drive shark away from sailing regatta\n",
      "Fishing from a kayak\n",
      "Swept out to sea by the tsunami, she clung  to a log for 24 hours\n",
      "Scurfing (surfboard being  towed behind a boat)\n",
      "Chumming for white sharks\n",
      "Spearfishing/ filming\n",
      "Diving & fishing with net\n",
      "Wading / fishing & carrying a bag of fish\n",
      "Fishing for squid aboard the trawler Shikishima-Maru when the shark leapt into the boat\n",
      "In water with diving seabirds\n",
      "Swimming, poaching perlemoen\n",
      "Boogie-boarding / swimming\n",
      "Free diving & spearfishing\n",
      "Tandem surfing\n",
      "Five men on makeshift raft after their 10 m fishing boat  capsized and sank in rough seas. Survivors rescued after  7.5 hours in the water\n",
      "Surf skiing\n",
      "Kayaking (returning from spearfishing)\n",
      "Air disaster. Flash Airlines Boeing 737 crashed into the Red Sea\n",
      "Swimming / shipwreck\n",
      "Surfing amid a shoal of sharks\n",
      "Swimming to shore from boat or kayak\n",
      "Sitting on surfboard\n",
      "Wading near a fishing net\n",
      "Wading to shore from his boat\n",
      "Standing, stepped on shark\n",
      "Wade-fishing\n",
      "Swimming, wearing black wetsuit & swim fins\n",
      "Walking, carrying surfboard & stepped on shark\n",
      "Swimming with pod of dolphins\n",
      "Killing  sharks\n",
      "Swimming (using a float)\n",
      "Petting captive sharks\n",
      "Unknown\n",
      "Fishing, standing in 2' of water\n",
      "Fishing from Surfboard\n",
      "Boogie boarding or Surfing\n",
      "Wading, when he stepped on the shark\n",
      "Shark Fishing\n",
      "Attempting to retreive a dinghy\n",
      "Snorkeling (filming the sardine run)\n",
      "Floating on a raft\n",
      "Fishing, removing the shark from his line\n",
      "Playing in the surf with his 2 dogs\n",
      "Collecting beche-de-mer\n",
      "Fishing from prawn trawler\n",
      "Scallop diving (using surface-supplied air & a POD) \n",
      "Fishing (Drowned 2-Apr-2002)\n",
      "Surfing, but standing in water alongside board\n",
      "Body-boarding\n",
      "Swimming /  boogie boarding\n",
      "Capsized fishing boat\n",
      "Kite-Boarding\n",
      "Surfing, fell off surfboard & stepped on the shark.\n",
      "Wreck / Technical diving\n",
      "Walking in shallows\n",
      "Fell off banana boat\n",
      "Floating face-down in knee-deep water\n",
      "Hiking on the beach\n",
      "Spearfishing, carrying his catch\n",
      "Standing alongside surfboard\n",
      "Batin\n",
      "Attempting to catch a crocodile\n",
      "Sinking of the 40' Esperanza off St. Maartin with 36 refugees on board\n",
      "Fishing for whiting\n",
      "Swimming back from anchored sailboat\n",
      "Diving for sea urchins\n",
      "Diving (shell maintenance)\n",
      "Shipwrecked\n",
      "Fell onto dead shark\n",
      "Standing / surfing\n",
      "Swimming / Body surfing\n",
      "Conducting research\n",
      "Swimming out to porpoises \n",
      "Windsurfing, but sitting on his board\n",
      "Surfing / Wading\n",
      "Attempting to illegally enter the USA\n",
      "Spearfishing, holding mesh bag with speared fish\n",
      "Air Disaster - Piper aircraft crashed into the sea, killing all on board\n",
      "Boogie boarding / wading\n",
      "Feeding prawns to captive sharks\n",
      "Canoe with 3 men onboard sank\n",
      "Fishing for tarpon\n",
      "Surfing (sitting on his board)\n",
      "Spearfishing, but swimming at surface\n",
      "Surfing, lying on surfboard\n",
      "Wading to shore after surfing\n",
      "Wading with surfboard\n",
      "Lying prone in 2' of water\n",
      "Spearfishing & holding catch\n",
      "Swimming with dolphins\n",
      "Wading in school of baitfish\n",
      "Adrift in a life jacket\n",
      "Splashing / wading\n",
      "Swimming after being swept into sea by a large wave\n",
      "Spearfishing & diving for paua\n",
      "Scientific research (Dr. Sonny Gruber's student)\n",
      "Swimming, towing a kayak\n",
      "Body surfing or body boarding\n",
      "Swimming near pod of whales\n",
      "Cruising\n",
      "Paddle Skiing\n",
      "Inflatable boat\n",
      "Splashing\n",
      "Fishing for tuna\n",
      "Fishing / washing bait off hands\n",
      "Moving a shark in a net \n",
      "Surfing (or body boarding)\n",
      "Free diving for abalone\n",
      "Swimming / surfing\n",
      "Towing rubber dinghy\n",
      "Surfing (lying prone on his board)\n",
      "Snorkeling – hunting crayfish and abalone\n",
      "Swimming or paddle boarding\n",
      "Spearfishing on scuba & transferring fish onto a stringer\n",
      "Scuba diving (submerged riding a scooter)\n",
      "Body boarding or surfing\n",
      "Fishingat\n",
      "Walking / surfing\n",
      "SCUBA diving\n",
      "Floating on raft\n",
      "Wading / Surfing\n",
      "Fishing for octopus\n",
      "Spearfishing / night diving\n",
      "Body surfing, stood up on sandbar\n",
      "Rowing \n",
      "Watching seals\n",
      "Attempting to attract dolphins\n",
      "Swimming or snorkeling\n",
      "Surfing / Swimming\n",
      "Free diving with a pod of dolphins\n",
      "Tech diving \n",
      "Shell Diving\n",
      "Swimming breast stoke\n",
      "Fishing in knee-deep water\n",
      "Dived naked into the water on a bet\n",
      "Swimming in fish tank\n",
      "Boeing 757 enroute from Porta Plata plunged into the sea\n",
      "Swimming with mask & snorkel\n",
      "Chumming for sharks\n",
      "Diving, gathering shellfish\n",
      "Fell off aircraft carrier\n",
      "Playing / standing\n",
      "Abalone diving using Hookah (near calving whales)\n",
      "Abalone diving using Hookah (resting on the surface)\n",
      "On a float\n",
      "\"Riding waves on a board\"\n",
      "Jumped off surfboard & landed on the shark\n",
      "Scuba diving (ascending using scooter)\n",
      "Playing / jumping\n",
      "Sleeping in anchored boat\n",
      "Scuba diving for bivalves\n",
      "Wind surfing\n",
      "Surfing, sitting on board\n",
      "Murder victim\n",
      "Commercial diver (submerged or treading water)\n",
      "Surfing, paddling seawards\n",
      "Adrift on refugee raft\n",
      "Jumped off rocks into white water\n",
      "Freediving for seashells\n",
      "Swimming alongside NOAA research vessel Discoverer\n",
      "Removing shark from tank in nightclub \n",
      "Swimming, after falling off towed kneeboard\n",
      "Playing volleyball with friends\n",
      "Hookah diving\n",
      "Surfing, paddling shorewards\n",
      "Stamding\n",
      "Watching the shark feeding on a dead pinniped\n",
      "Riding floatation device\n",
      "Free diving for abalone (ascending)\n",
      "Fishing for lobsters\n",
      "Oyster fishing\n",
      "Paddling on surfboard or body board\n",
      "Scuba diving at seal colony\n",
      "Floating on his back\n",
      "Paddling on surfboard\n",
      "Free diving & spearfishing (ascending)\n",
      "   \n",
      "Standing in waist-deep water, helping his father tend a gill net containing dead fish\n",
      "Lying on surfboard\n",
      "Spearfishing / free diving\n",
      "Scuba diving (submerged)\n",
      "Hookah diving for sea urchins\n",
      "Snorkeling, carrying a speared fish in her hand\n",
      "Fell from cliff while fishing & disappeared in strong current\n",
      "Fisherman\n",
      "Zosimo & his son, Jeffrey Popa, failed to return from overnight fishing trip in a 14' boat, Boat apparently sank, debris recovered but his son & boat were never found\n",
      "Preparing to fish for jack-mackerel\n",
      "Scuba diving \n",
      "Scuba diving & filming\n",
      "Hookah diving for pen shells \n",
      "Fishing for yellowtail, Seriola quinqueradiata\n",
      "Diving for pen shells\n",
      "Fishing from rocks, swept out to sea by large wave & treading water\n",
      "Finning the shark that bit him\n",
      "Swimming from makeshift raft  to life vest after fishing boat sank\n",
      "Swimming behind sailboat\n",
      "Surfing, collided with shark\n",
      "Surfing (or sailboarding)\n",
      "Scuba diving (but on surface)\n",
      "Free diving / spearfishing, from paddleboard & floating on the surface\n",
      "Snorkeling, possibly holding a fish\n",
      "Resting on surfboard\n",
      "Lying on surfboard & paddling\n",
      "Free diving for trochus\n",
      "Scuba diving & spearfishing\n",
      "Board sailing\n",
      "On board 51' fishing vessel One Ki\n",
      "Wading, knocked down & swept away by large waves\n",
      "Swimming in canal\n",
      "Fishing, stepped on hooked shark's head\n",
      "Observing a shark feeding on a carcass of a humpback whale\n",
      "Hookah diving for abalone (descending)\n",
      "Filming 5' blue shark\n",
      "Playing \n",
      "Fell off surfboard 20' from shore\n",
      "Windsurfing (urinating on his board)\n",
      "Scuba diving, but swimming on surface\n",
      "Swimming in strong current with 3 others when he disappeared\n",
      "Surfing with dolphins\n",
      "Scuba diving, hand feeding sharks\n",
      "Spearfishing using scuba & trailing a string of bleeding fish\n",
      "Skindiving\n",
      "The Christie V sank on 11/6/1988, survivors were adrift on a dinghy\n",
      "The MV Dona Marilyn sank in Typhoon Unsang with the loss of 389 lives\n",
      "Diving in Sharkey's Reef restaurant’s aquarium\n",
      "Free diving & spearfishing \n",
      "Spearfishing on scuba\n",
      "Sittting in water with his child\n",
      "Shell diving\n",
      "Surfing / treading water\n",
      "pêcheur de bichiques\n",
      "Onboard 21' powerboat that capsized in rough seas\n",
      "Standing \n",
      "Lying atop surfboard\n",
      "Drift fishing\n",
      "Fell overboard  from the Taiwanese fishing trawler Lien Cheng Feu \n",
      "Attempting to lasso shark's tail\n",
      "Returning to shore, collided with shark\n",
      "Ferry boat Dona Paz with 4431 passengers exploded & caught fire when she collided with an  oil tanker \n",
      "Vessel caught fire & capsized, survivors in the water\n",
      "Scuba Diving for scallops\n",
      "Dropping anchor\n",
      "Swimming from shore to anchored sailboat\n",
      "The inter-island ferry Vula sank in heavy weather\n",
      "Jumped into the water from a cliff\n",
      "Boat\n",
      "Adrift after ditching plane in the sea\n",
      "Free diving  & spearfishing (submerged)\n",
      "NSB Meshing\n",
      "Racing ski\n",
      "Fishing, fell from rocks & disappeared\n",
      "Diving for abalone (Hookah)\n",
      "Floating on inner tube after diving for lobster\n",
      "Free diving & spearfishing (descending)\n",
      "Bottom fishing for lingcod & had hooked a fish\n",
      "Playing in knee-deep water\n",
      "Surfing, but lying prone on his board\n",
      "Free diving for scallops\n",
      "Scuba Diving for lobster (at surface)\n",
      "Investigating shark sighting\n",
      "Sailing on catamaran & fell into the water\n",
      "Surfing or body surfing\n",
      "Free diving , but surfacing\n",
      "Boat capsized?\n",
      "Sea disaster, foundering of the cargo vessle M/V Dorolonda\n",
      "During a shark fishing tournament, the 18' Boatem was capsized by waves, throwing 3 men into the water \n",
      "Towing her sister on plastic ski board\n",
      "Steinhart Aquarium\n",
      "Scuba diving for abalone\n",
      "Ferry boat sank\n",
      "Swimming from the New Venture \n",
      "14 m prawn trawler New Venture capsized  & sank in heavy seas Three people in the water\n",
      "Floating on air mattress\n",
      "Surfing & dangling foot in water amid baitfish\n",
      "Water-skiing\n",
      "Paddleskiing\n",
      "Ran into the water\n",
      "In waist-deep water\n",
      "Yacht Trashman capsized in storm\n",
      "Free diving for abalone from Zodiac (submerged)\n",
      "Paddle Boarding\n",
      "Spearfishing \n",
      "Sailboarding, fell into water 100 yards outside the breakwater\n",
      "Fishing on a boat\n",
      "Spearfishing, but swimming on surface\n",
      "Inspecting teeth of supposedly dead (hooked & shot) shark\n",
      "Diving to untangle a crab trap line from boat's propeller\n",
      "16' catamaran capsized previous night, occupants stayed with wreckage until morning, then attempted to swim ashore\n",
      "Snorkeling on surface\n",
      "Catching sardines\n",
      "Scuba diving, reportedly also spearfishing\n",
      "Foundering of the Israeli freighter Mezada\n",
      "Standing / Wading\n",
      "Free diving Spearfishing\n",
      "Exercising his dog in the shallows\n",
      "Commercial spearfishing\n",
      "Free diving / spearfishing, \n",
      "Diving in tuna net\n",
      "Resting on body board\n",
      "Skin diving\n",
      "Sinking of the ferryboat Don Juan\n",
      "Sinking of the ferryboat Bongbong 1\n",
      "Hookah Diving\n",
      "Gaffing netted shark\n",
      "Freedom swimming\n",
      "Murdered by Thai pirates\n",
      "Floating with life preserver after his boat foundered\n",
      "Floating on inner tube raft\n",
      "Explosion destroyed 28' boat, survivors in the water \n",
      "Fishing for mackerel\n",
      "Swimming, after single-engine aircraft went down in the sea\n",
      "Fishing for bottom fish\n",
      "Floating on an inflatable raft\n",
      "Free diving for abalone (surfacing)\n",
      "40' fishing boat sank\n",
      "Spearfishing / Scuba diving\n",
      "Collecting fish from net\n",
      "Fishing for yellowtail\n",
      "Their 9 m launch was run down by a 25,000-ton Japanese freighter  on the night of 3-11-1977 & they drifted, clinging to an icebox for 2 days\n",
      "Pushed surfmat of a young girl out of the shark's path, drawing shark's attention to his own board\n",
      "Diving for abalone (Hookah, submerged)\n",
      "Thrashing the water / imitating the shark victim from \"Jaws\"\n",
      "Fishing for white shark\n",
      "Skindiving,\n",
      "3,909-ton Panamanian freighter Chieh Lee sank in a typhoon\n",
      "Surfing, fell off surfboard\n",
      "Sitting in bow of her father's 5 m boat\n",
      "Competing in a light tackle game fishing\n",
      "Fishing for snoek & yellowtail\n",
      "Spearfishing / scuba diving\n",
      "Attempting to drive shark away from the beach\n",
      "Filming & feeding captive sharks\n",
      "Floating on a small orange raft \n",
      "Diving for abalone (Scuba)\n",
      "Diving for abaone (Scuba, but at surface)\n",
      "Swimming near his boat\n",
      "Spearfishing Competition\n",
      "Floating in inner tube\n",
      "Diving & force-feeding the shark\n",
      "Attempting to drag hooked shark ashore by its tail\n",
      "Ferry capsized\n",
      "Swimming underwater from crayfish cage to a fishing bait\n",
      " Diving for abalone (Hookah)\n",
      "3.3 m fishing boat sank. Treveluwe & Peter Hodgson (wearing lifejackets) were drifting in the current\n",
      "Freedom Swimming\n",
      "Free diving for abalone (submerged)\n",
      "Adrift after the sinking of the motor yacht Princess Dianne\n",
      "Free diving (but on surface)\n",
      "Fishing boat swamped in a storm\n",
      "Fishing for kob\n",
      "Fishing for red fish\n",
      "Swimming alongside yacht Mexico Fiesta\n",
      "Being pulled to shore from wreck of 25-ton fishing vessel Alan S\n",
      "Free diving, Spearfishing\n",
      "Crabbing (spearing crabs)\n",
      "Fishing from paddleski\n",
      "Scuba diving & U/W photography\n",
      "Sitting in shallows\n",
      "Free diving, collecting shells\n",
      "Scuba diving & feeding fish\n",
      "Hookah diving (submerged)\n",
      "Wreck of the 1689-ton Portuguese  coaster Angoche\n",
      "Fishing for prawns\n",
      "Sea Disaster Sinking of ferryboat Christina\n",
      "Motor launch Baby Princesa capsized with 22 people on board\n",
      "Air disaster\n",
      "Attempted to return injured shark to the sea\n",
      "Spearfishing / freediving\n",
      "Washing cooking pans\n",
      "Washing clothes on stairs\n",
      "Fishing, trying to catch the end of his fishing line\n",
      "Scuba diving for lobsters\n",
      "Free diving for abalone but at surface\n",
      "Surf-fishing\n",
      "Netting pilchards\n",
      "Hard hat diving\n",
      "Sight-seeing\n",
      "Feeding mullet to sharks\n",
      "Wreck of the Storm King\n",
      "Spearfishing using Scuba\n",
      "Sinking of the ferryboat Dumaguete \n",
      "Playing with a frisbee in the shallows\n",
      "Leaving the water\n",
      "Dynamite fishing\n",
      "Small boat with 2 men onboard hit a submerged coral formation. Men began swimming to shore\n",
      "Clamming\n",
      "Schooner sank during a storm\n",
      "Diving. Shark “swallowed’ his hand, so he threw his other around the shark and went “shark-back riding” for 30 yards until the shark opened its jaws\n",
      "Wading & pushing dinghy toward  the shallows\n",
      "Picking up shark by the tail\n",
      "Swimming after his canoe capsized\n",
      "Sinking of the M/V Mindoro during a typhoon\n",
      "Standing on sandbar\n",
      "Boat capsized between O'ahu & Molokai\n",
      "Pulling shark from the water\n",
      "Spearfishing on Scuba\n",
      "Spearfishing, dived to pick up a float line\n",
      "Anti-sabotage night dive exercise alongside destroyer (Scuba diving)\n",
      "Photographing sharks underwater using Scuba\n",
      "Beach seine netting\n",
      "Fishing boat\n",
      "Feeding a shark\n",
      "Vehicle plunged over cliff into the water\n",
      "The shrimper Loless Maurine capsized in heavy seas & the men were swimming ashore  \n",
      "Fishing for rock lobster\n",
      "Swimming in the channel\n",
      "A father bathing his smallest daughter when the shark bumped her out of his arms and carried her into deep water\n",
      "Free diving, carrying speargun\n",
      "Hunting crayfish \n",
      "Diving / UW photography\n",
      "Netting sharks\n",
      "Diving into water\n",
      "Lobster diving using Scuba\n",
      "Attacked shark with fists\n",
      "Diving for sand dollars\n",
      "Killing a shark\n",
      "Sinking of the dredge World Atlas\n",
      "The passenger ship Pioneer Cebu  capsized & sank in Typhoon Irma\n",
      "Overturned skiff\n",
      "Fishing (big game)\n",
      "The World Liberty and the tanker Mosli collided. The  Halcyon Breeze sent a lifeboat to the rescue, but it was smashed, throwing 6 men in the  water.\n",
      "Helping men land a shark\n",
      "wreck of the State Oil Company ship Permina\n",
      "Free diving / spearfishing (resting on the surface)\n",
      "Colombian  (Avianca) DC-4 airliner plunged into the sea 5 minutes after takeoff\n",
      "Body surfing \n",
      "Spearfishing, but standing in knee-deep water\n",
      "Fishing from 34' boat when pulled overboard by hooked shark\n",
      "Hauling dead shark aboard, when another shark leapt out of the water & bit him\n",
      "Argentine Air Force C-54\n",
      "The boat Caribou II sank\n",
      "Sunbathing on beach when he saw child being attacked by the shark\n",
      "Spearfishing, shot a turtle\n",
      "Spearing fish\n",
      "Fishing (rod & line)\n",
      "Arsinoe, a French tanker\n",
      "Attempting to anesthetize shark\n",
      "Diving, retrieving film package from Titan 3C rocket\n",
      "Walking on reef\n",
      "Aircraft exploded\n",
      "Motor boat Rebel Belle lost\n",
      "Paddling rescue ski\n",
      "Dangling feet in the water\n",
      "Collecting marine specimens\n",
      "Standing in waist-deep water\n",
      "Spearfishing, but standing in the water\n",
      "Bather\n",
      "Canoe swamped, swimming back to canoe\n",
      "Fishing with hand line tied to wrist & was pulled into the water\n",
      "Free diving with seals\n",
      "Swimming out to rescue swimmers in difficulty\n",
      "Filming underwater, carrying powerhead\n",
      "Longline fishing\n",
      "Boat Miss Becky  sank 12 miles from shore\n",
      "Surfing, but swimming to his board\n",
      "Floating on his back in an inner tube\n",
      "Spearfishing using scuba\n",
      "Free diving / Spearfishingat edge of reef\n",
      "Searching for remains of  Dr. Marais\n",
      "Yacht Gooney Bird foundered, 4 survivors on raft\n",
      "Standing / fishing\n",
      "canoeing\n",
      "Conducting a promotional film project for the Gemini space program (a practice astronaut recovery)\n",
      "Attempting to swim across the Atlantic Ocean\n",
      "Canoe capsized with 10 occupants, 8 survived,  Hamilton swam off to seek help\n",
      "Skin diving \n",
      "Free diving for shell\n",
      "Diving for trochus shell\n",
      "preparing to go skin diving\n",
      "Lying in 2 feet of water\n",
      "Spearfishing / Scuba diving (at surface)\n",
      "Diving for sinkers\n",
      "Sitting on gunwale of boat\n",
      "Greek steamship Lakonia caught fire, 98 of her 646 passengers, and 30 of her crew of 376 perished\n",
      "Helping friend land hooked shark\n",
      "Splashing in surf\n",
      "Treading water while alongside capsized yacht\n",
      "Fishing / standing in waist deep water\n",
      "Catching sharks under government contract\n",
      "Testing anti-shark cage\n",
      "Surf fishing, wading \n",
      "Commercial fishing vessel, Ev-nn, struck object & sank. Ken Crosby and  Jame & Ann Dumas adrift on makeshift raft.\n",
      "Spearfishing, pulled shark’s tail\n",
      "Swimming, when caught in heavy seas\n",
      "Fishing, on charter boat Silver Dollar\n",
      "63' fishing boat Sno' Bay foundered\n",
      "Seining for bait, standing in chest-deep water\n",
      "Boat, with 42 passengers onboard, capsized in rough seas\n",
      "Surfing on \"chest board\" (boogie board?)\n",
      "Washed into sea while picking opihi\n",
      "The 500-ton coastal trader Polurrian foundered \n",
      "S.S. Marine Sulphur Queen, laden with molten sulphur was bound from Beaumont, Texas for Norfolk, VA, when she disappeared with 39 on board\n",
      "Free diving, hunting crayfish\n",
      "Fishing for turtles\n",
      "Spearfishing, Scuba diving\n",
      "Abandoning burning ship Captain George in raging seas\n",
      "Adrift after wave swamped engine\n",
      "Overcome by CO fumes, fell overboard from 36' fishing cruiser & prop slashed arm\n",
      "When  a deckhand  jumped overboard, McIver dived after him with a rescue line.\n",
      "Spearfishing with Scuba gear\n",
      "Diving for abalone \n",
      "Surf fishing in waist-deep water\n",
      "Finning the shark\n",
      "Fishing for albacore\n",
      "Playing in surf with his child  (9)\n",
      "Dived from inner-tube\n",
      "U.S. Airforce crewman reported missing after bailing out of jet\n",
      "On a \"shark hunt\"\n",
      "Rolled off raft\n",
      "Escaping from Alacatraz\n",
      "Washing\n",
      "Scuba diving, attempting to catch a captive shark\n",
      "25-foot cabin cruiser Happy Jack sank in heavy seas\n",
      "Fishing & spearfishing\n",
      "Swimming along a row of nets\n",
      "Fishing for snappers & cleaning mullet. Put mullet over side of boat to wash it\n",
      "Swimming outside fishing net\n",
      "Splashing \n",
      "Fishing, slipped on rocks & fell into sea\n",
      "Fishing with hand net in 2' of water\n",
      "Fishing, hauling in a 5-lb snapper\n",
      "Surfing, pushing board ashore\n",
      "Swimming with other crew near wharf\n",
      "Gathering shells\n",
      "Paddling outrigger canoe\n",
      "Survived US Naval aircraft crash, climbing onboard rescue vessel when he fell back into sea \n",
      "Free diving, surveying a pipeline & examing cathodes under jetty\n",
      "Attaching a line at sea\n",
      "Net fishing, picking catch from the net\n",
      "Fishing, two large sharks passed. He speared one and it bit him\n",
      "Fishing (trolling)  from canoe\n",
      "Scuba diving & spearfishing \n",
      "Fishing, speared shark upset canoe & man fell in water\n",
      "Collecting dynamited fish\n",
      "Walking in chest-deep water\n",
      "Checking fish traps, fell into the water\n",
      "Swimming, using bundles of sticks as raft\n",
      "Cargo ship Dara sank after collision with another ship during a severe storm\n",
      "Fishing from dinghy\n",
      "Floating on back\n",
      "Cleaning a tank\n",
      "Spearfishing, shark grabbed his white t-shirt and towed him \n",
      "Collecting crayfish\n",
      "Collecting aquarium specimens\n",
      "Pacific Seafarer of US Navy\n",
      "Ocean racing\n",
      "Taking boat from California to Florida when it ran aground & he was swimming back to boat\n",
      "Free diving for molluscs\n",
      "Light aircraft ditched at sea\n",
      "Swept out to sea while net fishing\n",
      "Fishing, when line became snagged on rock & he dived into water to free it \n",
      "Fell overboard, prop slashed arm\n",
      "Chasing shark out of bathing area while riding on a surf-ski\n",
      "Spearfishing, speared fish retreated to cave where shark grabbed his arm\n",
      "Hand lining for shad\n",
      "Ejected from F3H-2 aircraft \n",
      "Fishing for rock lobsters\n",
      "Collecting shells\n",
      "Cargo ship El Gamil entroute Suez to Yemen (Aden) when her cargo shifted and she sank. 19 Egyption sailors jumped into the water and swam for several hours before being bitten by sharks\n",
      "Free diving / photography, kneeling on sand\n",
      "Fishing inside net\n",
      "R5D aircraft went down with 29 on board\n",
      "Free diving / Spearfishing\n",
      "Swimming 3 miles offshore\n",
      "Air disaster: crash of Air France Super Constellation \n",
      "Aircraft crashed into sea\n",
      "Standing in knee-deep water\n",
      "boat with 46 people on board capsized\n",
      "Holding shark on leader & dangling it above the water\n",
      "Helping angler land a shark\n",
      "Fishing, Struck by another shark when removing shark from line\n",
      "Swimming from camp\n",
      "Pulling raft out to ride to shore\n",
      "Fishing, tossing netted shark onboard\n",
      "Testing classified underwater electronic gear for Raytheon Corporation, vessel torn apart by explosion\n",
      "Diving for shells, saw shark circling wife near the surface, intercepted shark & it pulled him beneath the water\n",
      "Spearfishing, free diving, possibly ascended into path of cruising shark\n",
      "Free diving but treading water at surface\n",
      "Free diving for abalone diving but at surface)\n",
      "Fishing, hauling in a set line\n",
      "Spearfishing, shot a sandtiger shark. Cord to spear tangled round his legs & a wave washed him onto a reef.\n",
      "Speared a grouper, saw shark but it came for him instead of the fish so he fired spear into shark’s mouth. Then shark took grouper but unable to swallow because of the spear in its mouth.\n",
      "Fishing in shoulder-deep water\n",
      "Fishing, hooked shark towed boat out to sea, storm swamped boat\n",
      "Spearfishing, carrying fish on belt\n",
      "Wading, fishing for flounder\n",
      "S2F-1 airplane crashed immediately after carrier take-off\n",
      "Portuguese Airliner with 9 people aboard went down. \n",
      "Fishing, lifting shark out of craypot\n",
      "Setting crayfish pots\n",
      "Standing, watching seine netters\n",
      "Collecting ornamental fish\n",
      "Spear fishing, removing fish from spear\n",
      "Swimming underneath house on pilings\n",
      "Dived from dinghy to retrieve oar in heavy seas\n",
      "ship M.V. Rizal sank during typhoon\n",
      "Spearfishing, Smith  & Walker touched shark with tip of their guns\n",
      "17 Maldivians adrift in open boat for 31 days\n",
      "Standing in chest-deep water\n",
      "Trailing the field in a surf race\n",
      "National Airlines DC7B enroute from Miami to Los Angeles with 42 or 46 people on board went down in heavy fog\n",
      "Fishing for tunny\n",
      "Swimming at surface through school of feeding 2.5' to 5’ sharks\n",
      "Spearfishing, shot shark, hauled it onto boat\n",
      "Dived overboard to retrieve dinghy\n",
      "Adrift, hanging onto cushion, after his 17' skiff ran out of gas & capsized 3 miles from shore\n",
      "Gigging for flounder\n",
      "Pulling hooked salmon to boat\n",
      "On inflatable raft\n",
      "The 240-ton motor vessel Pilar II with 100 people on board capsized in high winds & rough seas\n",
      "Fishing boat capsized \n",
      "Spearfishing with Joe Turner (24). Shark attracted to speared halibut on belt of one diver, tried to bite Ide’s speargun & he shot it in the mouth\n",
      "Pulling anchor\n",
      "Spearfishing (but on surface)\n",
      "Dragging stranded shark ashore\n",
      "Columbian petrol barge Rio Atrato burned and sank\n",
      "Swimming ashore from capsized boat\n",
      "Jumped overboard to rescue a man\n",
      "Diving for pearl shell\n",
      "Lifeboat capsized\n",
      "On boat, preparing to dive\n",
      "Fell into water while attempting to boat a swordfish\n",
      "Bathing with sister\n",
      "Working prawn net\n",
      "Washed overboard into school of fish\n",
      "Swimming with motor tube\n",
      "In deep water about 100 yards from his ship\n",
      "Surfing, but treading water\n",
      "Dragging banana seeds through the shallows\n",
      "Swimming ashore from fishing boat swamped and sunk by a squall\n",
      "Paddling & sailing from Buenos Aires to Miami\n",
      "Spear fishing\n",
      "Surfing on air mattress\n",
      "Cleaning hull of ship \n",
      "Swimming near jetty\n",
      "Slapped shark on tail as it swam by\n",
      "\"Climbing up to ship after repairing the stern in water\"\n",
      "Boat stopped to repair electric pump\n",
      "Swimming, ducking for shells in water 0.9 m deep\n",
      "U.S. Airforce C124 enroute from Hickham Air Base to Japan went down. The 3 survivors fashioned raft from mailbags  & were rescued 3 days after the crash.\n",
      "Spearfishing, had fish on his spear\n",
      "Swimming, towing the shark\n",
      "Paddling in knee-deep water\n",
      "Swimming with goggles\n",
      "Fishing, holding fish in his left hand\n",
      "Spearfishing / swimming on surface\n",
      "Placed hand in disemboweled shark’s jaws\n",
      "Fishing, holding fish\n",
      "Fishing (trolling)\n",
      "Fishing, walking in river to cast\n",
      "Air/Sea Disaster Pan-American Airlines Stratocruiser with 44 people onboard crashed into the sea\n",
      "Attempting to net shark in shark channel\n",
      "Diving for trochus\n",
      "M.V. Tropical sank. Sole survivor rode oil drums for 8 days without food or water.\n",
      "Competing in spearfishing championship & towing dead fish\n",
      "3 men & 2 boys picked up wearing life jackets and with inner tube\n",
      "Swimming between  anchored  pearling luggers\n",
      "Diving from canoe\n",
      "Skindiving for specimens\n",
      "Helmet diving in Miami Seaquarium\n",
      "Dynamiting fish\n",
      "Free diving for sinkers\n",
      "Spearfishing, holding 5' speared fish\n",
      "Skindiving, fish at belt\n",
      "Climbing back on ship\n",
      "Swimming near pier\n",
      "Free diving for crayfish\n",
      "Attempting to kill a shark with explosives\n",
      "Line fishing from Lakotoi, saw shoal of fish, dived overboard, had speared second fish & surfaced for air\n",
      "Longling fishing\n",
      "Air/Sea Disaster\n",
      "Free diving, working on U/W scenes for motion picture\n",
      "Boating\n",
      "Swimming, attacked at  surf carnival\n",
      "Attempting to set underwater endurance record\n",
      "Swimming off yacht\n",
      "Removing shark from net \n",
      "Fishing for pompano\n",
      "Spearfishing & lassoed shark\n",
      "\"Flying Tiger\" transport plane went down with 5 men onboard\n",
      "Hunting turtle\n",
      "Swimming near breakwater\n",
      "Spearfishing or fishing\n",
      "Fishing from boat, Kaimamla\n",
      "Swimming with speared fish\n",
      "Competing in U/W endurance record, standing beside drum in 10' of water\n",
      "Rowing toward snapper grounds\n",
      "Hunting lobsters in 2.4 m of water\n",
      "Crossing the bay at the ford\n",
      "Dived overboard & was swimming near stern of trawler\n",
      "Swimming near canoe\n",
      "American freighter Mormackite, bound from Buenos Aires for Baltimore, capsized & sank in heavy seas\n",
      "Fishing  (trawling)\n",
      "Spearfishing, hunting crayfish\n",
      "Tuna fishing, standing on stern platform that was submerged by waves\n",
      "Closed circuit diving (submerged). Diving to recover jettisoned packets of opium for police\n",
      "Fishing trawler Flavio Gioia \n",
      "Grabbed shark & threw it on deck\n",
      "Pearl diving from lugger Whyalla\n",
      "Bathing alongside ship\n",
      "Fishing / cleaning fish, dived into water to retrieve a lost fish\n",
      "Fishing from shore\n",
      "Crouching in the water\n",
      "Swimming or wading out  to warn bathers that a shark had been seen\n",
      "Aircaft exploded\n",
      "Fishing from market fishboat Sea Spray\n",
      "Royal Hawaiian skymaster DC-6B aircraft went down with  58 passenger & crew\n",
      "Accidentally dragged overboard from the sampan Holokahana into school of yellowfin tuna\n",
      "Retrieving bait box that had fallen overboard\n",
      "Landing hooked shark in boat\n",
      "Swimming in midriver near sewage outlet & 400 m from a slaughterhouse\n",
      "Adrift on a 4'  raft for 32 days\n",
      "Went over side of boat at trochus ground\n",
      "Bitten while cutting shark from net\n",
      "Lying prone on surfboard\n",
      "Fishing, setting nets\n",
      "Body surfing & treading water\n",
      "Swimming from fishing boat setting nets\n",
      "Fishing for trout \n",
      "Boat exploded\n",
      "Spearfishing, carrying fish on spear\n",
      "Swimming on surface\n",
      "Fishing, standing in water washing fish\n",
      "Fishing, standing in water next to purse net\n",
      "Fishing for white sharks\n",
      "Went to aid of child being menaced by the shark\n",
      "Spearfishing, speared a small shark\n",
      "Diving, recovering fish killed by dynamite\n",
      "Shipwrecked; adrift on raft for 2 days & 2 nights\n",
      "cargo ship Southern Isle sank at 04h00\n",
      "Fishing for squid\n",
      "Body found on deserted luxury yacht, 38’ Christine\n",
      "Diving (Hookah)\n",
      "Fell overboard\n",
      "Swept out to sea while fishing\n",
      "Fell off surf ski\n",
      "Fishing, casting in the surf\n",
      "Spearfishing (but treading water on the surface)\n",
      "Paddling a surfboat\n",
      "Paddling a canoe\n",
      "Body surfing / treading water\n",
      "Jerked overboard while pole fishing for tuna\n",
      "Swept off deck of S.S.Frontenac enroute from West Indies to US\n",
      "Goggle-diving for seaweeds, but standing in water\n",
      "Survived crash of two-engine  C-46 transport plane carrying 62 migrant workers from Puerto Rico to USA \n",
      "Sea Disaster, sinking of the fishing  launch Mavis\n",
      "Fishing, sitting in stern of small boat, feet dangling in the water\n",
      "Suicide\n",
      "Fishing, one of three fishermen swept into the sea by a large wave \n",
      "Sitting on side of dinghy mending a net\n",
      "Defecating in water beneath the docks\n",
      "Bending over\n",
      "Bathing \n",
      "Diving for coins\n",
      "Spearfishing, but walking carrying fish on end of speargun\n",
      "Helmet diving, collecting trochus shell\n"
     ]
    }
   ],
   "source": [
    "# Cleaning Activity Column\n",
    "\n",
    "print(df['Activity'].unique())\n",
    "for value in df['Activity'].unique():\n",
    "    print(value)\n"
   ]
  },
  {
   "cell_type": "code",
   "execution_count": 293,
   "id": "1729f53a-d04e-4a3c-8b7e-afb80e660dae",
   "metadata": {},
   "outputs": [
    {
     "name": "stdout",
     "output_type": "stream",
     "text": [
      "355\n",
      "0\n"
     ]
    }
   ],
   "source": [
    "# Check if there are NaN values\n",
    "print(df['Activity'].isna().sum())  # Shows count of remaining NaN values\n",
    "\n",
    "# Replace NaN values with \"unknown\"\n",
    "df['Activity'] = df['Activity'].fillna('unknown')\n",
    "\n",
    "# Drop rows with missing activity values (optional)\n",
    "df.dropna(subset=['Activity'], inplace=True)\n",
    "\n",
    "# Check if there are still NaN values\n",
    "print(df['Activity'].isna().sum())  # Shows count of remaining NaN values"
   ]
  },
  {
   "cell_type": "code",
   "execution_count": 295,
   "id": "04c88a1e-534f-4c0a-bbcf-998c9f88900c",
   "metadata": {},
   "outputs": [
    {
     "name": "stdout",
     "output_type": "stream",
     "text": [
      "Activity Category\n",
      "water sports                 1518\n",
      "swimming                     1086\n",
      "fishing                      1083\n",
      "diving                        524\n",
      "other                         439\n",
      "unknown                       358\n",
      "animal interaction            112\n",
      "falling/jumping overboard      52\n",
      "wading                         23\n",
      "Name: count, dtype: int64\n",
      "0\n"
     ]
    }
   ],
   "source": [
    "\n",
    "# Keyword-based categorization:\n",
    "\n",
    "def categorize_activity(activity):\n",
    "    \"\"\"Categorizes activities dynamically based on keywords.\"\"\"\n",
    "    activity = str(activity).lower().strip()  # Convert to lowercase and remove leading/trailing spaces\n",
    "\n",
    "    if any(keyword in activity for keyword in ['swim', 'bath', 'floating', 'wading', 'treading water']):\n",
    "        return 'swimming'\n",
    "    elif any(keyword in activity for keyword in ['fish', 'netting','pêcheur', 'trolling', 'catching', 'collecting','collection','salmon','hooked',]):\n",
    "        return 'fishing'\n",
    "    elif any(keyword in activity for keyword in ['jump', 'fell','fall', 'overboard', 'capsized']):\n",
    "        return 'falling/jumping overboard'\n",
    "    elif any(keyword in activity for keyword in ['feed', 'handling', 'pulling', 'dragging', 'shark', 'examining netted shark','attempting to rescue shark', 'tagging']):\n",
    "        return 'animal interaction'\n",
    "    elif any(keyword in activity for keyword in ['wading','step', 'walking']):\n",
    "        return 'wading'\n",
    "    elif any(keyword in activity for keyword in ['diving', 'snorkeling', 'snorkelling', 'scuba', 'dive', 'submerged','scuba','UW photography','testing anti-shark cage']):\n",
    "        return 'diving'\n",
    "    elif any(keyword in activity for keyword in ['surf', 'kite','surfing','board', 'boarding', 'paddling', 'wakeboarding']):\n",
    "        return 'water sports'\n",
    "    elif any(keyword in activity for keyword in ['unknown']):\n",
    "        return 'unknown'\n",
    "    else:\n",
    "        return 'other'  # Assigns \"other\" if no match is found\n",
    "\n",
    "\n",
    "\n",
    "# Apply categorization and clean missing values\n",
    "df['Activity Category'] = df['Activity'].apply(lambda x: categorize_activity(x) if pd.notna(x) else 'unknown')\n",
    "\n",
    "# Print summary of unique values\n",
    "print(df['Activity Category'].value_counts())  # Shows recurrence per category\n",
    "\n",
    "# Remove rows where activity is unknown (optional)\n",
    "df_cleaned = df[df['Activity Category'] != 'unknown']\n",
    "\n",
    "# Check if there are still NaN values\n",
    "print(df['Activity'].isna().sum())  # Shows count of remaining NaN values\n",
    "\n",
    "\n"
   ]
  },
  {
   "cell_type": "code",
   "execution_count": 297,
   "id": "c2d736fc-8ca3-422c-a9aa-f9e67db6f5cc",
   "metadata": {},
   "outputs": [
    {
     "data": {
      "text/plain": [
       "array(['N', 'Y', 'F', 'M', nan, 'n', 'Nq', 'UNKNOWN', 2017, 'Y x 2', ' N'],\n",
       "      dtype=object)"
      ]
     },
     "execution_count": 297,
     "metadata": {},
     "output_type": "execute_result"
    }
   ],
   "source": [
    "# Clean Fatal Y/N Column\n",
    "df['Fatal_Y/N'].unique()# Clean 'Fatal Y/N' column"
   ]
  },
  {
   "cell_type": "code",
   "execution_count": 299,
   "id": "c4510d8b-fbc8-4603-8c7b-e9b60540e0fc",
   "metadata": {},
   "outputs": [
    {
     "name": "stdout",
     "output_type": "stream",
     "text": [
      "['N' 'Y']\n"
     ]
    }
   ],
   "source": [
    "df['Fatal_Y/N'] = df['Fatal_Y/N'].astype(str).str.strip().str.upper()\n",
    "\n",
    "# Function to clean values\n",
    "def clean_fatal(value):\n",
    "    if value.startswith('Y'):  # Covers 'Y x 2', 'y'\n",
    "        return 'Y'\n",
    "    elif value.startswith('N'):  # Covers 'N ', 'n', 'Nq'\n",
    "        return 'N'\n",
    "    return None  # Remove invalid values\n",
    "\n",
    "# Apply cleaning function\n",
    "df['Fatal_Y/N'] = df['Fatal_Y/N'].apply(clean_fatal)\n",
    "\n",
    "# Drop rows with None values (optional)\n",
    "df = df.dropna(subset=['Fatal_Y/N'])\n",
    "\n",
    "# Display cleaned unique values\n",
    "print(df['Fatal_Y/N'].unique())"
   ]
  },
  {
   "cell_type": "code",
   "execution_count": 301,
   "id": "5c15abd1-4c86-47eb-8f0f-4529abce1822",
   "metadata": {},
   "outputs": [
    {
     "name": "stdout",
     "output_type": "stream",
     "text": [
      "[None '08:00' '15:05' '13:15' '13:00' '15:30' '13:30' '09:15' '13:40'\n",
      " '12:30' '16:00' '11:30' '06:30' '20:00' '11:12' '16:30' '15:00' '02:00'\n",
      " '16:32' '11:00' '09:00' '10:30' '13:20' '14:00' '10:20' '17:00' '15:45'\n",
      " '07:45' '10:40' '07:50' '01:00' '10:00' '19:30' '18:00' '17:50' '09:30'\n",
      " '08:45' '16:25' '13:55' '13:50' '17:20' '13:45' '10:10' '14:35' '21:00'\n",
      " '19:15' '11:20' '07:15' '07:00' '14:20' '17:30' '07:20' '14:50' '12:00'\n",
      " '17:17' '11:15' '19:00' '07:53' '16:10' '11:17' '17:45' '13:12' '07:30'\n",
      " '11:43' '10:15' '14:09' '12:15' '19:12' '15:20' '16:40' '11:24' '12:50'\n",
      " '07:31' '14:45' '19:20' '11:45' '06:40' '07:51' '11:46' '20:30' '12:23'\n",
      " '07:07' '16:39' '15:57' '14:30' '16:45' '08:15' '08:56' '15:40' '18:30'\n",
      " '07:58' '17:40' '17:10' '09:36' '08:40' '06:00' '10:45' '14:15' '09:08'\n",
      " '15:59' '08:30' '12:20' '10:50' '09:40' '14:33' '12:58' '16:15' '23:00'\n",
      " '06:50' '12:45' '11:55' '22:20' '08:48' '16:21' '16:26' '18:45' '03:00'\n",
      " '06:15' '06:45' '06:55' '13:42' '09:29' '10:47' '14:11' '15:35' '14:40'\n",
      " '16:50' '21:50' '17:35' '15:01' '23:30' '10:44' '13:19' '17:34' '08:50'\n",
      " '09:50' '10:43' '15:15' '19:05' '22:00' '16:20' '14:34' '15:25' '14:55'\n",
      " '17:46' '15:49' '00:00' '18:15' '04:00' '10:25' '15:52' '19:45' '12:10'\n",
      " '18:05' '11:41' '12:25' '17:51' '16:12' '09:45' '05:00' '03:30' '16:18'\n",
      " '11:10' '17:01' '09:57' '08:20' '17:58' '15:19' '10:55' '15:55' '12:40'\n",
      " '16:05' '14:10' '13:24' '11:40' '08:10' '15:56' '11:50' '07:56' '16:35'\n",
      " '09:05' '19:28' '12:38' '05:50' '15:50' '11:05' '05:45' '13:25' '13:26'\n",
      " '09:11' '18:20' '13:51' '08:05' '10:35' '15:44' '09:35' '10:27' '10:16'\n",
      " '09:20' '12:05' '14:21' '18:50' '15:53' '20:15' '12:39' '07:05' '13:05'\n",
      " '17:55' '22:30' '17:15' '06:10' '07:08' '12:02' '12:55' '16:14' '17:11'\n",
      " '00:30' '14:37' '10:07' '13:53' '13:23' '02:30' '11:56' '14:25' '06:47'\n",
      " '18:40' '13:14' '13:06' '12:34' '11:53' '12:46' '12:48' '17:42' '12:35'\n",
      " '11:57' '11:25' '18:25' '10:28' '14:16' '09:55' '11:48' '07:19' '13:37'\n",
      " '11:06' '11:58' '11:51' '18:12' '07:10' '07:40' '12:33' '15:06' '12:54'\n",
      " '16:55' '05:40' '21:30' '08:57' '08:35' '10:22' '02:45' '05:30' '18:10'\n",
      " '08:55' '05:15' '07:32' '13:10' '19:35' '13:35' '01:32' '16:23' '19:10']\n"
     ]
    }
   ],
   "source": [
    "# Clean Time Column\n",
    "\n",
    "def clean_time_column(df, column_name):\n",
    "    \"\"\" Cleans and standardizes the Time column into HH:MM format. \"\"\"\n",
    "\n",
    "    # Standardize ambiguous text-based times\n",
    "    time_mapping = {\n",
    "        \"Morning\": \"09:00\", \"Mid morning\": \"10:00\", \"Early morning\": \"07:00\", \"Dawn\": \"06:00\",\n",
    "        \"Afternoon\": \"15:00\", \"Midday\": \"12:00\", \"Noon\": \"12:00\", \"Evening\": \"18:00\",\n",
    "        \"Late afternoon\": \"17:00\", \"Late afternon\": \"17:00\", \"After lunch\": \"13:00\", \"Night\": \"21:00\",\n",
    "        \"Late night\": \"23:00\", \"Nightfall\": \"21:30\", '\"Night\"': \"21:00\", \"Sunset\": \"19:00\",\n",
    "        \"After dusk\": \"20:30\", \"Dusk\": \"19:30\", \"Before dusk\": \"18:30\", \"After sunset\": \"19:30\",\n",
    "        \"Daybreak\": \"05:30\", \"Before daybreak\": \"05:00\", \"Before 10h30\": \"10:00\",\n",
    "        \"Before 10h00\": \"09:30\", \"Possibly same incident as 2000.08.21\": None,\n",
    "        \"Just before noon\": \"11:50\", \"Shortly before 13h00\": \"12:50\",\n",
    "        \"Just before dawn\": \"05:15\", \"Just after 12h00\": \"12:10\",\n",
    "        \"Shortly after midnight\": \"00:30\", \"After midnight\": \"01:00\",\n",
    "        \"Midnight\": \"00:00\", '\"Early evening\"': \"19:00\", \"Early afternoon\": \"13:00\",\n",
    "        \"Mid afternoon\": \"15:00\", \"After noon\": \"12:30\", \"Lunchtime\": \"12:00\",\n",
    "        \"Late morning\": \"10:30\", \"Mid-morning\": \"10:00\", \"2 hrs before sunset\": \"17:00\",\n",
    "        \"Between 05h00 and 08h00\": \"07:00\", \"Between 06h00 & 08hoo\": \"07:00\",\n",
    "        \"Between 06h00 & 07h20\": \"06:30\", \"Between 11h00 & 12h00\": \"11:30\",\n",
    "        \"Ship aban-doned at 03h10\": \"03:10\", \"11h01 -time of ship sinking\": \"11:01\",\n",
    "        '\"Just before 11h00\"': \"10:50\", \"Before 07h00\": \"06:30\",\n",
    "        \"Prior to 10h37\": \"10:30\", \"Before daybreak\": \"05:00\",\n",
    "        \"FATAL  (Wire netting installed at local beaches after this incident.)\": None,\n",
    "        \"AM\": \"08:00\", \"A.M.\": \"08:00\", \"P.M.\": \"20:00\",\n",
    "        \"N\": None, \"?\": None, \"Not stated\": None, \"Unknown\": None, \"--\": None, '\" \"': None\n",
    "    }\n",
    "\n",
    "    # Apply mapping to replace text-based times with estimated hours\n",
    "    df[column_name] = df[column_name].replace(time_mapping)\n",
    "\n",
    "    # Standardize numeric time formats (e.g., \"16h30\", \"15.5\", \"1430hrs\")\n",
    "    df[column_name] = df[column_name].astype(str).str.replace(r'[\\s]|h|hr|hrs|j|\\.', ':', regex=True)\n",
    "\n",
    "    # Extract first time from ranges (e.g., \"09h00 - 09h30\", \"14h00 / 15h00\")\n",
    "    df[column_name] = df[column_name].str.split('-|/').str[0]\n",
    "\n",
    "    # Convert numbers without separators (e.g., \"1500\" → \"15:00\")\n",
    "    df[column_name] = df[column_name].apply(lambda x: f\"{x[:2]}:{x[2:]}\" if x.isdigit() and len(x) == 4 else x)\n",
    "\n",
    "    # Convert time to datetime format (handling missing values)\n",
    "    df[column_name] = pd.to_datetime(df[column_name], format=\"%H:%M\", errors='coerce').dt.time\n",
    "\n",
    "    # Format final output as \"HH:MM\" string\n",
    "    df[column_name] = df[column_name].apply(lambda x: x.strftime(\"%H:%M\") if pd.notna(x) else None)\n",
    "\n",
    "    return df\n",
    "\n",
    "# Apply time cleaning function\n",
    "df = clean_time_column(df, \"Time\")\n",
    "\n",
    "# Verify cleaned data\n",
    "print(df[\"Time\"].unique())  # Check standardized values\n"
   ]
  },
  {
   "cell_type": "code",
   "execution_count": 329,
   "id": "50fb88a0-2867-40e5-86c6-0507dd495b7c",
   "metadata": {},
   "outputs": [
    {
     "name": "stdout",
     "output_type": "stream",
     "text": [
      "Time_Category\n",
      "Unknown    5143\n",
      "Name: count, dtype: int64\n"
     ]
    }
   ],
   "source": [
    "# The Time column contains a mix of structured (hh:mm), semi-structured (10h00, 16hr15), and unstructured (Early morning, Nightfall) values.\n",
    "# Cleaning in order to standardise all formats into a consistent HH:MM time format.\n",
    "\n",
    "# Define time categories\n",
    "def categorize_time_of_day(time):\n",
    "    if pd.isna(time):\n",
    "        return \"Unknown\"\n",
    "\n",
    "    # Convert string values to datetime.time if needed\n",
    "    if isinstance(time, str):\n",
    "        try:\n",
    "            time = pd.to_datetime(time, format=\"%H:%M\").time()\n",
    "        except ValueError:  # Handle incorrectly formatted values\n",
    "            return \"Unknown\"\n",
    "\n",
    "    # Define time categories\n",
    "    if time >= pd.to_datetime(\"05:00\", format=\"%H:%M\").time() and time < pd.to_datetime(\"12:00\", format=\"%H:%M\").time():\n",
    "        return \"Morning\"\n",
    "    elif time >= pd.to_datetime(\"12:00\", format=\"%H:%M\").time() and time < pd.to_datetime(\"17:00\", format=\"%H:%M\").time():\n",
    "        return \"Afternoon\"\n",
    "    elif time >= pd.to_datetime(\"17:00\", format=\"%H:%M\").time() and time < pd.to_datetime(\"21:00\", format=\"%H:%M\").time():\n",
    "        return \"Evening\"\n",
    "    else:\n",
    "        return \"Night\"\n",
    "\n",
    "# Ensure the Time column is in the correct format\n",
    "df[\"Time\"] = pd.to_datetime(df[\"Time\"], format=\"%H:%M\", errors=\"coerce\").dt.time\n",
    "\n",
    "# Apply categorization function\n",
    "df[\"Time_Category\"] = df[\"Time\"].apply(categorize_time_of_day)\n",
    "\n",
    "# Verify the results\n",
    "print(df[\"Time_Category\"].value_counts())  # Check distribution across categories"
   ]
  },
  {
   "cell_type": "code",
   "execution_count": 331,
   "id": "6955a0c3-5876-4079-9219-0c7fe58a70ff",
   "metadata": {
    "scrolled": true
   },
   "outputs": [
    {
     "name": "stdout",
     "output_type": "stream",
     "text": [
      "['Angola' 'Antigua' 'Argentina' 'Aruba' 'Australia' 'Bahamas' 'Bangladesh'\n",
      " 'Belize' 'Bermuda' 'Brazil' 'British Virgin Islands' 'Canada'\n",
      " 'Cape Verde' 'Cayman Islands' 'Chile' 'China' 'Colombia' 'Comoros'\n",
      " 'Costa Rica' 'Croatia' 'Cuba' 'Dominican Republic' 'Ecuador' 'Egypt'\n",
      " 'El Salvador' 'Fiji' 'France' 'French Polynesia' 'Gabon' 'Greece'\n",
      " 'Grenada' 'Guam' 'Guatemala' 'Honduras' 'Hong Kong' 'India' 'Iran' 'Iraq'\n",
      " 'Ireland' 'Israel' 'Italy' 'Jamaica' 'Japan' 'Jordan' 'Kenya' 'Kiribati'\n",
      " 'Liberia' 'Libya' 'Madagascar' 'Malaysia' 'Maldives' 'Malta'\n",
      " 'Marshall Islands' 'Martinique' 'Mauritius' 'Mexico' 'Montenegro'\n",
      " 'Mozambique' 'Namibia' 'Netherlands Antilles' 'New Caledonia'\n",
      " 'New Zealand' 'Nicaragua' 'Nigeria' 'Norway' 'Palau' 'Panama'\n",
      " 'Papua New Guinea' 'Philippines' 'Portugal' 'Puerto Rico' 'Russia'\n",
      " 'Réunion' 'Samoa' 'Saudi Arabia' 'Senegal' 'Seychelles' 'Sierra Leone'\n",
      " 'Singapore' 'Solomon Islands' 'Somalia' 'South Africa' 'South Korea'\n",
      " 'Spain' 'Sri Lanka' 'Sudan' 'Taiwan' 'Tanzania' 'Thailand' 'Tonga'\n",
      " 'Tunisia' 'Turkey' 'United Arab Emirates' 'United Kingdom'\n",
      " 'United States' 'Unknown' 'Uruguay' 'Vanuatu' 'Venezuela' 'Vietnam'\n",
      " 'Yemen']\n",
      "101\n"
     ]
    }
   ],
   "source": [
    "# Clean Country Column\n",
    "\n",
    "print(df['Country'].unique())\n",
    "print(df['Country'].nunique())"
   ]
  },
  {
   "cell_type": "code",
   "execution_count": 333,
   "id": "ca3c4f07-9d43-4636-83bd-47e178967e7c",
   "metadata": {
    "scrolled": true
   },
   "outputs": [
    {
     "name": "stdout",
     "output_type": "stream",
     "text": [
      "['Angola', 'Antigua', 'Argentina', 'Aruba', 'Australia', 'Bahamas', 'Bangladesh', 'Belize', 'Bermuda', 'Brazil', 'BritishVirginIslands', 'Canada', 'CapeVerde', 'CaymanIslands', 'Chile', 'China', 'Colombia', 'Comoros', 'CostaRica', 'Croatia', 'Cuba', 'DominicanRepublic', 'Ecuador', 'Egypt', 'ElSalvador', 'Fiji', 'France', 'FrenchPolynesia', 'Gabon', 'Greece', 'Grenada', 'Guam', 'Guatemala', 'Honduras', 'HongKong', 'India', 'Iran', 'Iraq', 'Ireland', 'Israel', 'Italy', 'Jamaica', 'Japan', 'Jordan', 'Kenya', 'Kiribati', 'Liberia', 'Libya', 'Madagascar', 'Malaysia', 'Maldives', 'Malta', 'MarshallIslands', 'Martinique', 'Mauritius', 'Mexico', 'Montenegro', 'Mozambique', 'Namibia', 'NetherlandsAntilles', 'NewCaledonia', 'NewZealand', 'Nicaragua', 'Nigeria', 'Norway', 'Palau', 'Panama', 'PapuaNewGuinea', 'Philippines', 'Portugal', 'PuertoRico', 'Russia', 'Réunion', 'Samoa', 'SaudiArabia', 'Senegal', 'Seychelles', 'SierraLeone', 'Singapore', 'SolomonIslands', 'Somalia', 'SouthAfrica', 'SouthKorea', 'Spain', 'SriLanka', 'Sudan', 'Taiwan', 'Tanzania', 'Thailand', 'Tonga', 'Tunisia', 'Turkey', 'UnitedArabEmirates', 'UnitedKingdom', 'UnitedStates', 'Unknown', 'Uruguay', 'Vanuatu', 'Venezuela', 'Vietnam', 'Yemen']\n"
     ]
    }
   ],
   "source": [
    "sorted_countries = sorted(df['Country'].dropna().astype(str).str.strip().str.replace(\" \", \"\").unique())\n",
    "print(sorted_countries)# to ease the process while mapping and ensure all countries are included and wrong information updated."
   ]
  },
  {
   "cell_type": "code",
   "execution_count": 335,
   "id": "598c19f9-c244-4b01-8cd1-3c3dcb8bf0fd",
   "metadata": {
    "scrolled": true
   },
   "outputs": [
    {
     "name": "stdout",
     "output_type": "stream",
     "text": [
      "['Angola' 'Antigua' 'Argentina' 'Aruba' 'Australia' 'Bahamas' 'Bangladesh'\n",
      " 'Belize' 'Bermuda' 'Brazil' 'British Virgin Islands' 'Canada'\n",
      " 'Cape Verde' 'Cayman Islands' 'Chile' 'China' 'Colombia' 'Comoros'\n",
      " 'Costa Rica' 'Croatia' 'Cuba' 'Dominican Republic' 'Ecuador' 'Egypt'\n",
      " 'El Salvador' 'Fiji' 'France' 'French Polynesia' 'Gabon' 'Greece'\n",
      " 'Grenada' 'Guam' 'Guatemala' 'Honduras' 'Hong Kong' 'India' 'Iran' 'Iraq'\n",
      " 'Ireland' 'Israel' 'Italy' 'Jamaica' 'Japan' 'Jordan' 'Kenya' 'Kiribati'\n",
      " 'Liberia' 'Libya' 'Madagascar' 'Malaysia' 'Maldives' 'Malta'\n",
      " 'Marshall Islands' 'Martinique' 'Mauritius' 'Mexico' 'Montenegro'\n",
      " 'Mozambique' 'Namibia' 'Netherlands Antilles' 'New Caledonia'\n",
      " 'New Zealand' 'Nicaragua' 'Nigeria' 'Norway' 'Palau' 'Panama'\n",
      " 'Papua New Guinea' 'Philippines' 'Portugal' 'Puerto Rico' 'Russia'\n",
      " 'Réunion' 'Samoa' 'Saudi Arabia' 'Senegal' 'Seychelles' 'Sierra Leone'\n",
      " 'Singapore' 'Solomon Islands' 'Somalia' 'South Africa' 'South Korea'\n",
      " 'Spain' 'Sri Lanka' 'Sudan' 'Taiwan' 'Tanzania' 'Thailand' 'Tonga'\n",
      " 'Tunisia' 'Turkey' 'United Arab Emirates' 'United Kingdom'\n",
      " 'United States' 'Unknown' 'Uruguay' 'Vanuatu' 'Venezuela' 'Vietnam'\n",
      " 'Yemen']\n",
      "Country\n",
      "United States           2180\n",
      "Australia                947\n",
      "South Africa             487\n",
      "Unknown                  130\n",
      "Bahamas                  123\n",
      "                        ... \n",
      "Netherlands Antilles       1\n",
      "Nicaragua                  1\n",
      "Nigeria                    1\n",
      "Sierra Leone               1\n",
      "Angola                     1\n",
      "Name: count, Length: 101, dtype: int64\n"
     ]
    }
   ],
   "source": [
    "# Country Mapping\n",
    "def standardize_country_names(df):\n",
    "    \"\"\"Standardizes country names by removing spaces and applying title case.\"\"\"\n",
    "    df['Country'] = df['Country'].astype(str).str.strip().str.title()\n",
    "    return df\n",
    "\n",
    "def replace_common_inconsistencies(df):\n",
    "    \"\"\"Replaces common inconsistencies in country names.\"\"\"\n",
    "    replace_dict = {\n",
    "    'ADMIRALTYISLANDS': 'Papua New Guinea',\n",
    "    'ALGERIA': 'Algeria',\n",
    "    'AMERICANSAMOA': 'United States',\n",
    "    'BritishOverseasTerritory': 'United Kingdom',\n",
    "    'ANDAMAN/NICOBARISLANDAS': 'India',\n",
    "    'ANDAMANISLANDS': 'India',\n",
    "    'ANGOLA': 'Angola',\n",
    "    'ANTIGUA': 'Antigua',\n",
    "    'ARGENTINA': 'Argentina',\n",
    "    'ARUBA': 'Aruba',\n",
    "    'AZORES': 'Portugal',\n",
    "    'AUSTRALIA': 'Australia',\n",
    "    'Bahamas': 'Bahamas',\n",
    "    'BAHAMAS': 'Bahamas',  # Mapping variations\n",
    "    'BAHREIN': 'Bahrain',\n",
    "    'BANGLADESH': 'Bangladesh',\n",
    "    'BARBADOS': 'Barbados',\n",
    "    'BAYOFBENGAL': 'Unknown',\n",
    "    'BELIZE': 'Belize',\n",
    "    'BERMUDA': 'Bermuda',\n",
    "    'BRAZIL': 'Brazil',\n",
    "    'BRITISHISLES': 'United Kingdom',\n",
    "    'BRITISHNEWGUINEA': 'Papua New Guinea',\n",
    "    'BRITISHVIRGINISLANDS': 'British Virgin Islands',\n",
    "    'BURMA': 'Myanmar',\n",
    "    'CANADA': 'Canada',\n",
    "    'CAPEVERDE': 'Cape Verde',\n",
    "    'CAYMANISLANDS': 'Cayman Islands',\n",
    "    'CEYLON': 'Sri Lanka',\n",
    "    'CEYLON(SRILANKA)': 'Sri Lanka',\n",
    "    'CHILE': 'Chile',\n",
    "    'CHINA': 'China',\n",
    "    'COLOMBIA': 'Colombia',\n",
    "    'COLUMBIA': 'Colombia',  # Correcting common misspelling\n",
    "    'COMOROS': 'Comoros',\n",
    "    'COOKISLANDS': 'Cook Islands',\n",
    "    'COSTARICA': 'Costa Rica',\n",
    "    'CRETE': 'Greece',  # Crete is part of Greece\n",
    "    'CROATIA': 'Croatia',\n",
    "    'CUBA': 'Cuba',\n",
    "    'CURACAO': 'Curaçao',\n",
    "    'CYPRUS': 'Cyprus',\n",
    "    'DIEGOGARCIA': 'United Kingdom',\n",
    "    'DJIBOUTI': 'Djibouti',\n",
    "    'DOMINICANREPUBLIC': 'Dominican Republic',\n",
    "    'ECUADOR': 'Ecuador',\n",
    "    'EGYPT': 'Egypt',\n",
    "    'EGYPT/ISRAEL': 'Unknown',\n",
    "    'ELSALVADOR': 'El Salvador',\n",
    "    'ENGLAND': 'United Kingdom',\n",
    "    'FALKLANDISLANDS': 'Argentina',\n",
    "    'FIJI': 'Fiji',\n",
    "    'FRANCE': 'France',\n",
    "    'FRENCHPOLYNESIA': 'French Polynesia',\n",
    "    'GABON': 'Gabon',\n",
    "    'GEORGIA': 'Georgia',\n",
    "    'GHANA': 'Ghana',\n",
    "    'GRANDCAYMAN': 'Cayman Islands',\n",
    "    'GREECE': 'Greece',\n",
    "    'GREENLAND': 'Greenland',\n",
    "    'GRENADA': 'Grenada',\n",
    "    'GUAM': 'Guam',\n",
    "    'GUATEMALA': 'Guatemala',\n",
    "    'GUINEA': 'Guinea',\n",
    "    'GULFOFADEN': 'Gulf of Aden',\n",
    "    'GUYANA': 'Guyana',\n",
    "    'HAITI': 'Haiti',\n",
    "    'HONDURAS': 'Honduras',\n",
    "    'HONGKONG': 'Hong Kong',\n",
    "    'HAWAII': 'United States',\n",
    "    'ICELAND': 'Iceland',\n",
    "    'INDIA': 'India',\n",
    "    'IRAN': 'Iran',\n",
    "    'IRAQ': 'Iraq',\n",
    "    'IRELAND': 'Ireland',\n",
    "    'ISRAEL': 'Israel',\n",
    "    'ITALY': 'Italy',\n",
    "    'JAMAICA': 'Jamaica',\n",
    "    'JAPAN': 'Japan',\n",
    "    'JAVA': 'Indonesia',  # Java is part of Indonesia\n",
    "    'JOHNSTONISLAND': 'United States',\n",
    "    'JORDAN': 'Jordan',\n",
    "    'KENYA': 'Kenya',\n",
    "    'KIRIBATI': 'Kiribati',\n",
    "    'KOREA': 'South Korea',  # Assuming modern reference to South Korea\n",
    "    'KUWAIT': 'Kuwait',\n",
    "    'LEBANON': 'Lebanon',\n",
    "    'LIBERIA': 'Liberia',\n",
    "    'LIBYA': 'Libya',\n",
    "    'MADAGASCAR': 'Madagascar',\n",
    "    'MALAYSIA': 'Malaysia',\n",
    "    'MALDIVEISLANDS': 'Maldives',\n",
    "    'MALDIVES': 'Maldives',\n",
    "    'MALTA': 'Malta',\n",
    "    'MARSHALLISLANDS': 'Marshall Islands',\n",
    "    'MARTINIQUE': 'Martinique',\n",
    "    'MAURITIUS': 'Mauritius',\n",
    "    'MAYOTTE': 'France',\n",
    "    'MEXICO': 'Mexico',\n",
    "    'MONACO': 'Monaco',\n",
    "    'MONTENEGRO': 'Montenegro',\n",
    "    'MOZAMBIQUE': 'Mozambique',\n",
    "    'NAMIBIA': 'Namibia',\n",
    "    'NETHERLANDSANTILLES': 'Netherlands Antilles',\n",
    "    'NEVIS': 'Saint Kitts and Nevis',\n",
    "    'NEWBRITAIN': 'Papua New Guinea',\n",
    "    'NEWCALEDONIA': 'New Caledonia',\n",
    "    'NEWGUINEA': 'Papua New Guinea',\n",
    "    'NEWZEALAND': 'New Zealand',\n",
    "    'NICARAGUA': 'Nicaragua',\n",
    "    'NIGERIA': 'Nigeria',\n",
    "    'NORTHERNMARIANAISLANDS': 'United States',\n",
    "    'NORWAY': 'Norway',\n",
    "    'OKINAWA': 'Japan',\n",
    "    'PALAU': 'Palau',\n",
    "    'PALESTINIANTERRITORIES': 'Palestina',\n",
    "    'PANAMA': 'Panama',\n",
    "    'PAPUANEWGUINEA': 'Papua New Guinea',\n",
    "    'PARAGUAY': 'Paraguay',\n",
    "    'PERU': 'Peru',\n",
    "    'PHILIPPINES': 'Philippines',\n",
    "    'PORTUGAL': 'Portugal',\n",
    "    'PUERTORICO': 'Puerto Rico',\n",
    "    'REUNION': 'Réunion',\n",
    "    'REUNIONISLAND': 'Réunion',\n",
    "    'ROATAN': 'Honduras',\n",
    "    'RUSSIA': 'Russia',\n",
    "    'SAMOA': 'Samoa',\n",
    "    'SANDOMINGO': 'Dominican Republic',\n",
    "    'SAUDIARABIA': 'Saudi Arabia',\n",
    "    'SCOTLAND': 'United Kingdom',\n",
    "    'SENEGAL': 'Senegal',\n",
    "    'SEYCHELLES': 'Seychelles',\n",
    "    'SIERRALEONE': 'Sierra Leone',\n",
    "    'SINGAPORE': 'Singapore',\n",
    "    'SLOVENIA': 'Slovenia',\n",
    "    'SOLOMONISLANDS': 'Solomon Islands',\n",
    "    'SOMALIA': 'Somalia',\n",
    "    'SOUTHAFRICA': 'South Africa',\n",
    "    'SOUTHKOREA': 'South Korea',\n",
    "    'SPAIN': 'Spain',\n",
    "    'SRILANKA': 'Sri Lanka',\n",
    "    'ST.MAARTIN': 'Sint Maarten',\n",
    "    'ST.MARTIN': 'Saint Martin',\n",
    "    'STHELENA,Britishoverseasterritory': 'United Kingdom',\n",
    "    'STKITTS/NEVIS': 'Saint Kitts and Nevis',\n",
    "    'STMARTIN': 'Saint Martin',\n",
    "    'SUDAN': 'Sudan',\n",
    "    'SWEDEN': 'Sweden',\n",
    "    'SYRIA': 'Syria',\n",
    "    'TAIWAN': 'Taiwan',\n",
    "    'TANZANIA': 'Tanzania',\n",
    "    'THAILAND': 'Thailand',\n",
    "    'TOBAGO': 'Trinidad and Tobago',\n",
    "    'TONGA': 'Tonga',\n",
    "    'TRINIDAD': 'Trinidad and Tobago',\n",
    "    'TUNISIA': 'Tunisia',\n",
    "    'TURKEY': 'Turkey',\n",
    "    'TURKS&CAICOS': 'Turks and Caicos Islands',\n",
    "    'TUVALU': 'Tuvalu',\n",
    "    'UNITEDARABEMIRATES': 'United Arab Emirates',\n",
    "    'UNITEDKINGDOM': 'United Kingdom',\n",
    "    'URUGUAY': 'Uruguay',\n",
    "    'USA': 'United States',\n",
    "    'VANUATU': 'Vanuatu',\n",
    "    'VENEZUELA': 'Venezuela',\n",
    "    'VIETNAM': 'Vietnam',\n",
    "    'YEMEN': 'Yemen'\n",
    "    }\n",
    "    # Convert all country names to uppercase before replacing\n",
    "    df['Country'] = df['Country'].str.upper()\n",
    "\n",
    "    # Ensure dictionary keys are uppercase\n",
    "    replace_dict = {key.upper(): value for key, value in replace_dict.items()}\n",
    "\n",
    "    # Apply mapping using `.get()`\n",
    "    df['Country'] = df['Country'].apply(lambda x: replace_dict.get(x, x))\n",
    "\n",
    "    return df\n",
    "\n",
    "def filter_valid_countries(df):\n",
    "    \"\"\"Filters valid country names based on a predefined list.\"\"\"\n",
    "    valid_countries = sorted([\n",
    "    'Algeria', 'Angola', 'Antigua', 'Argentina', 'Aruba', 'Australia', 'Bahamas', 'Bahrain', 'Bangladesh', 'Barbados', 'Belize', 'Bermuda',\n",
    "    'Brazil', 'British Virgin Islands', 'Canada', 'Cape Verde', 'Cayman Islands', 'Chile', 'China', 'Colombia', 'Comoros', 'Cook Islands',\n",
    "    'Costa Rica', 'Croatia', 'Cuba', 'Curaçao', 'Cyprus', 'Djibouti', 'Dominican Republic', 'Ecuador', 'Egypt', 'El Salvador', 'Fiji',\n",
    "    'France', 'French Polynesia', 'Gabon', 'Georgia', 'Ghana', 'Greece', 'Greenland', 'Grenada', 'Guam', 'Guatemala', 'Guinea',\n",
    "    'Gulf of Aden', 'Guyana', 'Haiti', 'Honduras', 'Hong Kong', 'Iceland', 'India', 'Indonesia', 'Iran', 'Iraq', 'Ireland', 'Israel',\n",
    "    'Italy', 'Jamaica', 'Japan', 'Jordan', 'Kenya', 'Kiribati', 'Kuwait', 'Lebanon', 'Liberia', 'Libya', 'Madagascar', 'Malaysia',\n",
    "    'Maldives', 'Malta', 'Marshall Islands', 'Martinique', 'Mauritius', 'Mexico', 'Monaco', 'Montenegro', 'Mozambique', 'Myanmar',\n",
    "    'Namibia', 'Netherlands Antilles', 'New Caledonia', 'New Zealand', 'Nicaragua', 'Nigeria', 'Norway', 'Palau', 'Palestina', 'Panama',\n",
    "    'Papua New Guinea', 'Paraguay', 'Peru', 'Philippines', 'Portugal', 'Puerto Rico', 'Russia', 'Réunion', 'Saint Kitts and Nevis',\n",
    "    'Saint Martin', 'Samoa', 'Saudi Arabia', 'Senegal', 'Seychelles', 'Sierra Leone', 'Singapore', 'Sint Maarten', 'Slovenia',\n",
    "    'Solomon Islands', 'Somalia', 'South Africa', 'South Korea', 'Spain', 'Sri Lanka', 'Sudan', 'Sweden', 'Syria', 'Taiwan', 'Tanzania',\n",
    "    'Thailand', 'Tonga', 'Trinidad and Tobago', 'Tunisia', 'Turkey', 'Turks and Caicos Islands', 'Tuvalu', 'United Arab Emirates',\n",
    "    'United Kingdom', 'United States', 'Unknown', 'Uruguay', 'Vanuatu', 'Venezuela', 'Vietnam', 'Yemen'])\n",
    "\n",
    "    df['Country'] = df['Country'].apply(lambda x: x.title() if x.title() in valid_countries else 'Unknown')\n",
    "    return df\n",
    "\n",
    "def sort_countries(df):\n",
    "    \"\"\"Sorts country values alphabetically.\"\"\"\n",
    "    df = df.sort_values(by='Country')\n",
    "    return df\n",
    "\n",
    "\n",
    "\n",
    "def map_non_country_values(df):\n",
    "    \"\"\"Maps non-country values (e.g., oceans, seas) to 'Unknown'.\"\"\"\n",
    "    non_country_values = [\n",
    "    'ASIA?', 'AFRICA', 'ATLANTICOCEAN', 'CARIBBEANSEA', 'BRITISHWESTINDIES', 'BetweenPORTUGAL&INDIA',\n",
    "    'CENTRALPACIFIC', 'CoastofAFRICA', 'CoralSea', 'EQUATORIALGUINEA/CAMEROON', 'FEDERATEDSTATESOFMICRONESIA',\n",
    "    'INDIANOCEAN', 'INDIANOCEAN?', 'INDONESIA', 'IRAN/IRAQ', 'ITALY/CROATIA', 'MEDITERRANEANSEA',\n",
    "    'MICRONESIA', 'MID-PACIFCOCEAN', 'MIDATLANTICOCEAN', 'NORTHATLANTICOCEAN', 'NORTHERNARABIANSEA',\n",
    "    'NORTHPACIFICOCEAN', 'NORTHSEA', 'OCEAN', 'PACIFICOCEAN', 'PERSIANGULF', 'REDSEA',\n",
    "    'REDSEA/INDIANOCEAN', 'SOUTHATLANTICOCEAN', 'SOUTHCHINASEA', 'SOUTHPACIFICOCEAN'\n",
    "]\n",
    "\n",
    "    df['Country'] = df['Country'].apply(lambda x: 'Unknown' if x in non_country_values else x)\n",
    "    return df\n",
    "\n",
    "def clean_and_map_countries(df):\n",
    "    \"\"\"Runs all cleaning functions in sequence.\"\"\"\n",
    "    df = standardize_country_names(df)\n",
    "    df = replace_common_inconsistencies(df)\n",
    "    df = map_non_country_values(df)\n",
    "    df = filter_valid_countries(df)\n",
    "    df = sort_countries(df)\n",
    "    return df\n",
    "\n",
    "# Apply function\n",
    "df = clean_and_map_countries(df)\n",
    "\n",
    "# Print cleaned unique country values\n",
    "print(df['Country'].unique())\n",
    "print(df['Country'].value_counts())  # Frequency of each country"
   ]
  },
  {
   "cell_type": "code",
   "execution_count": 337,
   "id": "a60b560e-a5c0-4272-a02b-22f937148e07",
   "metadata": {},
   "outputs": [
    {
     "name": "stdout",
     "output_type": "stream",
     "text": [
      "0\n",
      "0\n"
     ]
    }
   ],
   "source": [
    "# Clean Name Column\n",
    "print(df['Name'].isna().sum())\n",
    "df = df.assign(Name=df['Name'].fillna('Unknown'))\n",
    "df['Name'] = df['Name'].fillna('Unknown')\n",
    "print(df['Name'].isna().sum())  # Counts remaining NaN values"
   ]
  },
  {
   "cell_type": "code",
   "execution_count": 313,
   "id": "94e5a778-e191-4113-bea6-4839001ab9ce",
   "metadata": {},
   "outputs": [
    {
     "name": "stdout",
     "output_type": "stream",
     "text": [
      "Sex\n",
      "Male       4050\n",
      "Female      700\n",
      "Unknown     393\n",
      "Name: count, dtype: int64\n"
     ]
    }
   ],
   "source": [
    "# Clean Sex Column\n",
    "\n",
    "def standardize_sex_column(df):\n",
    "    \"\"\"Standardizes sex column values by stripping spaces, converting to uppercase, and handling NaNs.\"\"\"\n",
    "    df['Sex'] = df['Sex'].astype(str).str.strip().str.upper()\n",
    "    df['Sex'] = df['Sex'].replace('NAN', 'Unknown')  # Ensures text-based 'NAN' gets converted\n",
    "    df['Sex'] = df['Sex'].replace({'NaN': 'Unknown'})  # Explicit replacement for NaN entries\n",
    "    df['Sex'] = df['Sex'].fillna('Unknown')  # Final fallback replacement\n",
    "    return df\n",
    "\n",
    "def replace_inconsistent_values(df):\n",
    "    \"\"\"Replaces inconsistent or unclear values with standardized options.\"\"\"\n",
    "    replace_dict = {\n",
    "        'M': 'Male',\n",
    "        'F': 'Female',\n",
    "        'M ': 'Male',\n",
    "        'F ': 'Female',\n",
    "        ' M': 'Male',\n",
    "        'm': 'Male',\n",
    "        'M X 2': 'Male',  # Assuming this refers to male individuals\n",
    "        '.': 'Unknown',   # Unclear entry replaced with 'Unknown'\n",
    "        'N': 'Unknown',   # Assuming 'N' means unknown or unspecified\n",
    "        'LLI': 'Unknown', # Standardizing LLI to 'Unknown'\n",
    "        'UNKNOWN': 'Unknown'  # Ensuring consistency\n",
    "    }\n",
    "    df['Sex'] = df['Sex'].replace(replace_dict)\n",
    "    return df\n",
    "\n",
    "\n",
    "def clean_sex_column(df):\n",
    "    \"\"\"Runs all cleaning functions in sequence for 'Sex' column and replaces NaNs with 'Unknown'.\"\"\"\n",
    "    df = standardize_sex_column(df)\n",
    "    df = replace_inconsistent_values(df)\n",
    "    \n",
    "    # Replace NaN values with 'Unknown'\n",
    "    df['Sex'] = df['Sex'].fillna('Unknown')\n",
    "    \n",
    "    return df\n",
    "\n",
    "df['Sex'] = clean_sex_column(df)['Sex']\n",
    "print(df['Sex'].value_counts())  # Verify cleaned values\n",
    "\n"
   ]
  },
  {
   "cell_type": "code",
   "execution_count": 315,
   "id": "ebee78e8-b4fd-46b0-b924-8b33f3e0ee98",
   "metadata": {},
   "outputs": [
    {
     "name": "stdout",
     "output_type": "stream",
     "text": [
      "Species\n",
      "Unknown Shark Species       2046\n",
      "Great White Shark           1041\n",
      "Tiger Shark                  684\n",
      "Bull Shark                   484\n",
      "Tasseled Wobbegong Shark     216\n",
      "Blacktip Shark               127\n",
      "Nurse Shark                   98\n",
      "Bronze Whaler Shark           78\n",
      "Mako Shark                    52\n",
      "Lemon Shark                   46\n",
      "Hammerhead Shark              42\n",
      "Blue Shark                    41\n",
      "Oceanic Whitetip Shark        32\n",
      "Caribbean Reef Shark          28\n",
      "Cookiecutter Shark            22\n",
      "Grey Reef Shark               20\n",
      "Sandbar Shark                 19\n",
      "Sevengill Shark               16\n",
      "Dusky Shark                   14\n",
      "Whale Shark                    9\n",
      "Galapagos Shark                8\n",
      "Sand Tiger Shark               5\n",
      "Thresher Shark                 5\n",
      "Silky Shark                    4\n",
      "Goblin Shark                   2\n",
      "Basking Shark                  2\n",
      "Horn Shark                     2\n",
      "Name: count, dtype: int64\n",
      "0\n"
     ]
    }
   ],
   "source": [
    "\n",
    "# Define shark categories for fuzzy matching\n",
    "shark_categories = [\n",
    "    \"Great White Shark\", \"Tiger Shark\", \"Bull Shark\", \"Hammerhead Shark\",\n",
    "    \"Mako Shark\", \"Blue Shark\", \"Lemon Shark\", \"Nurse Shark\", \"Whale Shark\",\n",
    "    \"Goblin Shark\", \"Thresher Shark\", \"Greenland Shark\", \"Sand Tiger Shark\",\n",
    "    \"Basking Shark\", \"Megamouth Shark\", \"Blacktip Shark\", \"Silky Shark\",\n",
    "    \"Cookiecutter Shark\", \"Dusky Shark\", \"Tasseled Wobbegong Shark\",\n",
    "    \"Frilled Shark\", \"Zebra Shark\", \"Pyjama Shark\", \"Horn Shark\",\n",
    "    \"Bronze Whaler Shark\", \"Oceanic Whitetip Shark\", \"Sevengill Shark\",\n",
    "    \"Sandbar Shark\", \"Galapagos Shark\", \"Caribbean Reef Shark\", \"Grey Reef Shark\"\n",
    "]\n",
    "\n",
    "def categorize_shark_fuzzy(Type):\n",
    "    \"\"\"Categorizes sharks dynamically using fuzzy matching and regex extraction.\"\"\"\n",
    "    if pd.isna(Type) or not Type.strip():\n",
    "        return \"Unknown Shark Species\"\n",
    "\n",
    "    Type = Type.lower().strip()\n",
    "\n",
    "    # Extract shark-related keywords using regex\n",
    "    shark_match = re.search(r\"(great white|tiger|bull|hammerhead|mako|blue|lemon|nurse|whale|goblin|thresher|greenland|sand tiger|basking|megamouth|blacktip|silky|cookiecutter|dusky|wobbegong|frilled|zebra|pyjama|horn|bronze whaler|oceanic whitetip|sevengill|sandbar|galapagos|caribbean reef|grey reef)\", Type)\n",
    "    \n",
    "    if shark_match:\n",
    "        keyword = shark_match.group(0)\n",
    "        best_match = process.extractOne(keyword, shark_categories, score_cutoff=80)  # 80% confidence threshold\n",
    "        if best_match:\n",
    "            return best_match[0]\n",
    "\n",
    "    # If no keyword match, attempt full fuzzy matching on the entire string\n",
    "    best_match = process.extractOne(Type, shark_categories, score_cutoff=80)\n",
    "    if best_match:\n",
    "        return best_match[0]\n",
    "\n",
    "    return \"Unknown Shark Species\"\n",
    "\n",
    "# Apply categorization\n",
    "df['Species'] = df['Species'].apply(categorize_shark_fuzzy)\n",
    "\n",
    "# Print summary of unique values\n",
    "print(df['Species'].value_counts())\n",
    "\n",
    "# Remove rows where Type is unknown (optional)\n",
    "df_cleaned = df[df['Species'] != 'Unknown Shark Species']\n",
    "\n",
    "# Check remaining NaN values\n",
    "print(df['Species'].isna().sum())\n"
   ]
  },
  {
   "cell_type": "code",
   "execution_count": 316,
   "id": "b6c6afc6-ae55-4bcd-b4b2-9db298992e38",
   "metadata": {},
   "outputs": [
    {
     "name": "stdout",
     "output_type": "stream",
     "text": [
      "\n",
      "Unique values after final numeric conversion:\n",
      "[ nan 32.  18.  58.  48.  34.  55.  69.  10.  12.  45.  35.  39.  52.\n",
      " 14.  28.  15.  29.  62.  37.  41.  21.  26.  44.  47.  31.  30.  42.\n",
      " 20.  60.  17.  23.  25.  16.  27.  36.  49.  24.  73.   7.  74.  19.\n",
      " 53.  84.  38.  63.  65.  59.  43.  22.  13.  51.  46.  50.  33.  11.\n",
      " 40.  57.  71.  61.  75.  64.  56.   8.  77.   9.  54.  72.   6.  68.\n",
      " 66.  70.   4.  81.   5.   1.  82.   3.  67.   6.5 86.  87. ]\n",
      "\n",
      "Number of missing values (NaN): 1681\n",
      "Missing Age values: 0\n"
     ]
    }
   ],
   "source": [
    "# Clean the column \"Age\"\n",
    "# Convert to String & strip whitespace.\n",
    "\n",
    "df['Age'] = df['Age'].astype(str).str.strip()\n",
    "\n",
    "#Replace invalid or placeholder values with NaN\n",
    "replacements = {\n",
    "    '?': np.nan,\n",
    "    '': np.nan,\n",
    "    'nan': np.nan,\n",
    "    'X': np.nan,\n",
    "    'M': np.nan,\n",
    "    'F': np.nan,\n",
    "    'MAKE LINE GREEN': np.nan,\n",
    "    'A.M.': np.nan,\n",
    "    '!!': np.nan,\n",
    "}\n",
    "\n",
    "df['Age'] = df['Age'].replace(replacements)\n",
    "\n",
    "#Handle Specific Patterns: regular expressions (regex) is used to convert various formats into numbers.\n",
    "# Extracts the number before '+' and converts to float\n",
    "df['Age'] = df['Age'].str.replace(r'(\\d+)\\+', r'\\1', regex=True)\n",
    "\n",
    "#Fractions: '6½' -> 6.5\n",
    "df['Age'] = df['Age'].replace({'½': '.5'}, regex=True)\n",
    "\n",
    "# Replace entries with '&', ',', 'or' with NaN\n",
    "df['Age'] = df['Age'].apply(lambda x: np.nan if isinstance(x, str) and any(c in x for c in ['&', ',', 'or']) else x)\n",
    "\n",
    "# Define the mapping\n",
    "age_category_mapping = {\n",
    "    'teen': 16,\n",
    "    'teens': 16,\n",
    "    'young': 25,\n",
    "    '\"young\"': 25,\n",
    "    'adult': 40,\n",
    "    '(adult)': 40,\n",
    "    'middle age': 50,\n",
    "    '\"middle-age\"': 50,\n",
    "    'elderly': 70,\n",
    "    'a minor': 10,\n",
    "}\n",
    "\n",
    "# --- Apply the age category mapping ---\n",
    "# Use a function for safe application (handles non-string values)\n",
    "def map_age_categories(age_val):\n",
    "    if isinstance(age_val, str):\n",
    "        # Convert to lower, strip again just in case, check mapping\n",
    "        lower_age = age_val.lower().strip()\n",
    "        return age_category_mapping.get(lower_age, age_val) # Return numeric value if key exists, else original value\n",
    "    return age_val # Return numbers, NaN, etc., unchanged\n",
    "\n",
    "#Apply the Function to the DataFrame\n",
    "df['Age'] = df['Age'].apply(map_age_categories)\n",
    "\n",
    "\n",
    "# --- Final Conversion to Numeric ---\n",
    "df['Age'] = pd.to_numeric(df['Age'], errors='coerce')\n",
    "\n",
    "# --- Check results ---\n",
    "print(\"\\nUnique values after final numeric conversion:\")\n",
    "print(df['Age'].unique())\n",
    "print(f\"\\nNumber of missing values (NaN): {df['Age'].isnull().sum()}\")\n",
    "\n",
    "median_age = df['Age'].median()\n",
    "df['Age'] = df['Age'].fillna(median_age)\n",
    "# Count missing values in the Age column\n",
    "missing_age_count = df[\"Age\"].isnull().sum()\n",
    "\n",
    "print(f\"Missing Age values: {missing_age_count}\")\n"
   ]
  },
  {
   "cell_type": "code",
   "execution_count": 317,
   "id": "9f54ed8d-0edd-44bf-ba4f-dcccc8eab933",
   "metadata": {
    "scrolled": true
   },
   "outputs": [
    {
     "name": "stdout",
     "output_type": "stream",
     "text": [
      "              Country Time_Category  Total_Attacks\n",
      "5           Australia     Afternoon            247\n",
      "6           Australia       Evening             56\n",
      "7           Australia       Morning            236\n",
      "8           Australia         Night             21\n",
      "9           Australia       Unknown            387\n",
      "10            Bahamas     Afternoon             38\n",
      "11            Bahamas       Evening              1\n",
      "12            Bahamas       Morning             17\n",
      "13            Bahamas         Night              3\n",
      "14            Bahamas       Unknown             64\n",
      "21             Brazil     Afternoon             34\n",
      "22             Brazil       Evening              1\n",
      "23             Brazil       Morning              9\n",
      "24             Brazil       Unknown             67\n",
      "127            Mexico     Afternoon             22\n",
      "128            Mexico       Evening              5\n",
      "129            Mexico       Morning             17\n",
      "130            Mexico       Unknown             35\n",
      "138     New Caledonia     Afternoon             14\n",
      "139     New Caledonia       Evening              2\n",
      "140     New Caledonia       Morning             12\n",
      "141     New Caledonia       Unknown             32\n",
      "142       New Zealand     Afternoon             24\n",
      "143       New Zealand       Evening             12\n",
      "144       New Zealand       Morning             14\n",
      "145       New Zealand         Night              3\n",
      "146       New Zealand       Unknown             45\n",
      "157  Papua New Guinea     Afternoon             15\n",
      "158  Papua New Guinea       Evening              2\n",
      "159  Papua New Guinea       Morning              5\n",
      "160  Papua New Guinea         Night              2\n",
      "161  Papua New Guinea       Unknown             88\n",
      "196      South Africa     Afternoon            173\n",
      "197      South Africa       Evening             22\n",
      "198      South Africa       Morning             99\n",
      "199      South Africa         Night              5\n",
      "200      South Africa       Unknown            188\n",
      "232     United States     Afternoon            892\n",
      "233     United States       Evening            132\n",
      "234     United States       Morning            481\n",
      "235     United States         Night             33\n",
      "236     United States       Unknown            642\n",
      "237           Unknown     Afternoon             22\n",
      "238           Unknown       Evening              4\n",
      "239           Unknown       Morning             20\n",
      "240           Unknown         Night              5\n",
      "241           Unknown       Unknown             79\n"
     ]
    }
   ],
   "source": [
    "# EXPLORATORY DATA\n",
    "# Attack Concentration by Country & Time of Day (Top 10 Countries)\"\n",
    "\n",
    "import pandas as pd\n",
    "import plotly.express as px\n",
    "from scipy.stats import chi2_contingency\n",
    "\n",
    "# Remove unknown country and time entries\n",
    "df_filtered = df[df[\"Country\"].notna() & df[\"Time_Category\"].notna()]\n",
    "\n",
    "# Group by country and time category to count total attacks\n",
    "attack_analysis = df_filtered.groupby([\"Country\", \"Time_Category\"]).size().reset_index(name=\"Total_Attacks\")\n",
    "\n",
    "# Rank countries by highest total attacks and select top 10\n",
    "top_countries = attack_analysis.groupby(\"Country\")[\"Total_Attacks\"].sum().nlargest(10).reset_index()\n",
    "\n",
    "# Filter dataset to keep only top 10 countries\n",
    "attack_analysis = attack_analysis[attack_analysis[\"Country\"].isin(top_countries[\"Country\"])]\n",
    "\n",
    "# Display processed data (optional)\n",
    "print(attack_analysis)\n"
   ]
  },
  {
   "cell_type": "code",
   "execution_count": 318,
   "id": "057b30bc-21f0-494d-98f7-4e1c778aca99",
   "metadata": {},
   "outputs": [
    {
     "data": {
      "application/vnd.plotly.v1+json": {
       "config": {
        "plotlyServerURL": "https://plot.ly"
       },
       "data": [
        {
         "coloraxis": "coloraxis",
         "histfunc": "sum",
         "hovertemplate": "Country=%{x}<br>Time of Attack=%{y}<br>sum of Number of Attacks=%{z}<extra></extra>",
         "name": "",
         "type": "histogram2d",
         "x": [
          "Australia",
          "Australia",
          "Australia",
          "Australia",
          "Australia",
          "Bahamas",
          "Bahamas",
          "Bahamas",
          "Bahamas",
          "Bahamas",
          "Brazil",
          "Brazil",
          "Brazil",
          "Brazil",
          "Mexico",
          "Mexico",
          "Mexico",
          "Mexico",
          "New Caledonia",
          "New Caledonia",
          "New Caledonia",
          "New Caledonia",
          "New Zealand",
          "New Zealand",
          "New Zealand",
          "New Zealand",
          "New Zealand",
          "Papua New Guinea",
          "Papua New Guinea",
          "Papua New Guinea",
          "Papua New Guinea",
          "Papua New Guinea",
          "South Africa",
          "South Africa",
          "South Africa",
          "South Africa",
          "South Africa",
          "United States",
          "United States",
          "United States",
          "United States",
          "United States",
          "Unknown",
          "Unknown",
          "Unknown",
          "Unknown",
          "Unknown"
         ],
         "xaxis": "x",
         "xbingroup": "x",
         "y": [
          "Afternoon",
          "Evening",
          "Morning",
          "Night",
          "Unknown",
          "Afternoon",
          "Evening",
          "Morning",
          "Night",
          "Unknown",
          "Afternoon",
          "Evening",
          "Morning",
          "Unknown",
          "Afternoon",
          "Evening",
          "Morning",
          "Unknown",
          "Afternoon",
          "Evening",
          "Morning",
          "Unknown",
          "Afternoon",
          "Evening",
          "Morning",
          "Night",
          "Unknown",
          "Afternoon",
          "Evening",
          "Morning",
          "Night",
          "Unknown",
          "Afternoon",
          "Evening",
          "Morning",
          "Night",
          "Unknown",
          "Afternoon",
          "Evening",
          "Morning",
          "Night",
          "Unknown",
          "Afternoon",
          "Evening",
          "Morning",
          "Night",
          "Unknown"
         ],
         "yaxis": "y",
         "ybingroup": "y",
         "z": [
          247,
          56,
          236,
          21,
          387,
          38,
          1,
          17,
          3,
          64,
          34,
          1,
          9,
          67,
          22,
          5,
          17,
          35,
          14,
          2,
          12,
          32,
          24,
          12,
          14,
          3,
          45,
          15,
          2,
          5,
          2,
          88,
          173,
          22,
          99,
          5,
          188,
          892,
          132,
          481,
          33,
          642,
          22,
          4,
          20,
          5,
          79
         ]
        }
       ],
       "layout": {
        "autosize": true,
        "coloraxis": {
         "colorbar": {
          "title": {
           "text": "sum of Number of Attacks"
          }
         },
         "colorscale": [
          [
           0,
           "rgb(255,245,240)"
          ],
          [
           0.125,
           "rgb(254,224,210)"
          ],
          [
           0.25,
           "rgb(252,187,161)"
          ],
          [
           0.375,
           "rgb(252,146,114)"
          ],
          [
           0.5,
           "rgb(251,106,74)"
          ],
          [
           0.625,
           "rgb(239,59,44)"
          ],
          [
           0.75,
           "rgb(203,24,29)"
          ],
          [
           0.875,
           "rgb(165,15,21)"
          ],
          [
           1,
           "rgb(103,0,13)"
          ]
         ]
        },
        "legend": {
         "tracegroupgap": 0
        },
        "template": {
         "data": {
          "bar": [
           {
            "error_x": {
             "color": "#2a3f5f"
            },
            "error_y": {
             "color": "#2a3f5f"
            },
            "marker": {
             "line": {
              "color": "#E5ECF6",
              "width": 0.5
             },
             "pattern": {
              "fillmode": "overlay",
              "size": 10,
              "solidity": 0.2
             }
            },
            "type": "bar"
           }
          ],
          "barpolar": [
           {
            "marker": {
             "line": {
              "color": "#E5ECF6",
              "width": 0.5
             },
             "pattern": {
              "fillmode": "overlay",
              "size": 10,
              "solidity": 0.2
             }
            },
            "type": "barpolar"
           }
          ],
          "carpet": [
           {
            "aaxis": {
             "endlinecolor": "#2a3f5f",
             "gridcolor": "white",
             "linecolor": "white",
             "minorgridcolor": "white",
             "startlinecolor": "#2a3f5f"
            },
            "baxis": {
             "endlinecolor": "#2a3f5f",
             "gridcolor": "white",
             "linecolor": "white",
             "minorgridcolor": "white",
             "startlinecolor": "#2a3f5f"
            },
            "type": "carpet"
           }
          ],
          "choropleth": [
           {
            "colorbar": {
             "outlinewidth": 0,
             "ticks": ""
            },
            "type": "choropleth"
           }
          ],
          "contour": [
           {
            "colorbar": {
             "outlinewidth": 0,
             "ticks": ""
            },
            "colorscale": [
             [
              0,
              "#0d0887"
             ],
             [
              0.1111111111111111,
              "#46039f"
             ],
             [
              0.2222222222222222,
              "#7201a8"
             ],
             [
              0.3333333333333333,
              "#9c179e"
             ],
             [
              0.4444444444444444,
              "#bd3786"
             ],
             [
              0.5555555555555556,
              "#d8576b"
             ],
             [
              0.6666666666666666,
              "#ed7953"
             ],
             [
              0.7777777777777778,
              "#fb9f3a"
             ],
             [
              0.8888888888888888,
              "#fdca26"
             ],
             [
              1,
              "#f0f921"
             ]
            ],
            "type": "contour"
           }
          ],
          "contourcarpet": [
           {
            "colorbar": {
             "outlinewidth": 0,
             "ticks": ""
            },
            "type": "contourcarpet"
           }
          ],
          "heatmap": [
           {
            "colorbar": {
             "outlinewidth": 0,
             "ticks": ""
            },
            "colorscale": [
             [
              0,
              "#0d0887"
             ],
             [
              0.1111111111111111,
              "#46039f"
             ],
             [
              0.2222222222222222,
              "#7201a8"
             ],
             [
              0.3333333333333333,
              "#9c179e"
             ],
             [
              0.4444444444444444,
              "#bd3786"
             ],
             [
              0.5555555555555556,
              "#d8576b"
             ],
             [
              0.6666666666666666,
              "#ed7953"
             ],
             [
              0.7777777777777778,
              "#fb9f3a"
             ],
             [
              0.8888888888888888,
              "#fdca26"
             ],
             [
              1,
              "#f0f921"
             ]
            ],
            "type": "heatmap"
           }
          ],
          "heatmapgl": [
           {
            "colorbar": {
             "outlinewidth": 0,
             "ticks": ""
            },
            "colorscale": [
             [
              0,
              "#0d0887"
             ],
             [
              0.1111111111111111,
              "#46039f"
             ],
             [
              0.2222222222222222,
              "#7201a8"
             ],
             [
              0.3333333333333333,
              "#9c179e"
             ],
             [
              0.4444444444444444,
              "#bd3786"
             ],
             [
              0.5555555555555556,
              "#d8576b"
             ],
             [
              0.6666666666666666,
              "#ed7953"
             ],
             [
              0.7777777777777778,
              "#fb9f3a"
             ],
             [
              0.8888888888888888,
              "#fdca26"
             ],
             [
              1,
              "#f0f921"
             ]
            ],
            "type": "heatmapgl"
           }
          ],
          "histogram": [
           {
            "marker": {
             "pattern": {
              "fillmode": "overlay",
              "size": 10,
              "solidity": 0.2
             }
            },
            "type": "histogram"
           }
          ],
          "histogram2d": [
           {
            "colorbar": {
             "outlinewidth": 0,
             "ticks": ""
            },
            "colorscale": [
             [
              0,
              "#0d0887"
             ],
             [
              0.1111111111111111,
              "#46039f"
             ],
             [
              0.2222222222222222,
              "#7201a8"
             ],
             [
              0.3333333333333333,
              "#9c179e"
             ],
             [
              0.4444444444444444,
              "#bd3786"
             ],
             [
              0.5555555555555556,
              "#d8576b"
             ],
             [
              0.6666666666666666,
              "#ed7953"
             ],
             [
              0.7777777777777778,
              "#fb9f3a"
             ],
             [
              0.8888888888888888,
              "#fdca26"
             ],
             [
              1,
              "#f0f921"
             ]
            ],
            "type": "histogram2d"
           }
          ],
          "histogram2dcontour": [
           {
            "colorbar": {
             "outlinewidth": 0,
             "ticks": ""
            },
            "colorscale": [
             [
              0,
              "#0d0887"
             ],
             [
              0.1111111111111111,
              "#46039f"
             ],
             [
              0.2222222222222222,
              "#7201a8"
             ],
             [
              0.3333333333333333,
              "#9c179e"
             ],
             [
              0.4444444444444444,
              "#bd3786"
             ],
             [
              0.5555555555555556,
              "#d8576b"
             ],
             [
              0.6666666666666666,
              "#ed7953"
             ],
             [
              0.7777777777777778,
              "#fb9f3a"
             ],
             [
              0.8888888888888888,
              "#fdca26"
             ],
             [
              1,
              "#f0f921"
             ]
            ],
            "type": "histogram2dcontour"
           }
          ],
          "mesh3d": [
           {
            "colorbar": {
             "outlinewidth": 0,
             "ticks": ""
            },
            "type": "mesh3d"
           }
          ],
          "parcoords": [
           {
            "line": {
             "colorbar": {
              "outlinewidth": 0,
              "ticks": ""
             }
            },
            "type": "parcoords"
           }
          ],
          "pie": [
           {
            "automargin": true,
            "type": "pie"
           }
          ],
          "scatter": [
           {
            "fillpattern": {
             "fillmode": "overlay",
             "size": 10,
             "solidity": 0.2
            },
            "type": "scatter"
           }
          ],
          "scatter3d": [
           {
            "line": {
             "colorbar": {
              "outlinewidth": 0,
              "ticks": ""
             }
            },
            "marker": {
             "colorbar": {
              "outlinewidth": 0,
              "ticks": ""
             }
            },
            "type": "scatter3d"
           }
          ],
          "scattercarpet": [
           {
            "marker": {
             "colorbar": {
              "outlinewidth": 0,
              "ticks": ""
             }
            },
            "type": "scattercarpet"
           }
          ],
          "scattergeo": [
           {
            "marker": {
             "colorbar": {
              "outlinewidth": 0,
              "ticks": ""
             }
            },
            "type": "scattergeo"
           }
          ],
          "scattergl": [
           {
            "marker": {
             "colorbar": {
              "outlinewidth": 0,
              "ticks": ""
             }
            },
            "type": "scattergl"
           }
          ],
          "scattermapbox": [
           {
            "marker": {
             "colorbar": {
              "outlinewidth": 0,
              "ticks": ""
             }
            },
            "type": "scattermapbox"
           }
          ],
          "scatterpolar": [
           {
            "marker": {
             "colorbar": {
              "outlinewidth": 0,
              "ticks": ""
             }
            },
            "type": "scatterpolar"
           }
          ],
          "scatterpolargl": [
           {
            "marker": {
             "colorbar": {
              "outlinewidth": 0,
              "ticks": ""
             }
            },
            "type": "scatterpolargl"
           }
          ],
          "scatterternary": [
           {
            "marker": {
             "colorbar": {
              "outlinewidth": 0,
              "ticks": ""
             }
            },
            "type": "scatterternary"
           }
          ],
          "surface": [
           {
            "colorbar": {
             "outlinewidth": 0,
             "ticks": ""
            },
            "colorscale": [
             [
              0,
              "#0d0887"
             ],
             [
              0.1111111111111111,
              "#46039f"
             ],
             [
              0.2222222222222222,
              "#7201a8"
             ],
             [
              0.3333333333333333,
              "#9c179e"
             ],
             [
              0.4444444444444444,
              "#bd3786"
             ],
             [
              0.5555555555555556,
              "#d8576b"
             ],
             [
              0.6666666666666666,
              "#ed7953"
             ],
             [
              0.7777777777777778,
              "#fb9f3a"
             ],
             [
              0.8888888888888888,
              "#fdca26"
             ],
             [
              1,
              "#f0f921"
             ]
            ],
            "type": "surface"
           }
          ],
          "table": [
           {
            "cells": {
             "fill": {
              "color": "#EBF0F8"
             },
             "line": {
              "color": "white"
             }
            },
            "header": {
             "fill": {
              "color": "#C8D4E3"
             },
             "line": {
              "color": "white"
             }
            },
            "type": "table"
           }
          ]
         },
         "layout": {
          "annotationdefaults": {
           "arrowcolor": "#2a3f5f",
           "arrowhead": 0,
           "arrowwidth": 1
          },
          "autotypenumbers": "strict",
          "coloraxis": {
           "colorbar": {
            "outlinewidth": 0,
            "ticks": ""
           }
          },
          "colorscale": {
           "diverging": [
            [
             0,
             "#8e0152"
            ],
            [
             0.1,
             "#c51b7d"
            ],
            [
             0.2,
             "#de77ae"
            ],
            [
             0.3,
             "#f1b6da"
            ],
            [
             0.4,
             "#fde0ef"
            ],
            [
             0.5,
             "#f7f7f7"
            ],
            [
             0.6,
             "#e6f5d0"
            ],
            [
             0.7,
             "#b8e186"
            ],
            [
             0.8,
             "#7fbc41"
            ],
            [
             0.9,
             "#4d9221"
            ],
            [
             1,
             "#276419"
            ]
           ],
           "sequential": [
            [
             0,
             "#0d0887"
            ],
            [
             0.1111111111111111,
             "#46039f"
            ],
            [
             0.2222222222222222,
             "#7201a8"
            ],
            [
             0.3333333333333333,
             "#9c179e"
            ],
            [
             0.4444444444444444,
             "#bd3786"
            ],
            [
             0.5555555555555556,
             "#d8576b"
            ],
            [
             0.6666666666666666,
             "#ed7953"
            ],
            [
             0.7777777777777778,
             "#fb9f3a"
            ],
            [
             0.8888888888888888,
             "#fdca26"
            ],
            [
             1,
             "#f0f921"
            ]
           ],
           "sequentialminus": [
            [
             0,
             "#0d0887"
            ],
            [
             0.1111111111111111,
             "#46039f"
            ],
            [
             0.2222222222222222,
             "#7201a8"
            ],
            [
             0.3333333333333333,
             "#9c179e"
            ],
            [
             0.4444444444444444,
             "#bd3786"
            ],
            [
             0.5555555555555556,
             "#d8576b"
            ],
            [
             0.6666666666666666,
             "#ed7953"
            ],
            [
             0.7777777777777778,
             "#fb9f3a"
            ],
            [
             0.8888888888888888,
             "#fdca26"
            ],
            [
             1,
             "#f0f921"
            ]
           ]
          },
          "colorway": [
           "#636efa",
           "#EF553B",
           "#00cc96",
           "#ab63fa",
           "#FFA15A",
           "#19d3f3",
           "#FF6692",
           "#B6E880",
           "#FF97FF",
           "#FECB52"
          ],
          "font": {
           "color": "#2a3f5f"
          },
          "geo": {
           "bgcolor": "white",
           "lakecolor": "white",
           "landcolor": "#E5ECF6",
           "showlakes": true,
           "showland": true,
           "subunitcolor": "white"
          },
          "hoverlabel": {
           "align": "left"
          },
          "hovermode": "closest",
          "mapbox": {
           "style": "light"
          },
          "paper_bgcolor": "white",
          "plot_bgcolor": "#E5ECF6",
          "polar": {
           "angularaxis": {
            "gridcolor": "white",
            "linecolor": "white",
            "ticks": ""
           },
           "bgcolor": "#E5ECF6",
           "radialaxis": {
            "gridcolor": "white",
            "linecolor": "white",
            "ticks": ""
           }
          },
          "scene": {
           "xaxis": {
            "backgroundcolor": "#E5ECF6",
            "gridcolor": "white",
            "gridwidth": 2,
            "linecolor": "white",
            "showbackground": true,
            "ticks": "",
            "zerolinecolor": "white"
           },
           "yaxis": {
            "backgroundcolor": "#E5ECF6",
            "gridcolor": "white",
            "gridwidth": 2,
            "linecolor": "white",
            "showbackground": true,
            "ticks": "",
            "zerolinecolor": "white"
           },
           "zaxis": {
            "backgroundcolor": "#E5ECF6",
            "gridcolor": "white",
            "gridwidth": 2,
            "linecolor": "white",
            "showbackground": true,
            "ticks": "",
            "zerolinecolor": "white"
           }
          },
          "shapedefaults": {
           "line": {
            "color": "#2a3f5f"
           }
          },
          "ternary": {
           "aaxis": {
            "gridcolor": "white",
            "linecolor": "white",
            "ticks": ""
           },
           "baxis": {
            "gridcolor": "white",
            "linecolor": "white",
            "ticks": ""
           },
           "bgcolor": "#E5ECF6",
           "caxis": {
            "gridcolor": "white",
            "linecolor": "white",
            "ticks": ""
           }
          },
          "title": {
           "x": 0.05
          },
          "xaxis": {
           "automargin": true,
           "gridcolor": "white",
           "linecolor": "white",
           "ticks": "",
           "title": {
            "standoff": 15
           },
           "zerolinecolor": "white",
           "zerolinewidth": 2
          },
          "yaxis": {
           "automargin": true,
           "gridcolor": "white",
           "linecolor": "white",
           "ticks": "",
           "title": {
            "standoff": 15
           },
           "zerolinecolor": "white",
           "zerolinewidth": 2
          }
         }
        },
        "title": {
         "text": "Attack Concentration by Country & Time of Day (Top 10 Countries)"
        },
        "xaxis": {
         "anchor": "y",
         "autorange": true,
         "domain": [
          0,
          1
         ],
         "range": [
          -0.5,
          9.5
         ],
         "title": {
          "text": "Country"
         },
         "type": "category"
        },
        "yaxis": {
         "anchor": "x",
         "autorange": true,
         "domain": [
          0,
          1
         ],
         "range": [
          -0.5,
          4.5
         ],
         "title": {
          "text": "Time of Attack"
         },
         "type": "category"
        }
       }
      },
      "image/png": "[encoded data removed]",
      "text/html": [
       "<div>                            <div id=\"f2beb669-598b-4ed3-b260-8bb2b824b8c9\" class=\"plotly-graph-div\" style=\"height:525px; width:100%;\"></div>            <script type=\"text/javascript\">                require([\"plotly\"], function(Plotly) {                    window.PLOTLYENV=window.PLOTLYENV || {};                                    if (document.getElementById(\"f2beb669-598b-4ed3-b260-8bb2b824b8c9\")) {                    Plotly.newPlot(                        \"f2beb669-598b-4ed3-b260-8bb2b824b8c9\",                        [{\"coloraxis\":\"coloraxis\",\"histfunc\":\"sum\",\"hovertemplate\":\"Country=%{x}\\u003cbr\\u003eTime of Attack=%{y}\\u003cbr\\u003esum of Number of Attacks=%{z}\\u003cextra\\u003e\\u003c\\u002fextra\\u003e\",\"name\":\"\",\"x\":[\"Australia\",\"Australia\",\"Australia\",\"Australia\",\"Australia\",\"Bahamas\",\"Bahamas\",\"Bahamas\",\"Bahamas\",\"Bahamas\",\"Brazil\",\"Brazil\",\"Brazil\",\"Brazil\",\"Mexico\",\"Mexico\",\"Mexico\",\"Mexico\",\"New Caledonia\",\"New Caledonia\",\"New Caledonia\",\"New Caledonia\",\"New Zealand\",\"New Zealand\",\"New Zealand\",\"New Zealand\",\"New Zealand\",\"Papua New Guinea\",\"Papua New Guinea\",\"Papua New Guinea\",\"Papua New Guinea\",\"Papua New Guinea\",\"South Africa\",\"South Africa\",\"South Africa\",\"South Africa\",\"South Africa\",\"United States\",\"United States\",\"United States\",\"United States\",\"United States\",\"Unknown\",\"Unknown\",\"Unknown\",\"Unknown\",\"Unknown\"],\"xaxis\":\"x\",\"xbingroup\":\"x\",\"y\":[\"Afternoon\",\"Evening\",\"Morning\",\"Night\",\"Unknown\",\"Afternoon\",\"Evening\",\"Morning\",\"Night\",\"Unknown\",\"Afternoon\",\"Evening\",\"Morning\",\"Unknown\",\"Afternoon\",\"Evening\",\"Morning\",\"Unknown\",\"Afternoon\",\"Evening\",\"Morning\",\"Unknown\",\"Afternoon\",\"Evening\",\"Morning\",\"Night\",\"Unknown\",\"Afternoon\",\"Evening\",\"Morning\",\"Night\",\"Unknown\",\"Afternoon\",\"Evening\",\"Morning\",\"Night\",\"Unknown\",\"Afternoon\",\"Evening\",\"Morning\",\"Night\",\"Unknown\",\"Afternoon\",\"Evening\",\"Morning\",\"Night\",\"Unknown\"],\"yaxis\":\"y\",\"ybingroup\":\"y\",\"z\":[247,56,236,21,387,38,1,17,3,64,34,1,9,67,22,5,17,35,14,2,12,32,24,12,14,3,45,15,2,5,2,88,173,22,99,5,188,892,132,481,33,642,22,4,20,5,79],\"type\":\"histogram2d\"}],                        {\"template\":{\"data\":{\"histogram2dcontour\":[{\"type\":\"histogram2dcontour\",\"colorbar\":{\"outlinewidth\":0,\"ticks\":\"\"},\"colorscale\":[[0.0,\"#0d0887\"],[0.1111111111111111,\"#46039f\"],[0.2222222222222222,\"#7201a8\"],[0.3333333333333333,\"#9c179e\"],[0.4444444444444444,\"#bd3786\"],[0.5555555555555556,\"#d8576b\"],[0.6666666666666666,\"#ed7953\"],[0.7777777777777778,\"#fb9f3a\"],[0.8888888888888888,\"#fdca26\"],[1.0,\"#f0f921\"]]}],\"choropleth\":[{\"type\":\"choropleth\",\"colorbar\":{\"outlinewidth\":0,\"ticks\":\"\"}}],\"histogram2d\":[{\"type\":\"histogram2d\",\"colorbar\":{\"outlinewidth\":0,\"ticks\":\"\"},\"colorscale\":[[0.0,\"#0d0887\"],[0.1111111111111111,\"#46039f\"],[0.2222222222222222,\"#7201a8\"],[0.3333333333333333,\"#9c179e\"],[0.4444444444444444,\"#bd3786\"],[0.5555555555555556,\"#d8576b\"],[0.6666666666666666,\"#ed7953\"],[0.7777777777777778,\"#fb9f3a\"],[0.8888888888888888,\"#fdca26\"],[1.0,\"#f0f921\"]]}],\"heatmap\":[{\"type\":\"heatmap\",\"colorbar\":{\"outlinewidth\":0,\"ticks\":\"\"},\"colorscale\":[[0.0,\"#0d0887\"],[0.1111111111111111,\"#46039f\"],[0.2222222222222222,\"#7201a8\"],[0.3333333333333333,\"#9c179e\"],[0.4444444444444444,\"#bd3786\"],[0.5555555555555556,\"#d8576b\"],[0.6666666666666666,\"#ed7953\"],[0.7777777777777778,\"#fb9f3a\"],[0.8888888888888888,\"#fdca26\"],[1.0,\"#f0f921\"]]}],\"heatmapgl\":[{\"type\":\"heatmapgl\",\"colorbar\":{\"outlinewidth\":0,\"ticks\":\"\"},\"colorscale\":[[0.0,\"#0d0887\"],[0.1111111111111111,\"#46039f\"],[0.2222222222222222,\"#7201a8\"],[0.3333333333333333,\"#9c179e\"],[0.4444444444444444,\"#bd3786\"],[0.5555555555555556,\"#d8576b\"],[0.6666666666666666,\"#ed7953\"],[0.7777777777777778,\"#fb9f3a\"],[0.8888888888888888,\"#fdca26\"],[1.0,\"#f0f921\"]]}],\"contourcarpet\":[{\"type\":\"contourcarpet\",\"colorbar\":{\"outlinewidth\":0,\"ticks\":\"\"}}],\"contour\":[{\"type\":\"contour\",\"colorbar\":{\"outlinewidth\":0,\"ticks\":\"\"},\"colorscale\":[[0.0,\"#0d0887\"],[0.1111111111111111,\"#46039f\"],[0.2222222222222222,\"#7201a8\"],[0.3333333333333333,\"#9c179e\"],[0.4444444444444444,\"#bd3786\"],[0.5555555555555556,\"#d8576b\"],[0.6666666666666666,\"#ed7953\"],[0.7777777777777778,\"#fb9f3a\"],[0.8888888888888888,\"#fdca26\"],[1.0,\"#f0f921\"]]}],\"surface\":[{\"type\":\"surface\",\"colorbar\":{\"outlinewidth\":0,\"ticks\":\"\"},\"colorscale\":[[0.0,\"#0d0887\"],[0.1111111111111111,\"#46039f\"],[0.2222222222222222,\"#7201a8\"],[0.3333333333333333,\"#9c179e\"],[0.4444444444444444,\"#bd3786\"],[0.5555555555555556,\"#d8576b\"],[0.6666666666666666,\"#ed7953\"],[0.7777777777777778,\"#fb9f3a\"],[0.8888888888888888,\"#fdca26\"],[1.0,\"#f0f921\"]]}],\"mesh3d\":[{\"type\":\"mesh3d\",\"colorbar\":{\"outlinewidth\":0,\"ticks\":\"\"}}],\"scatter\":[{\"fillpattern\":{\"fillmode\":\"overlay\",\"size\":10,\"solidity\":0.2},\"type\":\"scatter\"}],\"parcoords\":[{\"type\":\"parcoords\",\"line\":{\"colorbar\":{\"outlinewidth\":0,\"ticks\":\"\"}}}],\"scatterpolargl\":[{\"type\":\"scatterpolargl\",\"marker\":{\"colorbar\":{\"outlinewidth\":0,\"ticks\":\"\"}}}],\"bar\":[{\"error_x\":{\"color\":\"#2a3f5f\"},\"error_y\":{\"color\":\"#2a3f5f\"},\"marker\":{\"line\":{\"color\":\"#E5ECF6\",\"width\":0.5},\"pattern\":{\"fillmode\":\"overlay\",\"size\":10,\"solidity\":0.2}},\"type\":\"bar\"}],\"scattergeo\":[{\"type\":\"scattergeo\",\"marker\":{\"colorbar\":{\"outlinewidth\":0,\"ticks\":\"\"}}}],\"scatterpolar\":[{\"type\":\"scatterpolar\",\"marker\":{\"colorbar\":{\"outlinewidth\":0,\"ticks\":\"\"}}}],\"histogram\":[{\"marker\":{\"pattern\":{\"fillmode\":\"overlay\",\"size\":10,\"solidity\":0.2}},\"type\":\"histogram\"}],\"scattergl\":[{\"type\":\"scattergl\",\"marker\":{\"colorbar\":{\"outlinewidth\":0,\"ticks\":\"\"}}}],\"scatter3d\":[{\"type\":\"scatter3d\",\"line\":{\"colorbar\":{\"outlinewidth\":0,\"ticks\":\"\"}},\"marker\":{\"colorbar\":{\"outlinewidth\":0,\"ticks\":\"\"}}}],\"scattermapbox\":[{\"type\":\"scattermapbox\",\"marker\":{\"colorbar\":{\"outlinewidth\":0,\"ticks\":\"\"}}}],\"scatterternary\":[{\"type\":\"scatterternary\",\"marker\":{\"colorbar\":{\"outlinewidth\":0,\"ticks\":\"\"}}}],\"scattercarpet\":[{\"type\":\"scattercarpet\",\"marker\":{\"colorbar\":{\"outlinewidth\":0,\"ticks\":\"\"}}}],\"carpet\":[{\"aaxis\":{\"endlinecolor\":\"#2a3f5f\",\"gridcolor\":\"white\",\"linecolor\":\"white\",\"minorgridcolor\":\"white\",\"startlinecolor\":\"#2a3f5f\"},\"baxis\":{\"endlinecolor\":\"#2a3f5f\",\"gridcolor\":\"white\",\"linecolor\":\"white\",\"minorgridcolor\":\"white\",\"startlinecolor\":\"#2a3f5f\"},\"type\":\"carpet\"}],\"table\":[{\"cells\":{\"fill\":{\"color\":\"#EBF0F8\"},\"line\":{\"color\":\"white\"}},\"header\":{\"fill\":{\"color\":\"#C8D4E3\"},\"line\":{\"color\":\"white\"}},\"type\":\"table\"}],\"barpolar\":[{\"marker\":{\"line\":{\"color\":\"#E5ECF6\",\"width\":0.5},\"pattern\":{\"fillmode\":\"overlay\",\"size\":10,\"solidity\":0.2}},\"type\":\"barpolar\"}],\"pie\":[{\"automargin\":true,\"type\":\"pie\"}]},\"layout\":{\"autotypenumbers\":\"strict\",\"colorway\":[\"#636efa\",\"#EF553B\",\"#00cc96\",\"#ab63fa\",\"#FFA15A\",\"#19d3f3\",\"#FF6692\",\"#B6E880\",\"#FF97FF\",\"#FECB52\"],\"font\":{\"color\":\"#2a3f5f\"},\"hovermode\":\"closest\",\"hoverlabel\":{\"align\":\"left\"},\"paper_bgcolor\":\"white\",\"plot_bgcolor\":\"#E5ECF6\",\"polar\":{\"bgcolor\":\"#E5ECF6\",\"angularaxis\":{\"gridcolor\":\"white\",\"linecolor\":\"white\",\"ticks\":\"\"},\"radialaxis\":{\"gridcolor\":\"white\",\"linecolor\":\"white\",\"ticks\":\"\"}},\"ternary\":{\"bgcolor\":\"#E5ECF6\",\"aaxis\":{\"gridcolor\":\"white\",\"linecolor\":\"white\",\"ticks\":\"\"},\"baxis\":{\"gridcolor\":\"white\",\"linecolor\":\"white\",\"ticks\":\"\"},\"caxis\":{\"gridcolor\":\"white\",\"linecolor\":\"white\",\"ticks\":\"\"}},\"coloraxis\":{\"colorbar\":{\"outlinewidth\":0,\"ticks\":\"\"}},\"colorscale\":{\"sequential\":[[0.0,\"#0d0887\"],[0.1111111111111111,\"#46039f\"],[0.2222222222222222,\"#7201a8\"],[0.3333333333333333,\"#9c179e\"],[0.4444444444444444,\"#bd3786\"],[0.5555555555555556,\"#d8576b\"],[0.6666666666666666,\"#ed7953\"],[0.7777777777777778,\"#fb9f3a\"],[0.8888888888888888,\"#fdca26\"],[1.0,\"#f0f921\"]],\"sequentialminus\":[[0.0,\"#0d0887\"],[0.1111111111111111,\"#46039f\"],[0.2222222222222222,\"#7201a8\"],[0.3333333333333333,\"#9c179e\"],[0.4444444444444444,\"#bd3786\"],[0.5555555555555556,\"#d8576b\"],[0.6666666666666666,\"#ed7953\"],[0.7777777777777778,\"#fb9f3a\"],[0.8888888888888888,\"#fdca26\"],[1.0,\"#f0f921\"]],\"diverging\":[[0,\"#8e0152\"],[0.1,\"#c51b7d\"],[0.2,\"#de77ae\"],[0.3,\"#f1b6da\"],[0.4,\"#fde0ef\"],[0.5,\"#f7f7f7\"],[0.6,\"#e6f5d0\"],[0.7,\"#b8e186\"],[0.8,\"#7fbc41\"],[0.9,\"#4d9221\"],[1,\"#276419\"]]},\"xaxis\":{\"gridcolor\":\"white\",\"linecolor\":\"white\",\"ticks\":\"\",\"title\":{\"standoff\":15},\"zerolinecolor\":\"white\",\"automargin\":true,\"zerolinewidth\":2},\"yaxis\":{\"gridcolor\":\"white\",\"linecolor\":\"white\",\"ticks\":\"\",\"title\":{\"standoff\":15},\"zerolinecolor\":\"white\",\"automargin\":true,\"zerolinewidth\":2},\"scene\":{\"xaxis\":{\"backgroundcolor\":\"#E5ECF6\",\"gridcolor\":\"white\",\"linecolor\":\"white\",\"showbackground\":true,\"ticks\":\"\",\"zerolinecolor\":\"white\",\"gridwidth\":2},\"yaxis\":{\"backgroundcolor\":\"#E5ECF6\",\"gridcolor\":\"white\",\"linecolor\":\"white\",\"showbackground\":true,\"ticks\":\"\",\"zerolinecolor\":\"white\",\"gridwidth\":2},\"zaxis\":{\"backgroundcolor\":\"#E5ECF6\",\"gridcolor\":\"white\",\"linecolor\":\"white\",\"showbackground\":true,\"ticks\":\"\",\"zerolinecolor\":\"white\",\"gridwidth\":2}},\"shapedefaults\":{\"line\":{\"color\":\"#2a3f5f\"}},\"annotationdefaults\":{\"arrowcolor\":\"#2a3f5f\",\"arrowhead\":0,\"arrowwidth\":1},\"geo\":{\"bgcolor\":\"white\",\"landcolor\":\"#E5ECF6\",\"subunitcolor\":\"white\",\"showland\":true,\"showlakes\":true,\"lakecolor\":\"white\"},\"title\":{\"x\":0.05},\"mapbox\":{\"style\":\"light\"}}},\"xaxis\":{\"anchor\":\"y\",\"domain\":[0.0,1.0],\"title\":{\"text\":\"Country\"}},\"yaxis\":{\"anchor\":\"x\",\"domain\":[0.0,1.0],\"title\":{\"text\":\"Time of Attack\"}},\"coloraxis\":{\"colorbar\":{\"title\":{\"text\":\"sum of Number of Attacks\"}},\"colorscale\":[[0.0,\"rgb(255,245,240)\"],[0.125,\"rgb(254,224,210)\"],[0.25,\"rgb(252,187,161)\"],[0.375,\"rgb(252,146,114)\"],[0.5,\"rgb(251,106,74)\"],[0.625,\"rgb(239,59,44)\"],[0.75,\"rgb(203,24,29)\"],[0.875,\"rgb(165,15,21)\"],[1.0,\"rgb(103,0,13)\"]]},\"legend\":{\"tracegroupgap\":0},\"title\":{\"text\":\"Attack Concentration by Country & Time of Day (Top 10 Countries)\"}},                        {\"responsive\": true}                    ).then(function(){\n",
       "                            \n",
       "var gd = document.getElementById('f2beb669-598b-4ed3-b260-8bb2b824b8c9');\n",
       "var x = new MutationObserver(function (mutations, observer) {{\n",
       "        var display = window.getComputedStyle(gd).display;\n",
       "        if (!display || display === 'none') {{\n",
       "            console.log([gd, 'removed!']);\n",
       "            Plotly.purge(gd);\n",
       "            observer.disconnect();\n",
       "        }}\n",
       "}});\n",
       "\n",
       "// Listen for the removal of the full notebook cells\n",
       "var notebookContainer = gd.closest('#notebook-container');\n",
       "if (notebookContainer) {{\n",
       "    x.observe(notebookContainer, {childList: true});\n",
       "}}\n",
       "\n",
       "// Listen for the clearing of the current output cell\n",
       "var outputEl = gd.closest('.output');\n",
       "if (outputEl) {{\n",
       "    x.observe(outputEl, {childList: true});\n",
       "}}\n",
       "\n",
       "                        })                };                });            </script>        </div>"
      ]
     },
     "metadata": {},
     "output_type": "display_data"
    }
   ],
   "source": [
    "fig = px.density_heatmap(attack_analysis, \n",
    "                         x=\"Country\", \n",
    "                         y=\"Time_Category\", \n",
    "                         z=\"Total_Attacks\", \n",
    "                         color_continuous_scale=\"Reds\",\n",
    "                         title=\"Attack Concentration by Country & Time of Day (Top 10 Countries)\",\n",
    "                         labels={\"Country\": \"Country\", \"Time_Category\": \"Time of Attack\", \"Total_Attacks\": \"Number of Attacks\"})\n",
    "\n",
    "fig.show()\n",
    "\n"
   ]
  },
  {
   "cell_type": "code",
   "execution_count": 319,
   "id": "39571983-2787-4b4d-b8d5-fb9bf3a33f29",
   "metadata": {},
   "outputs": [
    {
     "name": "stdout",
     "output_type": "stream",
     "text": [
      "Chi-square test statistic: 293.8383732113252\n",
      "P-value: 3.435972281367537e-42\n"
     ]
    }
   ],
   "source": [
    "# Create contingency table for statistical testing\n",
    "contingency_table = attack_analysis.pivot_table(index=\"Country\", columns=\"Time_Category\", values=\"Total_Attacks\", fill_value=0)\n",
    "\n",
    "# Perform chi-square test\n",
    "chi2, p, dof, expected = chi2_contingency(contingency_table)\n",
    "\n",
    "print(f\"Chi-square test statistic: {chi2}\")\n",
    "print(f\"P-value: {p}\")\n",
    "\n",
    "# Interpretation: If p < 0.05, the distribution of attacks across times of day is statistically significant.\n"
   ]
  },
  {
   "cell_type": "code",
   "execution_count": 325,
   "id": "36776314-e6af-4105-9890-7989b255fc84",
   "metadata": {},
   "outputs": [],
   "source": [
    "# Chi-Square Value (285.58)\n",
    "# A high chi-square statistic means there is a significant difference in attack distribution across countries and time categories.\n",
    "# P-Value (1.32e-40)\n",
    "# This is extremely small, much lower than the typical significance threshold (0.05).\n",
    "# Conclusion: There is a highly significant relationship between shark attacks and the factors of country & time of day.\n",
    "# What This Means\n",
    "# Shark attacks are NOT randomly distributed—they are concentrated in specific countries and specific time periods. \n"
   ]
  },
  {
   "cell_type": "code",
   "execution_count": 339,
   "id": "b1e84b18-56ea-416a-bb7d-a22a0938f1bd",
   "metadata": {},
   "outputs": [
    {
     "name": "stdout",
     "output_type": "stream",
     "text": [
      "           Activity Category      Sex  Total_Attacks\n",
      "0         animal interaction   Female             19\n",
      "1         animal interaction     Male             74\n",
      "2         animal interaction  Unknown             18\n",
      "3                     diving   Female             87\n",
      "4                     diving     Male            414\n",
      "5                     diving  Unknown             21\n",
      "6  falling/jumping overboard   Female              7\n",
      "7  falling/jumping overboard     Male             39\n",
      "8  falling/jumping overboard  Unknown              6\n",
      "9                    fishing   Female             26\n"
     ]
    }
   ],
   "source": [
    "# Top 10 Activities with Highest Shark Attack Frequency\n",
    "\n",
    "import pandas as pd\n",
    "import plotly.express as px\n",
    "\n",
    "# Remove unknown values\n",
    "df_filtered = df[df[\"Activity Category\"].notna() & df[\"Sex\"].notna()]\n",
    "\n",
    "# Group by activity and victim sex to count total attacks\n",
    "attack_analysis = df_filtered.groupby([\"Activity Category\", \"Sex\"]).size().reset_index(name=\"Total_Attacks\")\n",
    "\n",
    "# Display processed data (optional)\n",
    "print(attack_analysis.head(10))  # Show top activities and victim sexes\n"
   ]
  },
  {
   "cell_type": "code",
   "execution_count": 341,
   "id": "8badec54-7270-4458-837e-c755459d90d3",
   "metadata": {},
   "outputs": [
    {
     "data": {
      "application/vnd.plotly.v1+json": {
       "config": {
        "plotlyServerURL": "https://plot.ly"
       },
       "data": [
        {
         "alignmentgroup": "True",
         "hovertemplate": "Victim Sex=Male<br>Activity Type=%{x}<br>Number of Attacks=%{y}<extra></extra>",
         "legendgroup": "Male",
         "marker": {
          "color": "#636efa",
          "pattern": {
           "shape": ""
          }
         },
         "name": "Male",
         "offsetgroup": "Male",
         "orientation": "v",
         "showlegend": true,
         "textposition": "auto",
         "type": "bar",
         "x": [
          "water sports",
          "fishing",
          "swimming",
          "diving",
          "other",
          "unknown"
         ],
         "xaxis": "x",
         "y": [
          1335,
          918,
          764,
          414,
          286,
          206
         ],
         "yaxis": "y"
        },
        {
         "alignmentgroup": "True",
         "hovertemplate": "Victim Sex=Female<br>Activity Type=%{x}<br>Number of Attacks=%{y}<extra></extra>",
         "legendgroup": "Female",
         "marker": {
          "color": "#EF553B",
          "pattern": {
           "shape": ""
          }
         },
         "name": "Female",
         "offsetgroup": "Female",
         "orientation": "v",
         "showlegend": true,
         "textposition": "auto",
         "type": "bar",
         "visible": "legendonly",
         "x": [
          "swimming",
          "water sports",
          "diving"
         ],
         "xaxis": "x",
         "y": [
          294,
          137,
          87
         ],
         "yaxis": "y"
        },
        {
         "alignmentgroup": "True",
         "hovertemplate": "Victim Sex=Unknown<br>Activity Type=%{x}<br>Number of Attacks=%{y}<extra></extra>",
         "legendgroup": "Unknown",
         "marker": {
          "color": "#00cc96",
          "pattern": {
           "shape": ""
          }
         },
         "name": "Unknown",
         "offsetgroup": "Unknown",
         "orientation": "v",
         "showlegend": true,
         "textposition": "auto",
         "type": "bar",
         "x": [
          "fishing"
         ],
         "xaxis": "x",
         "y": [
          131
         ],
         "yaxis": "y"
        }
       ],
       "layout": {
        "autosize": true,
        "barmode": "relative",
        "legend": {
         "title": {
          "text": "Victim Sex"
         },
         "tracegroupgap": 0
        },
        "template": {
         "data": {
          "bar": [
           {
            "error_x": {
             "color": "#2a3f5f"
            },
            "error_y": {
             "color": "#2a3f5f"
            },
            "marker": {
             "line": {
              "color": "#E5ECF6",
              "width": 0.5
             },
             "pattern": {
              "fillmode": "overlay",
              "size": 10,
              "solidity": 0.2
             }
            },
            "type": "bar"
           }
          ],
          "barpolar": [
           {
            "marker": {
             "line": {
              "color": "#E5ECF6",
              "width": 0.5
             },
             "pattern": {
              "fillmode": "overlay",
              "size": 10,
              "solidity": 0.2
             }
            },
            "type": "barpolar"
           }
          ],
          "carpet": [
           {
            "aaxis": {
             "endlinecolor": "#2a3f5f",
             "gridcolor": "white",
             "linecolor": "white",
             "minorgridcolor": "white",
             "startlinecolor": "#2a3f5f"
            },
            "baxis": {
             "endlinecolor": "#2a3f5f",
             "gridcolor": "white",
             "linecolor": "white",
             "minorgridcolor": "white",
             "startlinecolor": "#2a3f5f"
            },
            "type": "carpet"
           }
          ],
          "choropleth": [
           {
            "colorbar": {
             "outlinewidth": 0,
             "ticks": ""
            },
            "type": "choropleth"
           }
          ],
          "contour": [
           {
            "colorbar": {
             "outlinewidth": 0,
             "ticks": ""
            },
            "colorscale": [
             [
              0,
              "#0d0887"
             ],
             [
              0.1111111111111111,
              "#46039f"
             ],
             [
              0.2222222222222222,
              "#7201a8"
             ],
             [
              0.3333333333333333,
              "#9c179e"
             ],
             [
              0.4444444444444444,
              "#bd3786"
             ],
             [
              0.5555555555555556,
              "#d8576b"
             ],
             [
              0.6666666666666666,
              "#ed7953"
             ],
             [
              0.7777777777777778,
              "#fb9f3a"
             ],
             [
              0.8888888888888888,
              "#fdca26"
             ],
             [
              1,
              "#f0f921"
             ]
            ],
            "type": "contour"
           }
          ],
          "contourcarpet": [
           {
            "colorbar": {
             "outlinewidth": 0,
             "ticks": ""
            },
            "type": "contourcarpet"
           }
          ],
          "heatmap": [
           {
            "colorbar": {
             "outlinewidth": 0,
             "ticks": ""
            },
            "colorscale": [
             [
              0,
              "#0d0887"
             ],
             [
              0.1111111111111111,
              "#46039f"
             ],
             [
              0.2222222222222222,
              "#7201a8"
             ],
             [
              0.3333333333333333,
              "#9c179e"
             ],
             [
              0.4444444444444444,
              "#bd3786"
             ],
             [
              0.5555555555555556,
              "#d8576b"
             ],
             [
              0.6666666666666666,
              "#ed7953"
             ],
             [
              0.7777777777777778,
              "#fb9f3a"
             ],
             [
              0.8888888888888888,
              "#fdca26"
             ],
             [
              1,
              "#f0f921"
             ]
            ],
            "type": "heatmap"
           }
          ],
          "heatmapgl": [
           {
            "colorbar": {
             "outlinewidth": 0,
             "ticks": ""
            },
            "colorscale": [
             [
              0,
              "#0d0887"
             ],
             [
              0.1111111111111111,
              "#46039f"
             ],
             [
              0.2222222222222222,
              "#7201a8"
             ],
             [
              0.3333333333333333,
              "#9c179e"
             ],
             [
              0.4444444444444444,
              "#bd3786"
             ],
             [
              0.5555555555555556,
              "#d8576b"
             ],
             [
              0.6666666666666666,
              "#ed7953"
             ],
             [
              0.7777777777777778,
              "#fb9f3a"
             ],
             [
              0.8888888888888888,
              "#fdca26"
             ],
             [
              1,
              "#f0f921"
             ]
            ],
            "type": "heatmapgl"
           }
          ],
          "histogram": [
           {
            "marker": {
             "pattern": {
              "fillmode": "overlay",
              "size": 10,
              "solidity": 0.2
             }
            },
            "type": "histogram"
           }
          ],
          "histogram2d": [
           {
            "colorbar": {
             "outlinewidth": 0,
             "ticks": ""
            },
            "colorscale": [
             [
              0,
              "#0d0887"
             ],
             [
              0.1111111111111111,
              "#46039f"
             ],
             [
              0.2222222222222222,
              "#7201a8"
             ],
             [
              0.3333333333333333,
              "#9c179e"
             ],
             [
              0.4444444444444444,
              "#bd3786"
             ],
             [
              0.5555555555555556,
              "#d8576b"
             ],
             [
              0.6666666666666666,
              "#ed7953"
             ],
             [
              0.7777777777777778,
              "#fb9f3a"
             ],
             [
              0.8888888888888888,
              "#fdca26"
             ],
             [
              1,
              "#f0f921"
             ]
            ],
            "type": "histogram2d"
           }
          ],
          "histogram2dcontour": [
           {
            "colorbar": {
             "outlinewidth": 0,
             "ticks": ""
            },
            "colorscale": [
             [
              0,
              "#0d0887"
             ],
             [
              0.1111111111111111,
              "#46039f"
             ],
             [
              0.2222222222222222,
              "#7201a8"
             ],
             [
              0.3333333333333333,
              "#9c179e"
             ],
             [
              0.4444444444444444,
              "#bd3786"
             ],
             [
              0.5555555555555556,
              "#d8576b"
             ],
             [
              0.6666666666666666,
              "#ed7953"
             ],
             [
              0.7777777777777778,
              "#fb9f3a"
             ],
             [
              0.8888888888888888,
              "#fdca26"
             ],
             [
              1,
              "#f0f921"
             ]
            ],
            "type": "histogram2dcontour"
           }
          ],
          "mesh3d": [
           {
            "colorbar": {
             "outlinewidth": 0,
             "ticks": ""
            },
            "type": "mesh3d"
           }
          ],
          "parcoords": [
           {
            "line": {
             "colorbar": {
              "outlinewidth": 0,
              "ticks": ""
             }
            },
            "type": "parcoords"
           }
          ],
          "pie": [
           {
            "automargin": true,
            "type": "pie"
           }
          ],
          "scatter": [
           {
            "fillpattern": {
             "fillmode": "overlay",
             "size": 10,
             "solidity": 0.2
            },
            "type": "scatter"
           }
          ],
          "scatter3d": [
           {
            "line": {
             "colorbar": {
              "outlinewidth": 0,
              "ticks": ""
             }
            },
            "marker": {
             "colorbar": {
              "outlinewidth": 0,
              "ticks": ""
             }
            },
            "type": "scatter3d"
           }
          ],
          "scattercarpet": [
           {
            "marker": {
             "colorbar": {
              "outlinewidth": 0,
              "ticks": ""
             }
            },
            "type": "scattercarpet"
           }
          ],
          "scattergeo": [
           {
            "marker": {
             "colorbar": {
              "outlinewidth": 0,
              "ticks": ""
             }
            },
            "type": "scattergeo"
           }
          ],
          "scattergl": [
           {
            "marker": {
             "colorbar": {
              "outlinewidth": 0,
              "ticks": ""
             }
            },
            "type": "scattergl"
           }
          ],
          "scattermapbox": [
           {
            "marker": {
             "colorbar": {
              "outlinewidth": 0,
              "ticks": ""
             }
            },
            "type": "scattermapbox"
           }
          ],
          "scatterpolar": [
           {
            "marker": {
             "colorbar": {
              "outlinewidth": 0,
              "ticks": ""
             }
            },
            "type": "scatterpolar"
           }
          ],
          "scatterpolargl": [
           {
            "marker": {
             "colorbar": {
              "outlinewidth": 0,
              "ticks": ""
             }
            },
            "type": "scatterpolargl"
           }
          ],
          "scatterternary": [
           {
            "marker": {
             "colorbar": {
              "outlinewidth": 0,
              "ticks": ""
             }
            },
            "type": "scatterternary"
           }
          ],
          "surface": [
           {
            "colorbar": {
             "outlinewidth": 0,
             "ticks": ""
            },
            "colorscale": [
             [
              0,
              "#0d0887"
             ],
             [
              0.1111111111111111,
              "#46039f"
             ],
             [
              0.2222222222222222,
              "#7201a8"
             ],
             [
              0.3333333333333333,
              "#9c179e"
             ],
             [
              0.4444444444444444,
              "#bd3786"
             ],
             [
              0.5555555555555556,
              "#d8576b"
             ],
             [
              0.6666666666666666,
              "#ed7953"
             ],
             [
              0.7777777777777778,
              "#fb9f3a"
             ],
             [
              0.8888888888888888,
              "#fdca26"
             ],
             [
              1,
              "#f0f921"
             ]
            ],
            "type": "surface"
           }
          ],
          "table": [
           {
            "cells": {
             "fill": {
              "color": "#EBF0F8"
             },
             "line": {
              "color": "white"
             }
            },
            "header": {
             "fill": {
              "color": "#C8D4E3"
             },
             "line": {
              "color": "white"
             }
            },
            "type": "table"
           }
          ]
         },
         "layout": {
          "annotationdefaults": {
           "arrowcolor": "#2a3f5f",
           "arrowhead": 0,
           "arrowwidth": 1
          },
          "autotypenumbers": "strict",
          "coloraxis": {
           "colorbar": {
            "outlinewidth": 0,
            "ticks": ""
           }
          },
          "colorscale": {
           "diverging": [
            [
             0,
             "#8e0152"
            ],
            [
             0.1,
             "#c51b7d"
            ],
            [
             0.2,
             "#de77ae"
            ],
            [
             0.3,
             "#f1b6da"
            ],
            [
             0.4,
             "#fde0ef"
            ],
            [
             0.5,
             "#f7f7f7"
            ],
            [
             0.6,
             "#e6f5d0"
            ],
            [
             0.7,
             "#b8e186"
            ],
            [
             0.8,
             "#7fbc41"
            ],
            [
             0.9,
             "#4d9221"
            ],
            [
             1,
             "#276419"
            ]
           ],
           "sequential": [
            [
             0,
             "#0d0887"
            ],
            [
             0.1111111111111111,
             "#46039f"
            ],
            [
             0.2222222222222222,
             "#7201a8"
            ],
            [
             0.3333333333333333,
             "#9c179e"
            ],
            [
             0.4444444444444444,
             "#bd3786"
            ],
            [
             0.5555555555555556,
             "#d8576b"
            ],
            [
             0.6666666666666666,
             "#ed7953"
            ],
            [
             0.7777777777777778,
             "#fb9f3a"
            ],
            [
             0.8888888888888888,
             "#fdca26"
            ],
            [
             1,
             "#f0f921"
            ]
           ],
           "sequentialminus": [
            [
             0,
             "#0d0887"
            ],
            [
             0.1111111111111111,
             "#46039f"
            ],
            [
             0.2222222222222222,
             "#7201a8"
            ],
            [
             0.3333333333333333,
             "#9c179e"
            ],
            [
             0.4444444444444444,
             "#bd3786"
            ],
            [
             0.5555555555555556,
             "#d8576b"
            ],
            [
             0.6666666666666666,
             "#ed7953"
            ],
            [
             0.7777777777777778,
             "#fb9f3a"
            ],
            [
             0.8888888888888888,
             "#fdca26"
            ],
            [
             1,
             "#f0f921"
            ]
           ]
          },
          "colorway": [
           "#636efa",
           "#EF553B",
           "#00cc96",
           "#ab63fa",
           "#FFA15A",
           "#19d3f3",
           "#FF6692",
           "#B6E880",
           "#FF97FF",
           "#FECB52"
          ],
          "font": {
           "color": "#2a3f5f"
          },
          "geo": {
           "bgcolor": "white",
           "lakecolor": "white",
           "landcolor": "#E5ECF6",
           "showlakes": true,
           "showland": true,
           "subunitcolor": "white"
          },
          "hoverlabel": {
           "align": "left"
          },
          "hovermode": "closest",
          "mapbox": {
           "style": "light"
          },
          "paper_bgcolor": "white",
          "plot_bgcolor": "#E5ECF6",
          "polar": {
           "angularaxis": {
            "gridcolor": "white",
            "linecolor": "white",
            "ticks": ""
           },
           "bgcolor": "#E5ECF6",
           "radialaxis": {
            "gridcolor": "white",
            "linecolor": "white",
            "ticks": ""
           }
          },
          "scene": {
           "xaxis": {
            "backgroundcolor": "#E5ECF6",
            "gridcolor": "white",
            "gridwidth": 2,
            "linecolor": "white",
            "showbackground": true,
            "ticks": "",
            "zerolinecolor": "white"
           },
           "yaxis": {
            "backgroundcolor": "#E5ECF6",
            "gridcolor": "white",
            "gridwidth": 2,
            "linecolor": "white",
            "showbackground": true,
            "ticks": "",
            "zerolinecolor": "white"
           },
           "zaxis": {
            "backgroundcolor": "#E5ECF6",
            "gridcolor": "white",
            "gridwidth": 2,
            "linecolor": "white",
            "showbackground": true,
            "ticks": "",
            "zerolinecolor": "white"
           }
          },
          "shapedefaults": {
           "line": {
            "color": "#2a3f5f"
           }
          },
          "ternary": {
           "aaxis": {
            "gridcolor": "white",
            "linecolor": "white",
            "ticks": ""
           },
           "baxis": {
            "gridcolor": "white",
            "linecolor": "white",
            "ticks": ""
           },
           "bgcolor": "#E5ECF6",
           "caxis": {
            "gridcolor": "white",
            "linecolor": "white",
            "ticks": ""
           }
          },
          "title": {
           "x": 0.05
          },
          "xaxis": {
           "automargin": true,
           "gridcolor": "white",
           "linecolor": "white",
           "ticks": "",
           "title": {
            "standoff": 15
           },
           "zerolinecolor": "white",
           "zerolinewidth": 2
          },
          "yaxis": {
           "automargin": true,
           "gridcolor": "white",
           "linecolor": "white",
           "ticks": "",
           "title": {
            "standoff": 15
           },
           "zerolinecolor": "white",
           "zerolinewidth": 2
          }
         }
        },
        "title": {
         "text": "Top 10 Activities with Highest Shark Attack Frequency"
        },
        "xaxis": {
         "anchor": "y",
         "autorange": true,
         "domain": [
          0,
          1
         ],
         "range": [
          -0.5,
          5.5
         ],
         "tickangle": -45,
         "title": {
          "text": "Activity Type"
         },
         "type": "category"
        },
        "yaxis": {
         "anchor": "x",
         "autorange": true,
         "domain": [
          0,
          1
         ],
         "range": [
          0,
          1405.2631578947369
         ],
         "title": {
          "text": "Number of Attacks"
         },
         "type": "linear"
        }
       }
      },
      "image/png": "[encoded data removed]",
      "text/html": [
       "<div>                            <div id=\"223bd4c2-feb8-4212-a3fb-eb5c784e9f70\" class=\"plotly-graph-div\" style=\"height:525px; width:100%;\"></div>            <script type=\"text/javascript\">                require([\"plotly\"], function(Plotly) {                    window.PLOTLYENV=window.PLOTLYENV || {};                                    if (document.getElementById(\"223bd4c2-feb8-4212-a3fb-eb5c784e9f70\")) {                    Plotly.newPlot(                        \"223bd4c2-feb8-4212-a3fb-eb5c784e9f70\",                        [{\"alignmentgroup\":\"True\",\"hovertemplate\":\"Victim Sex=Male\\u003cbr\\u003eActivity Type=%{x}\\u003cbr\\u003eNumber of Attacks=%{y}\\u003cextra\\u003e\\u003c\\u002fextra\\u003e\",\"legendgroup\":\"Male\",\"marker\":{\"color\":\"#636efa\",\"pattern\":{\"shape\":\"\"}},\"name\":\"Male\",\"offsetgroup\":\"Male\",\"orientation\":\"v\",\"showlegend\":true,\"textposition\":\"auto\",\"x\":[\"water sports\",\"fishing\",\"swimming\",\"diving\",\"other\",\"unknown\"],\"xaxis\":\"x\",\"y\":[1335,918,764,414,286,206],\"yaxis\":\"y\",\"type\":\"bar\"},{\"alignmentgroup\":\"True\",\"hovertemplate\":\"Victim Sex=Female\\u003cbr\\u003eActivity Type=%{x}\\u003cbr\\u003eNumber of Attacks=%{y}\\u003cextra\\u003e\\u003c\\u002fextra\\u003e\",\"legendgroup\":\"Female\",\"marker\":{\"color\":\"#EF553B\",\"pattern\":{\"shape\":\"\"}},\"name\":\"Female\",\"offsetgroup\":\"Female\",\"orientation\":\"v\",\"showlegend\":true,\"textposition\":\"auto\",\"x\":[\"swimming\",\"water sports\",\"diving\"],\"xaxis\":\"x\",\"y\":[294,137,87],\"yaxis\":\"y\",\"type\":\"bar\"},{\"alignmentgroup\":\"True\",\"hovertemplate\":\"Victim Sex=Unknown\\u003cbr\\u003eActivity Type=%{x}\\u003cbr\\u003eNumber of Attacks=%{y}\\u003cextra\\u003e\\u003c\\u002fextra\\u003e\",\"legendgroup\":\"Unknown\",\"marker\":{\"color\":\"#00cc96\",\"pattern\":{\"shape\":\"\"}},\"name\":\"Unknown\",\"offsetgroup\":\"Unknown\",\"orientation\":\"v\",\"showlegend\":true,\"textposition\":\"auto\",\"x\":[\"fishing\"],\"xaxis\":\"x\",\"y\":[131],\"yaxis\":\"y\",\"type\":\"bar\"}],                        {\"template\":{\"data\":{\"histogram2dcontour\":[{\"type\":\"histogram2dcontour\",\"colorbar\":{\"outlinewidth\":0,\"ticks\":\"\"},\"colorscale\":[[0.0,\"#0d0887\"],[0.1111111111111111,\"#46039f\"],[0.2222222222222222,\"#7201a8\"],[0.3333333333333333,\"#9c179e\"],[0.4444444444444444,\"#bd3786\"],[0.5555555555555556,\"#d8576b\"],[0.6666666666666666,\"#ed7953\"],[0.7777777777777778,\"#fb9f3a\"],[0.8888888888888888,\"#fdca26\"],[1.0,\"#f0f921\"]]}],\"choropleth\":[{\"type\":\"choropleth\",\"colorbar\":{\"outlinewidth\":0,\"ticks\":\"\"}}],\"histogram2d\":[{\"type\":\"histogram2d\",\"colorbar\":{\"outlinewidth\":0,\"ticks\":\"\"},\"colorscale\":[[0.0,\"#0d0887\"],[0.1111111111111111,\"#46039f\"],[0.2222222222222222,\"#7201a8\"],[0.3333333333333333,\"#9c179e\"],[0.4444444444444444,\"#bd3786\"],[0.5555555555555556,\"#d8576b\"],[0.6666666666666666,\"#ed7953\"],[0.7777777777777778,\"#fb9f3a\"],[0.8888888888888888,\"#fdca26\"],[1.0,\"#f0f921\"]]}],\"heatmap\":[{\"type\":\"heatmap\",\"colorbar\":{\"outlinewidth\":0,\"ticks\":\"\"},\"colorscale\":[[0.0,\"#0d0887\"],[0.1111111111111111,\"#46039f\"],[0.2222222222222222,\"#7201a8\"],[0.3333333333333333,\"#9c179e\"],[0.4444444444444444,\"#bd3786\"],[0.5555555555555556,\"#d8576b\"],[0.6666666666666666,\"#ed7953\"],[0.7777777777777778,\"#fb9f3a\"],[0.8888888888888888,\"#fdca26\"],[1.0,\"#f0f921\"]]}],\"heatmapgl\":[{\"type\":\"heatmapgl\",\"colorbar\":{\"outlinewidth\":0,\"ticks\":\"\"},\"colorscale\":[[0.0,\"#0d0887\"],[0.1111111111111111,\"#46039f\"],[0.2222222222222222,\"#7201a8\"],[0.3333333333333333,\"#9c179e\"],[0.4444444444444444,\"#bd3786\"],[0.5555555555555556,\"#d8576b\"],[0.6666666666666666,\"#ed7953\"],[0.7777777777777778,\"#fb9f3a\"],[0.8888888888888888,\"#fdca26\"],[1.0,\"#f0f921\"]]}],\"contourcarpet\":[{\"type\":\"contourcarpet\",\"colorbar\":{\"outlinewidth\":0,\"ticks\":\"\"}}],\"contour\":[{\"type\":\"contour\",\"colorbar\":{\"outlinewidth\":0,\"ticks\":\"\"},\"colorscale\":[[0.0,\"#0d0887\"],[0.1111111111111111,\"#46039f\"],[0.2222222222222222,\"#7201a8\"],[0.3333333333333333,\"#9c179e\"],[0.4444444444444444,\"#bd3786\"],[0.5555555555555556,\"#d8576b\"],[0.6666666666666666,\"#ed7953\"],[0.7777777777777778,\"#fb9f3a\"],[0.8888888888888888,\"#fdca26\"],[1.0,\"#f0f921\"]]}],\"surface\":[{\"type\":\"surface\",\"colorbar\":{\"outlinewidth\":0,\"ticks\":\"\"},\"colorscale\":[[0.0,\"#0d0887\"],[0.1111111111111111,\"#46039f\"],[0.2222222222222222,\"#7201a8\"],[0.3333333333333333,\"#9c179e\"],[0.4444444444444444,\"#bd3786\"],[0.5555555555555556,\"#d8576b\"],[0.6666666666666666,\"#ed7953\"],[0.7777777777777778,\"#fb9f3a\"],[0.8888888888888888,\"#fdca26\"],[1.0,\"#f0f921\"]]}],\"mesh3d\":[{\"type\":\"mesh3d\",\"colorbar\":{\"outlinewidth\":0,\"ticks\":\"\"}}],\"scatter\":[{\"fillpattern\":{\"fillmode\":\"overlay\",\"size\":10,\"solidity\":0.2},\"type\":\"scatter\"}],\"parcoords\":[{\"type\":\"parcoords\",\"line\":{\"colorbar\":{\"outlinewidth\":0,\"ticks\":\"\"}}}],\"scatterpolargl\":[{\"type\":\"scatterpolargl\",\"marker\":{\"colorbar\":{\"outlinewidth\":0,\"ticks\":\"\"}}}],\"bar\":[{\"error_x\":{\"color\":\"#2a3f5f\"},\"error_y\":{\"color\":\"#2a3f5f\"},\"marker\":{\"line\":{\"color\":\"#E5ECF6\",\"width\":0.5},\"pattern\":{\"fillmode\":\"overlay\",\"size\":10,\"solidity\":0.2}},\"type\":\"bar\"}],\"scattergeo\":[{\"type\":\"scattergeo\",\"marker\":{\"colorbar\":{\"outlinewidth\":0,\"ticks\":\"\"}}}],\"scatterpolar\":[{\"type\":\"scatterpolar\",\"marker\":{\"colorbar\":{\"outlinewidth\":0,\"ticks\":\"\"}}}],\"histogram\":[{\"marker\":{\"pattern\":{\"fillmode\":\"overlay\",\"size\":10,\"solidity\":0.2}},\"type\":\"histogram\"}],\"scattergl\":[{\"type\":\"scattergl\",\"marker\":{\"colorbar\":{\"outlinewidth\":0,\"ticks\":\"\"}}}],\"scatter3d\":[{\"type\":\"scatter3d\",\"line\":{\"colorbar\":{\"outlinewidth\":0,\"ticks\":\"\"}},\"marker\":{\"colorbar\":{\"outlinewidth\":0,\"ticks\":\"\"}}}],\"scattermapbox\":[{\"type\":\"scattermapbox\",\"marker\":{\"colorbar\":{\"outlinewidth\":0,\"ticks\":\"\"}}}],\"scatterternary\":[{\"type\":\"scatterternary\",\"marker\":{\"colorbar\":{\"outlinewidth\":0,\"ticks\":\"\"}}}],\"scattercarpet\":[{\"type\":\"scattercarpet\",\"marker\":{\"colorbar\":{\"outlinewidth\":0,\"ticks\":\"\"}}}],\"carpet\":[{\"aaxis\":{\"endlinecolor\":\"#2a3f5f\",\"gridcolor\":\"white\",\"linecolor\":\"white\",\"minorgridcolor\":\"white\",\"startlinecolor\":\"#2a3f5f\"},\"baxis\":{\"endlinecolor\":\"#2a3f5f\",\"gridcolor\":\"white\",\"linecolor\":\"white\",\"minorgridcolor\":\"white\",\"startlinecolor\":\"#2a3f5f\"},\"type\":\"carpet\"}],\"table\":[{\"cells\":{\"fill\":{\"color\":\"#EBF0F8\"},\"line\":{\"color\":\"white\"}},\"header\":{\"fill\":{\"color\":\"#C8D4E3\"},\"line\":{\"color\":\"white\"}},\"type\":\"table\"}],\"barpolar\":[{\"marker\":{\"line\":{\"color\":\"#E5ECF6\",\"width\":0.5},\"pattern\":{\"fillmode\":\"overlay\",\"size\":10,\"solidity\":0.2}},\"type\":\"barpolar\"}],\"pie\":[{\"automargin\":true,\"type\":\"pie\"}]},\"layout\":{\"autotypenumbers\":\"strict\",\"colorway\":[\"#636efa\",\"#EF553B\",\"#00cc96\",\"#ab63fa\",\"#FFA15A\",\"#19d3f3\",\"#FF6692\",\"#B6E880\",\"#FF97FF\",\"#FECB52\"],\"font\":{\"color\":\"#2a3f5f\"},\"hovermode\":\"closest\",\"hoverlabel\":{\"align\":\"left\"},\"paper_bgcolor\":\"white\",\"plot_bgcolor\":\"#E5ECF6\",\"polar\":{\"bgcolor\":\"#E5ECF6\",\"angularaxis\":{\"gridcolor\":\"white\",\"linecolor\":\"white\",\"ticks\":\"\"},\"radialaxis\":{\"gridcolor\":\"white\",\"linecolor\":\"white\",\"ticks\":\"\"}},\"ternary\":{\"bgcolor\":\"#E5ECF6\",\"aaxis\":{\"gridcolor\":\"white\",\"linecolor\":\"white\",\"ticks\":\"\"},\"baxis\":{\"gridcolor\":\"white\",\"linecolor\":\"white\",\"ticks\":\"\"},\"caxis\":{\"gridcolor\":\"white\",\"linecolor\":\"white\",\"ticks\":\"\"}},\"coloraxis\":{\"colorbar\":{\"outlinewidth\":0,\"ticks\":\"\"}},\"colorscale\":{\"sequential\":[[0.0,\"#0d0887\"],[0.1111111111111111,\"#46039f\"],[0.2222222222222222,\"#7201a8\"],[0.3333333333333333,\"#9c179e\"],[0.4444444444444444,\"#bd3786\"],[0.5555555555555556,\"#d8576b\"],[0.6666666666666666,\"#ed7953\"],[0.7777777777777778,\"#fb9f3a\"],[0.8888888888888888,\"#fdca26\"],[1.0,\"#f0f921\"]],\"sequentialminus\":[[0.0,\"#0d0887\"],[0.1111111111111111,\"#46039f\"],[0.2222222222222222,\"#7201a8\"],[0.3333333333333333,\"#9c179e\"],[0.4444444444444444,\"#bd3786\"],[0.5555555555555556,\"#d8576b\"],[0.6666666666666666,\"#ed7953\"],[0.7777777777777778,\"#fb9f3a\"],[0.8888888888888888,\"#fdca26\"],[1.0,\"#f0f921\"]],\"diverging\":[[0,\"#8e0152\"],[0.1,\"#c51b7d\"],[0.2,\"#de77ae\"],[0.3,\"#f1b6da\"],[0.4,\"#fde0ef\"],[0.5,\"#f7f7f7\"],[0.6,\"#e6f5d0\"],[0.7,\"#b8e186\"],[0.8,\"#7fbc41\"],[0.9,\"#4d9221\"],[1,\"#276419\"]]},\"xaxis\":{\"gridcolor\":\"white\",\"linecolor\":\"white\",\"ticks\":\"\",\"title\":{\"standoff\":15},\"zerolinecolor\":\"white\",\"automargin\":true,\"zerolinewidth\":2},\"yaxis\":{\"gridcolor\":\"white\",\"linecolor\":\"white\",\"ticks\":\"\",\"title\":{\"standoff\":15},\"zerolinecolor\":\"white\",\"automargin\":true,\"zerolinewidth\":2},\"scene\":{\"xaxis\":{\"backgroundcolor\":\"#E5ECF6\",\"gridcolor\":\"white\",\"linecolor\":\"white\",\"showbackground\":true,\"ticks\":\"\",\"zerolinecolor\":\"white\",\"gridwidth\":2},\"yaxis\":{\"backgroundcolor\":\"#E5ECF6\",\"gridcolor\":\"white\",\"linecolor\":\"white\",\"showbackground\":true,\"ticks\":\"\",\"zerolinecolor\":\"white\",\"gridwidth\":2},\"zaxis\":{\"backgroundcolor\":\"#E5ECF6\",\"gridcolor\":\"white\",\"linecolor\":\"white\",\"showbackground\":true,\"ticks\":\"\",\"zerolinecolor\":\"white\",\"gridwidth\":2}},\"shapedefaults\":{\"line\":{\"color\":\"#2a3f5f\"}},\"annotationdefaults\":{\"arrowcolor\":\"#2a3f5f\",\"arrowhead\":0,\"arrowwidth\":1},\"geo\":{\"bgcolor\":\"white\",\"landcolor\":\"#E5ECF6\",\"subunitcolor\":\"white\",\"showland\":true,\"showlakes\":true,\"lakecolor\":\"white\"},\"title\":{\"x\":0.05},\"mapbox\":{\"style\":\"light\"}}},\"xaxis\":{\"anchor\":\"y\",\"domain\":[0.0,1.0],\"title\":{\"text\":\"Activity Type\"},\"tickangle\":-45},\"yaxis\":{\"anchor\":\"x\",\"domain\":[0.0,1.0],\"title\":{\"text\":\"Number of Attacks\"}},\"legend\":{\"title\":{\"text\":\"Victim Sex\"},\"tracegroupgap\":0},\"title\":{\"text\":\"Top 10 Activities with Highest Shark Attack Frequency\"},\"barmode\":\"relative\"},                        {\"responsive\": true}                    ).then(function(){\n",
       "                            \n",
       "var gd = document.getElementById('223bd4c2-feb8-4212-a3fb-eb5c784e9f70');\n",
       "var x = new MutationObserver(function (mutations, observer) {{\n",
       "        var display = window.getComputedStyle(gd).display;\n",
       "        if (!display || display === 'none') {{\n",
       "            console.log([gd, 'removed!']);\n",
       "            Plotly.purge(gd);\n",
       "            observer.disconnect();\n",
       "        }}\n",
       "}});\n",
       "\n",
       "// Listen for the removal of the full notebook cells\n",
       "var notebookContainer = gd.closest('#notebook-container');\n",
       "if (notebookContainer) {{\n",
       "    x.observe(notebookContainer, {childList: true});\n",
       "}}\n",
       "\n",
       "// Listen for the clearing of the current output cell\n",
       "var outputEl = gd.closest('.output');\n",
       "if (outputEl) {{\n",
       "    x.observe(outputEl, {childList: true});\n",
       "}}\n",
       "\n",
       "                        })                };                });            </script>        </div>"
      ]
     },
     "metadata": {},
     "output_type": "display_data"
    }
   ],
   "source": [
    "fig = px.bar(attack_analysis.sort_values(by=\"Total_Attacks\", ascending=False).head(10),  \n",
    "             x=\"Activity Category\", \n",
    "             y=\"Total_Attacks\", \n",
    "             color=\"Sex\",\n",
    "             title=\"Top 10 Activities with Highest Shark Attack Frequency\",\n",
    "             labels={\"Activity Category\": \"Activity Type\", \"Total_Attacks\": \"Number of Attacks\", \"Sex\": \"Victim Sex\"})\n",
    "\n",
    "fig.update_layout(xaxis_tickangle=-45)  # Improve readability\n",
    "fig.show()\n"
   ]
  },
  {
   "cell_type": "code",
   "execution_count": 361,
   "id": "1c9a0368-5a99-44fd-a405-bda0721f620b",
   "metadata": {},
   "outputs": [
    {
     "name": "stdout",
     "output_type": "stream",
     "text": [
      "             Country  Total Attacks  Fatal Attacks  Fatality Rate\n",
      "82     United States      38.382979       1.191489       3.627021\n",
      "4          Australia      14.369565       1.695652      15.830217\n",
      "71      South Africa       6.955556       0.866667      12.737333\n",
      "87           Vietnam       5.000000       0.000000       0.000000\n",
      "76          Tanzania       5.000000       5.000000     100.000000\n",
      "8             Brazil       3.437500       0.968750      24.374688\n",
      "23       El Salvador       3.000000       2.000000      66.670000\n",
      "47  Marshall Islands       3.000000       0.000000       0.000000\n",
      "5            Bahamas       2.682927       0.170732       4.105610\n",
      "54       New Zealand       2.535714       0.214286       8.928571\n"
     ]
    }
   ],
   "source": [
    "# Visalizing \"Top Countries with Highest Avg Yearly Shark Attacks (Since 1980) and \"Avg Yearly Fatality Rate vs. Attack Frequency (Since 1980)\",\n",
    "\n",
    "# The original dataset had values from as early as 4000 BC, since we are focusing on the impact on tourism, such early \n",
    "# values will not be relevant therefore we kept rows from 1950 onwards.\n",
    "\n",
    "# Step 1: Filter Data for Year 1980 Onward\n",
    "df_filtered = df[df[\"Year\"] >= 1980]\n",
    "\n",
    "# Step 2: Count Total Attacks Per Country & Year\n",
    "attacks_per_year_country = df_filtered.groupby([\"Country\", \"Year\"])[\"Fatal_Y/N\"].count().reset_index()\n",
    "attacks_per_year_country.columns = [\"Country\", \"Year\", \"Total Attacks\"]\n",
    "\n",
    "# Step 3: Count Fatal Attacks Per Country & Year\n",
    "fatal_attacks_per_year_country = df_filtered[df_filtered[\"Fatal_Y/N\"] == \"Y\"].groupby([\"Country\", \"Year\"])[\"Fatal_Y/N\"].count().reset_index()\n",
    "fatal_attacks_per_year_country.columns = [\"Country\", \"Year\", \"Fatal Attacks\"]\n",
    "\n",
    "# Step 4: Merge Data and Compute Yearly Fatality Rate Per Country\n",
    "yearly_stats = pd.merge(attacks_per_year_country, fatal_attacks_per_year_country, on=[\"Country\", \"Year\"], how=\"left\").fillna(0)\n",
    "yearly_stats[\"Fatality Rate\"] = (yearly_stats[\"Fatal Attacks\"] / yearly_stats[\"Total Attacks\"]).round(4) * 100\n",
    "\n",
    "# Step 5: Compute Average Per Year Since 1980\n",
    "avg_yearly_stats = yearly_stats.groupby(\"Country\")[[\"Total Attacks\", \"Fatal Attacks\", \"Fatality Rate\"]].mean().reset_index()\n",
    "\n",
    "# Select Top 10 Countries with Highest Avg Yearly Attacks\n",
    "top_avg_countries = avg_yearly_stats.sort_values(\"Total Attacks\", ascending=False).head(10)\n",
    "\n",
    "# Display processed data\n",
    "print(top_avg_countries)\n"
   ]
  },
  {
   "cell_type": "code",
   "execution_count": 363,
   "id": "65a8b175-bab6-47e8-a854-44142e4b074e",
   "metadata": {},
   "outputs": [
    {
     "data": {
      "application/vnd.plotly.v1+json": {
       "config": {
        "plotlyServerURL": "https://plot.ly"
       },
       "data": [
        {
         "alignmentgroup": "True",
         "hovertemplate": "Attack Type=Total Attacks<br>Country=%{x}<br>Average Number of Attacks=%{y}<extra></extra>",
         "legendgroup": "Total Attacks",
         "marker": {
          "color": "#636efa",
          "pattern": {
           "shape": ""
          }
         },
         "name": "Total Attacks",
         "offsetgroup": "Total Attacks",
         "orientation": "v",
         "showlegend": true,
         "textposition": "auto",
         "type": "bar",
         "x": [
          "United States",
          "Australia",
          "South Africa",
          "Vietnam",
          "Tanzania",
          "Brazil",
          "El Salvador",
          "Marshall Islands",
          "Bahamas",
          "New Zealand"
         ],
         "xaxis": "x",
         "y": [
          38.38297872340426,
          14.369565217391305,
          6.955555555555556,
          5,
          5,
          3.4375,
          3,
          3,
          2.682926829268293,
          2.5357142857142856
         ],
         "yaxis": "y"
        },
        {
         "alignmentgroup": "True",
         "hovertemplate": "Attack Type=Fatal Attacks<br>Country=%{x}<br>Average Number of Attacks=%{y}<extra></extra>",
         "legendgroup": "Fatal Attacks",
         "marker": {
          "color": "#EF553B",
          "pattern": {
           "shape": ""
          }
         },
         "name": "Fatal Attacks",
         "offsetgroup": "Fatal Attacks",
         "orientation": "v",
         "showlegend": true,
         "textposition": "auto",
         "type": "bar",
         "x": [
          "United States",
          "Australia",
          "South Africa",
          "Vietnam",
          "Tanzania",
          "Brazil",
          "El Salvador",
          "Marshall Islands",
          "Bahamas",
          "New Zealand"
         ],
         "xaxis": "x",
         "y": [
          1.1914893617021276,
          1.6956521739130435,
          0.8666666666666667,
          0,
          5,
          0.96875,
          2,
          0,
          0.17073170731707318,
          0.21428571428571427
         ],
         "yaxis": "y"
        }
       ],
       "layout": {
        "autosize": true,
        "barmode": "group",
        "legend": {
         "title": {
          "text": "Attack Type"
         },
         "tracegroupgap": 0
        },
        "template": {
         "data": {
          "bar": [
           {
            "error_x": {
             "color": "#f2f5fa"
            },
            "error_y": {
             "color": "#f2f5fa"
            },
            "marker": {
             "line": {
              "color": "rgb(17,17,17)",
              "width": 0.5
             },
             "pattern": {
              "fillmode": "overlay",
              "size": 10,
              "solidity": 0.2
             }
            },
            "type": "bar"
           }
          ],
          "barpolar": [
           {
            "marker": {
             "line": {
              "color": "rgb(17,17,17)",
              "width": 0.5
             },
             "pattern": {
              "fillmode": "overlay",
              "size": 10,
              "solidity": 0.2
             }
            },
            "type": "barpolar"
           }
          ],
          "carpet": [
           {
            "aaxis": {
             "endlinecolor": "#A2B1C6",
             "gridcolor": "#506784",
             "linecolor": "#506784",
             "minorgridcolor": "#506784",
             "startlinecolor": "#A2B1C6"
            },
            "baxis": {
             "endlinecolor": "#A2B1C6",
             "gridcolor": "#506784",
             "linecolor": "#506784",
             "minorgridcolor": "#506784",
             "startlinecolor": "#A2B1C6"
            },
            "type": "carpet"
           }
          ],
          "choropleth": [
           {
            "colorbar": {
             "outlinewidth": 0,
             "ticks": ""
            },
            "type": "choropleth"
           }
          ],
          "contour": [
           {
            "colorbar": {
             "outlinewidth": 0,
             "ticks": ""
            },
            "colorscale": [
             [
              0,
              "#0d0887"
             ],
             [
              0.1111111111111111,
              "#46039f"
             ],
             [
              0.2222222222222222,
              "#7201a8"
             ],
             [
              0.3333333333333333,
              "#9c179e"
             ],
             [
              0.4444444444444444,
              "#bd3786"
             ],
             [
              0.5555555555555556,
              "#d8576b"
             ],
             [
              0.6666666666666666,
              "#ed7953"
             ],
             [
              0.7777777777777778,
              "#fb9f3a"
             ],
             [
              0.8888888888888888,
              "#fdca26"
             ],
             [
              1,
              "#f0f921"
             ]
            ],
            "type": "contour"
           }
          ],
          "contourcarpet": [
           {
            "colorbar": {
             "outlinewidth": 0,
             "ticks": ""
            },
            "type": "contourcarpet"
           }
          ],
          "heatmap": [
           {
            "colorbar": {
             "outlinewidth": 0,
             "ticks": ""
            },
            "colorscale": [
             [
              0,
              "#0d0887"
             ],
             [
              0.1111111111111111,
              "#46039f"
             ],
             [
              0.2222222222222222,
              "#7201a8"
             ],
             [
              0.3333333333333333,
              "#9c179e"
             ],
             [
              0.4444444444444444,
              "#bd3786"
             ],
             [
              0.5555555555555556,
              "#d8576b"
             ],
             [
              0.6666666666666666,
              "#ed7953"
             ],
             [
              0.7777777777777778,
              "#fb9f3a"
             ],
             [
              0.8888888888888888,
              "#fdca26"
             ],
             [
              1,
              "#f0f921"
             ]
            ],
            "type": "heatmap"
           }
          ],
          "heatmapgl": [
           {
            "colorbar": {
             "outlinewidth": 0,
             "ticks": ""
            },
            "colorscale": [
             [
              0,
              "#0d0887"
             ],
             [
              0.1111111111111111,
              "#46039f"
             ],
             [
              0.2222222222222222,
              "#7201a8"
             ],
             [
              0.3333333333333333,
              "#9c179e"
             ],
             [
              0.4444444444444444,
              "#bd3786"
             ],
             [
              0.5555555555555556,
              "#d8576b"
             ],
             [
              0.6666666666666666,
              "#ed7953"
             ],
             [
              0.7777777777777778,
              "#fb9f3a"
             ],
             [
              0.8888888888888888,
              "#fdca26"
             ],
             [
              1,
              "#f0f921"
             ]
            ],
            "type": "heatmapgl"
           }
          ],
          "histogram": [
           {
            "marker": {
             "pattern": {
              "fillmode": "overlay",
              "size": 10,
              "solidity": 0.2
             }
            },
            "type": "histogram"
           }
          ],
          "histogram2d": [
           {
            "colorbar": {
             "outlinewidth": 0,
             "ticks": ""
            },
            "colorscale": [
             [
              0,
              "#0d0887"
             ],
             [
              0.1111111111111111,
              "#46039f"
             ],
             [
              0.2222222222222222,
              "#7201a8"
             ],
             [
              0.3333333333333333,
              "#9c179e"
             ],
             [
              0.4444444444444444,
              "#bd3786"
             ],
             [
              0.5555555555555556,
              "#d8576b"
             ],
             [
              0.6666666666666666,
              "#ed7953"
             ],
             [
              0.7777777777777778,
              "#fb9f3a"
             ],
             [
              0.8888888888888888,
              "#fdca26"
             ],
             [
              1,
              "#f0f921"
             ]
            ],
            "type": "histogram2d"
           }
          ],
          "histogram2dcontour": [
           {
            "colorbar": {
             "outlinewidth": 0,
             "ticks": ""
            },
            "colorscale": [
             [
              0,
              "#0d0887"
             ],
             [
              0.1111111111111111,
              "#46039f"
             ],
             [
              0.2222222222222222,
              "#7201a8"
             ],
             [
              0.3333333333333333,
              "#9c179e"
             ],
             [
              0.4444444444444444,
              "#bd3786"
             ],
             [
              0.5555555555555556,
              "#d8576b"
             ],
             [
              0.6666666666666666,
              "#ed7953"
             ],
             [
              0.7777777777777778,
              "#fb9f3a"
             ],
             [
              0.8888888888888888,
              "#fdca26"
             ],
             [
              1,
              "#f0f921"
             ]
            ],
            "type": "histogram2dcontour"
           }
          ],
          "mesh3d": [
           {
            "colorbar": {
             "outlinewidth": 0,
             "ticks": ""
            },
            "type": "mesh3d"
           }
          ],
          "parcoords": [
           {
            "line": {
             "colorbar": {
              "outlinewidth": 0,
              "ticks": ""
             }
            },
            "type": "parcoords"
           }
          ],
          "pie": [
           {
            "automargin": true,
            "type": "pie"
           }
          ],
          "scatter": [
           {
            "marker": {
             "line": {
              "color": "#283442"
             }
            },
            "type": "scatter"
           }
          ],
          "scatter3d": [
           {
            "line": {
             "colorbar": {
              "outlinewidth": 0,
              "ticks": ""
             }
            },
            "marker": {
             "colorbar": {
              "outlinewidth": 0,
              "ticks": ""
             }
            },
            "type": "scatter3d"
           }
          ],
          "scattercarpet": [
           {
            "marker": {
             "colorbar": {
              "outlinewidth": 0,
              "ticks": ""
             }
            },
            "type": "scattercarpet"
           }
          ],
          "scattergeo": [
           {
            "marker": {
             "colorbar": {
              "outlinewidth": 0,
              "ticks": ""
             }
            },
            "type": "scattergeo"
           }
          ],
          "scattergl": [
           {
            "marker": {
             "line": {
              "color": "#283442"
             }
            },
            "type": "scattergl"
           }
          ],
          "scattermapbox": [
           {
            "marker": {
             "colorbar": {
              "outlinewidth": 0,
              "ticks": ""
             }
            },
            "type": "scattermapbox"
           }
          ],
          "scatterpolar": [
           {
            "marker": {
             "colorbar": {
              "outlinewidth": 0,
              "ticks": ""
             }
            },
            "type": "scatterpolar"
           }
          ],
          "scatterpolargl": [
           {
            "marker": {
             "colorbar": {
              "outlinewidth": 0,
              "ticks": ""
             }
            },
            "type": "scatterpolargl"
           }
          ],
          "scatterternary": [
           {
            "marker": {
             "colorbar": {
              "outlinewidth": 0,
              "ticks": ""
             }
            },
            "type": "scatterternary"
           }
          ],
          "surface": [
           {
            "colorbar": {
             "outlinewidth": 0,
             "ticks": ""
            },
            "colorscale": [
             [
              0,
              "#0d0887"
             ],
             [
              0.1111111111111111,
              "#46039f"
             ],
             [
              0.2222222222222222,
              "#7201a8"
             ],
             [
              0.3333333333333333,
              "#9c179e"
             ],
             [
              0.4444444444444444,
              "#bd3786"
             ],
             [
              0.5555555555555556,
              "#d8576b"
             ],
             [
              0.6666666666666666,
              "#ed7953"
             ],
             [
              0.7777777777777778,
              "#fb9f3a"
             ],
             [
              0.8888888888888888,
              "#fdca26"
             ],
             [
              1,
              "#f0f921"
             ]
            ],
            "type": "surface"
           }
          ],
          "table": [
           {
            "cells": {
             "fill": {
              "color": "#506784"
             },
             "line": {
              "color": "rgb(17,17,17)"
             }
            },
            "header": {
             "fill": {
              "color": "#2a3f5f"
             },
             "line": {
              "color": "rgb(17,17,17)"
             }
            },
            "type": "table"
           }
          ]
         },
         "layout": {
          "annotationdefaults": {
           "arrowcolor": "#f2f5fa",
           "arrowhead": 0,
           "arrowwidth": 1
          },
          "autotypenumbers": "strict",
          "coloraxis": {
           "colorbar": {
            "outlinewidth": 0,
            "ticks": ""
           }
          },
          "colorscale": {
           "diverging": [
            [
             0,
             "#8e0152"
            ],
            [
             0.1,
             "#c51b7d"
            ],
            [
             0.2,
             "#de77ae"
            ],
            [
             0.3,
             "#f1b6da"
            ],
            [
             0.4,
             "#fde0ef"
            ],
            [
             0.5,
             "#f7f7f7"
            ],
            [
             0.6,
             "#e6f5d0"
            ],
            [
             0.7,
             "#b8e186"
            ],
            [
             0.8,
             "#7fbc41"
            ],
            [
             0.9,
             "#4d9221"
            ],
            [
             1,
             "#276419"
            ]
           ],
           "sequential": [
            [
             0,
             "#0d0887"
            ],
            [
             0.1111111111111111,
             "#46039f"
            ],
            [
             0.2222222222222222,
             "#7201a8"
            ],
            [
             0.3333333333333333,
             "#9c179e"
            ],
            [
             0.4444444444444444,
             "#bd3786"
            ],
            [
             0.5555555555555556,
             "#d8576b"
            ],
            [
             0.6666666666666666,
             "#ed7953"
            ],
            [
             0.7777777777777778,
             "#fb9f3a"
            ],
            [
             0.8888888888888888,
             "#fdca26"
            ],
            [
             1,
             "#f0f921"
            ]
           ],
           "sequentialminus": [
            [
             0,
             "#0d0887"
            ],
            [
             0.1111111111111111,
             "#46039f"
            ],
            [
             0.2222222222222222,
             "#7201a8"
            ],
            [
             0.3333333333333333,
             "#9c179e"
            ],
            [
             0.4444444444444444,
             "#bd3786"
            ],
            [
             0.5555555555555556,
             "#d8576b"
            ],
            [
             0.6666666666666666,
             "#ed7953"
            ],
            [
             0.7777777777777778,
             "#fb9f3a"
            ],
            [
             0.8888888888888888,
             "#fdca26"
            ],
            [
             1,
             "#f0f921"
            ]
           ]
          },
          "colorway": [
           "#636efa",
           "#EF553B",
           "#00cc96",
           "#ab63fa",
           "#FFA15A",
           "#19d3f3",
           "#FF6692",
           "#B6E880",
           "#FF97FF",
           "#FECB52"
          ],
          "font": {
           "color": "#f2f5fa"
          },
          "geo": {
           "bgcolor": "rgb(17,17,17)",
           "lakecolor": "rgb(17,17,17)",
           "landcolor": "rgb(17,17,17)",
           "showlakes": true,
           "showland": true,
           "subunitcolor": "#506784"
          },
          "hoverlabel": {
           "align": "left"
          },
          "hovermode": "closest",
          "mapbox": {
           "style": "dark"
          },
          "paper_bgcolor": "rgb(17,17,17)",
          "plot_bgcolor": "rgb(17,17,17)",
          "polar": {
           "angularaxis": {
            "gridcolor": "#506784",
            "linecolor": "#506784",
            "ticks": ""
           },
           "bgcolor": "rgb(17,17,17)",
           "radialaxis": {
            "gridcolor": "#506784",
            "linecolor": "#506784",
            "ticks": ""
           }
          },
          "scene": {
           "xaxis": {
            "backgroundcolor": "rgb(17,17,17)",
            "gridcolor": "#506784",
            "gridwidth": 2,
            "linecolor": "#506784",
            "showbackground": true,
            "ticks": "",
            "zerolinecolor": "#C8D4E3"
           },
           "yaxis": {
            "backgroundcolor": "rgb(17,17,17)",
            "gridcolor": "#506784",
            "gridwidth": 2,
            "linecolor": "#506784",
            "showbackground": true,
            "ticks": "",
            "zerolinecolor": "#C8D4E3"
           },
           "zaxis": {
            "backgroundcolor": "rgb(17,17,17)",
            "gridcolor": "#506784",
            "gridwidth": 2,
            "linecolor": "#506784",
            "showbackground": true,
            "ticks": "",
            "zerolinecolor": "#C8D4E3"
           }
          },
          "shapedefaults": {
           "line": {
            "color": "#f2f5fa"
           }
          },
          "sliderdefaults": {
           "bgcolor": "#C8D4E3",
           "bordercolor": "rgb(17,17,17)",
           "borderwidth": 1,
           "tickwidth": 0
          },
          "ternary": {
           "aaxis": {
            "gridcolor": "#506784",
            "linecolor": "#506784",
            "ticks": ""
           },
           "baxis": {
            "gridcolor": "#506784",
            "linecolor": "#506784",
            "ticks": ""
           },
           "bgcolor": "rgb(17,17,17)",
           "caxis": {
            "gridcolor": "#506784",
            "linecolor": "#506784",
            "ticks": ""
           }
          },
          "title": {
           "x": 0.05
          },
          "updatemenudefaults": {
           "bgcolor": "#506784",
           "borderwidth": 0
          },
          "xaxis": {
           "automargin": true,
           "gridcolor": "#283442",
           "linecolor": "#506784",
           "ticks": "",
           "title": {
            "standoff": 15
           },
           "zerolinecolor": "#283442",
           "zerolinewidth": 2
          },
          "yaxis": {
           "automargin": true,
           "gridcolor": "#283442",
           "linecolor": "#506784",
           "ticks": "",
           "title": {
            "standoff": 15
           },
           "zerolinecolor": "#283442",
           "zerolinewidth": 2
          }
         }
        },
        "title": {
         "text": "Top Countries with Highest Avg Yearly Shark Attacks (Since 1980)"
        },
        "xaxis": {
         "anchor": "y",
         "autorange": true,
         "domain": [
          0,
          1
         ],
         "range": [
          -0.5,
          9.5
         ],
         "title": {
          "text": "Country"
         },
         "type": "category"
        },
        "yaxis": {
         "anchor": "x",
         "autorange": true,
         "domain": [
          0,
          1
         ],
         "range": [
          0,
          40.40313549832027
         ],
         "title": {
          "text": "Average Number of Attacks"
         },
         "type": "linear"
        }
       }
      },
      "image/png": "[encoded data removed]",
      "text/html": [
       "<div>                            <div id=\"0432e461-9afe-4a0d-a9c7-1ee7aa867597\" class=\"plotly-graph-div\" style=\"height:525px; width:100%;\"></div>            <script type=\"text/javascript\">                require([\"plotly\"], function(Plotly) {                    window.PLOTLYENV=window.PLOTLYENV || {};                                    if (document.getElementById(\"0432e461-9afe-4a0d-a9c7-1ee7aa867597\")) {                    Plotly.newPlot(                        \"0432e461-9afe-4a0d-a9c7-1ee7aa867597\",                        [{\"alignmentgroup\":\"True\",\"hovertemplate\":\"Attack Type=Total Attacks\\u003cbr\\u003eCountry=%{x}\\u003cbr\\u003eAverage Number of Attacks=%{y}\\u003cextra\\u003e\\u003c\\u002fextra\\u003e\",\"legendgroup\":\"Total Attacks\",\"marker\":{\"color\":\"#636efa\",\"pattern\":{\"shape\":\"\"}},\"name\":\"Total Attacks\",\"offsetgroup\":\"Total Attacks\",\"orientation\":\"v\",\"showlegend\":true,\"textposition\":\"auto\",\"x\":[\"United States\",\"Australia\",\"South Africa\",\"Vietnam\",\"Tanzania\",\"Brazil\",\"El Salvador\",\"Marshall Islands\",\"Bahamas\",\"New Zealand\"],\"xaxis\":\"x\",\"y\":[38.38297872340426,14.369565217391305,6.955555555555556,5.0,5.0,3.4375,3.0,3.0,2.682926829268293,2.5357142857142856],\"yaxis\":\"y\",\"type\":\"bar\"},{\"alignmentgroup\":\"True\",\"hovertemplate\":\"Attack Type=Fatal Attacks\\u003cbr\\u003eCountry=%{x}\\u003cbr\\u003eAverage Number of Attacks=%{y}\\u003cextra\\u003e\\u003c\\u002fextra\\u003e\",\"legendgroup\":\"Fatal Attacks\",\"marker\":{\"color\":\"#EF553B\",\"pattern\":{\"shape\":\"\"}},\"name\":\"Fatal Attacks\",\"offsetgroup\":\"Fatal Attacks\",\"orientation\":\"v\",\"showlegend\":true,\"textposition\":\"auto\",\"x\":[\"United States\",\"Australia\",\"South Africa\",\"Vietnam\",\"Tanzania\",\"Brazil\",\"El Salvador\",\"Marshall Islands\",\"Bahamas\",\"New Zealand\"],\"xaxis\":\"x\",\"y\":[1.1914893617021276,1.6956521739130435,0.8666666666666667,0.0,5.0,0.96875,2.0,0.0,0.17073170731707318,0.21428571428571427],\"yaxis\":\"y\",\"type\":\"bar\"}],                        {\"template\":{\"data\":{\"barpolar\":[{\"marker\":{\"line\":{\"color\":\"rgb(17,17,17)\",\"width\":0.5},\"pattern\":{\"fillmode\":\"overlay\",\"size\":10,\"solidity\":0.2}},\"type\":\"barpolar\"}],\"bar\":[{\"error_x\":{\"color\":\"#f2f5fa\"},\"error_y\":{\"color\":\"#f2f5fa\"},\"marker\":{\"line\":{\"color\":\"rgb(17,17,17)\",\"width\":0.5},\"pattern\":{\"fillmode\":\"overlay\",\"size\":10,\"solidity\":0.2}},\"type\":\"bar\"}],\"carpet\":[{\"aaxis\":{\"endlinecolor\":\"#A2B1C6\",\"gridcolor\":\"#506784\",\"linecolor\":\"#506784\",\"minorgridcolor\":\"#506784\",\"startlinecolor\":\"#A2B1C6\"},\"baxis\":{\"endlinecolor\":\"#A2B1C6\",\"gridcolor\":\"#506784\",\"linecolor\":\"#506784\",\"minorgridcolor\":\"#506784\",\"startlinecolor\":\"#A2B1C6\"},\"type\":\"carpet\"}],\"choropleth\":[{\"colorbar\":{\"outlinewidth\":0,\"ticks\":\"\"},\"type\":\"choropleth\"}],\"contourcarpet\":[{\"colorbar\":{\"outlinewidth\":0,\"ticks\":\"\"},\"type\":\"contourcarpet\"}],\"contour\":[{\"colorbar\":{\"outlinewidth\":0,\"ticks\":\"\"},\"colorscale\":[[0.0,\"#0d0887\"],[0.1111111111111111,\"#46039f\"],[0.2222222222222222,\"#7201a8\"],[0.3333333333333333,\"#9c179e\"],[0.4444444444444444,\"#bd3786\"],[0.5555555555555556,\"#d8576b\"],[0.6666666666666666,\"#ed7953\"],[0.7777777777777778,\"#fb9f3a\"],[0.8888888888888888,\"#fdca26\"],[1.0,\"#f0f921\"]],\"type\":\"contour\"}],\"heatmapgl\":[{\"colorbar\":{\"outlinewidth\":0,\"ticks\":\"\"},\"colorscale\":[[0.0,\"#0d0887\"],[0.1111111111111111,\"#46039f\"],[0.2222222222222222,\"#7201a8\"],[0.3333333333333333,\"#9c179e\"],[0.4444444444444444,\"#bd3786\"],[0.5555555555555556,\"#d8576b\"],[0.6666666666666666,\"#ed7953\"],[0.7777777777777778,\"#fb9f3a\"],[0.8888888888888888,\"#fdca26\"],[1.0,\"#f0f921\"]],\"type\":\"heatmapgl\"}],\"heatmap\":[{\"colorbar\":{\"outlinewidth\":0,\"ticks\":\"\"},\"colorscale\":[[0.0,\"#0d0887\"],[0.1111111111111111,\"#46039f\"],[0.2222222222222222,\"#7201a8\"],[0.3333333333333333,\"#9c179e\"],[0.4444444444444444,\"#bd3786\"],[0.5555555555555556,\"#d8576b\"],[0.6666666666666666,\"#ed7953\"],[0.7777777777777778,\"#fb9f3a\"],[0.8888888888888888,\"#fdca26\"],[1.0,\"#f0f921\"]],\"type\":\"heatmap\"}],\"histogram2dcontour\":[{\"colorbar\":{\"outlinewidth\":0,\"ticks\":\"\"},\"colorscale\":[[0.0,\"#0d0887\"],[0.1111111111111111,\"#46039f\"],[0.2222222222222222,\"#7201a8\"],[0.3333333333333333,\"#9c179e\"],[0.4444444444444444,\"#bd3786\"],[0.5555555555555556,\"#d8576b\"],[0.6666666666666666,\"#ed7953\"],[0.7777777777777778,\"#fb9f3a\"],[0.8888888888888888,\"#fdca26\"],[1.0,\"#f0f921\"]],\"type\":\"histogram2dcontour\"}],\"histogram2d\":[{\"colorbar\":{\"outlinewidth\":0,\"ticks\":\"\"},\"colorscale\":[[0.0,\"#0d0887\"],[0.1111111111111111,\"#46039f\"],[0.2222222222222222,\"#7201a8\"],[0.3333333333333333,\"#9c179e\"],[0.4444444444444444,\"#bd3786\"],[0.5555555555555556,\"#d8576b\"],[0.6666666666666666,\"#ed7953\"],[0.7777777777777778,\"#fb9f3a\"],[0.8888888888888888,\"#fdca26\"],[1.0,\"#f0f921\"]],\"type\":\"histogram2d\"}],\"histogram\":[{\"marker\":{\"pattern\":{\"fillmode\":\"overlay\",\"size\":10,\"solidity\":0.2}},\"type\":\"histogram\"}],\"mesh3d\":[{\"colorbar\":{\"outlinewidth\":0,\"ticks\":\"\"},\"type\":\"mesh3d\"}],\"parcoords\":[{\"line\":{\"colorbar\":{\"outlinewidth\":0,\"ticks\":\"\"}},\"type\":\"parcoords\"}],\"pie\":[{\"automargin\":true,\"type\":\"pie\"}],\"scatter3d\":[{\"line\":{\"colorbar\":{\"outlinewidth\":0,\"ticks\":\"\"}},\"marker\":{\"colorbar\":{\"outlinewidth\":0,\"ticks\":\"\"}},\"type\":\"scatter3d\"}],\"scattercarpet\":[{\"marker\":{\"colorbar\":{\"outlinewidth\":0,\"ticks\":\"\"}},\"type\":\"scattercarpet\"}],\"scattergeo\":[{\"marker\":{\"colorbar\":{\"outlinewidth\":0,\"ticks\":\"\"}},\"type\":\"scattergeo\"}],\"scattergl\":[{\"marker\":{\"line\":{\"color\":\"#283442\"}},\"type\":\"scattergl\"}],\"scattermapbox\":[{\"marker\":{\"colorbar\":{\"outlinewidth\":0,\"ticks\":\"\"}},\"type\":\"scattermapbox\"}],\"scatterpolargl\":[{\"marker\":{\"colorbar\":{\"outlinewidth\":0,\"ticks\":\"\"}},\"type\":\"scatterpolargl\"}],\"scatterpolar\":[{\"marker\":{\"colorbar\":{\"outlinewidth\":0,\"ticks\":\"\"}},\"type\":\"scatterpolar\"}],\"scatter\":[{\"marker\":{\"line\":{\"color\":\"#283442\"}},\"type\":\"scatter\"}],\"scatterternary\":[{\"marker\":{\"colorbar\":{\"outlinewidth\":0,\"ticks\":\"\"}},\"type\":\"scatterternary\"}],\"surface\":[{\"colorbar\":{\"outlinewidth\":0,\"ticks\":\"\"},\"colorscale\":[[0.0,\"#0d0887\"],[0.1111111111111111,\"#46039f\"],[0.2222222222222222,\"#7201a8\"],[0.3333333333333333,\"#9c179e\"],[0.4444444444444444,\"#bd3786\"],[0.5555555555555556,\"#d8576b\"],[0.6666666666666666,\"#ed7953\"],[0.7777777777777778,\"#fb9f3a\"],[0.8888888888888888,\"#fdca26\"],[1.0,\"#f0f921\"]],\"type\":\"surface\"}],\"table\":[{\"cells\":{\"fill\":{\"color\":\"#506784\"},\"line\":{\"color\":\"rgb(17,17,17)\"}},\"header\":{\"fill\":{\"color\":\"#2a3f5f\"},\"line\":{\"color\":\"rgb(17,17,17)\"}},\"type\":\"table\"}]},\"layout\":{\"annotationdefaults\":{\"arrowcolor\":\"#f2f5fa\",\"arrowhead\":0,\"arrowwidth\":1},\"autotypenumbers\":\"strict\",\"coloraxis\":{\"colorbar\":{\"outlinewidth\":0,\"ticks\":\"\"}},\"colorscale\":{\"diverging\":[[0,\"#8e0152\"],[0.1,\"#c51b7d\"],[0.2,\"#de77ae\"],[0.3,\"#f1b6da\"],[0.4,\"#fde0ef\"],[0.5,\"#f7f7f7\"],[0.6,\"#e6f5d0\"],[0.7,\"#b8e186\"],[0.8,\"#7fbc41\"],[0.9,\"#4d9221\"],[1,\"#276419\"]],\"sequential\":[[0.0,\"#0d0887\"],[0.1111111111111111,\"#46039f\"],[0.2222222222222222,\"#7201a8\"],[0.3333333333333333,\"#9c179e\"],[0.4444444444444444,\"#bd3786\"],[0.5555555555555556,\"#d8576b\"],[0.6666666666666666,\"#ed7953\"],[0.7777777777777778,\"#fb9f3a\"],[0.8888888888888888,\"#fdca26\"],[1.0,\"#f0f921\"]],\"sequentialminus\":[[0.0,\"#0d0887\"],[0.1111111111111111,\"#46039f\"],[0.2222222222222222,\"#7201a8\"],[0.3333333333333333,\"#9c179e\"],[0.4444444444444444,\"#bd3786\"],[0.5555555555555556,\"#d8576b\"],[0.6666666666666666,\"#ed7953\"],[0.7777777777777778,\"#fb9f3a\"],[0.8888888888888888,\"#fdca26\"],[1.0,\"#f0f921\"]]},\"colorway\":[\"#636efa\",\"#EF553B\",\"#00cc96\",\"#ab63fa\",\"#FFA15A\",\"#19d3f3\",\"#FF6692\",\"#B6E880\",\"#FF97FF\",\"#FECB52\"],\"font\":{\"color\":\"#f2f5fa\"},\"geo\":{\"bgcolor\":\"rgb(17,17,17)\",\"lakecolor\":\"rgb(17,17,17)\",\"landcolor\":\"rgb(17,17,17)\",\"showlakes\":true,\"showland\":true,\"subunitcolor\":\"#506784\"},\"hoverlabel\":{\"align\":\"left\"},\"hovermode\":\"closest\",\"mapbox\":{\"style\":\"dark\"},\"paper_bgcolor\":\"rgb(17,17,17)\",\"plot_bgcolor\":\"rgb(17,17,17)\",\"polar\":{\"angularaxis\":{\"gridcolor\":\"#506784\",\"linecolor\":\"#506784\",\"ticks\":\"\"},\"bgcolor\":\"rgb(17,17,17)\",\"radialaxis\":{\"gridcolor\":\"#506784\",\"linecolor\":\"#506784\",\"ticks\":\"\"}},\"scene\":{\"xaxis\":{\"backgroundcolor\":\"rgb(17,17,17)\",\"gridcolor\":\"#506784\",\"gridwidth\":2,\"linecolor\":\"#506784\",\"showbackground\":true,\"ticks\":\"\",\"zerolinecolor\":\"#C8D4E3\"},\"yaxis\":{\"backgroundcolor\":\"rgb(17,17,17)\",\"gridcolor\":\"#506784\",\"gridwidth\":2,\"linecolor\":\"#506784\",\"showbackground\":true,\"ticks\":\"\",\"zerolinecolor\":\"#C8D4E3\"},\"zaxis\":{\"backgroundcolor\":\"rgb(17,17,17)\",\"gridcolor\":\"#506784\",\"gridwidth\":2,\"linecolor\":\"#506784\",\"showbackground\":true,\"ticks\":\"\",\"zerolinecolor\":\"#C8D4E3\"}},\"shapedefaults\":{\"line\":{\"color\":\"#f2f5fa\"}},\"sliderdefaults\":{\"bgcolor\":\"#C8D4E3\",\"bordercolor\":\"rgb(17,17,17)\",\"borderwidth\":1,\"tickwidth\":0},\"ternary\":{\"aaxis\":{\"gridcolor\":\"#506784\",\"linecolor\":\"#506784\",\"ticks\":\"\"},\"baxis\":{\"gridcolor\":\"#506784\",\"linecolor\":\"#506784\",\"ticks\":\"\"},\"bgcolor\":\"rgb(17,17,17)\",\"caxis\":{\"gridcolor\":\"#506784\",\"linecolor\":\"#506784\",\"ticks\":\"\"}},\"title\":{\"x\":0.05},\"updatemenudefaults\":{\"bgcolor\":\"#506784\",\"borderwidth\":0},\"xaxis\":{\"automargin\":true,\"gridcolor\":\"#283442\",\"linecolor\":\"#506784\",\"ticks\":\"\",\"title\":{\"standoff\":15},\"zerolinecolor\":\"#283442\",\"zerolinewidth\":2},\"yaxis\":{\"automargin\":true,\"gridcolor\":\"#283442\",\"linecolor\":\"#506784\",\"ticks\":\"\",\"title\":{\"standoff\":15},\"zerolinecolor\":\"#283442\",\"zerolinewidth\":2}}},\"xaxis\":{\"anchor\":\"y\",\"domain\":[0.0,1.0],\"title\":{\"text\":\"Country\"}},\"yaxis\":{\"anchor\":\"x\",\"domain\":[0.0,1.0],\"title\":{\"text\":\"Average Number of Attacks\"}},\"legend\":{\"title\":{\"text\":\"Attack Type\"},\"tracegroupgap\":0},\"title\":{\"text\":\"Top Countries with Highest Avg Yearly Shark Attacks (Since 1980)\"},\"barmode\":\"group\"},                        {\"responsive\": true}                    ).then(function(){\n",
       "                            \n",
       "var gd = document.getElementById('0432e461-9afe-4a0d-a9c7-1ee7aa867597');\n",
       "var x = new MutationObserver(function (mutations, observer) {{\n",
       "        var display = window.getComputedStyle(gd).display;\n",
       "        if (!display || display === 'none') {{\n",
       "            console.log([gd, 'removed!']);\n",
       "            Plotly.purge(gd);\n",
       "            observer.disconnect();\n",
       "        }}\n",
       "}});\n",
       "\n",
       "// Listen for the removal of the full notebook cells\n",
       "var notebookContainer = gd.closest('#notebook-container');\n",
       "if (notebookContainer) {{\n",
       "    x.observe(notebookContainer, {childList: true});\n",
       "}}\n",
       "\n",
       "// Listen for the clearing of the current output cell\n",
       "var outputEl = gd.closest('.output');\n",
       "if (outputEl) {{\n",
       "    x.observe(outputEl, {childList: true});\n",
       "}}\n",
       "\n",
       "                        })                };                });            </script>        </div>"
      ]
     },
     "metadata": {},
     "output_type": "display_data"
    },
    {
     "data": {
      "application/vnd.plotly.v1+json": {
       "config": {
        "plotlyServerURL": "https://plot.ly"
       },
       "data": [
        {
         "hovertemplate": "Country=United States<br>Avg Yearly Shark Attacks=%{x}<br>Avg Fatality Percentage=%{y}<extra></extra>",
         "legendgroup": "United States",
         "marker": {
          "color": "#636efa",
          "symbol": "circle"
         },
         "mode": "markers",
         "name": "United States",
         "orientation": "v",
         "showlegend": true,
         "type": "scatter",
         "x": [
          38.38297872340426
         ],
         "xaxis": "x",
         "y": [
          3.6270212765957446
         ],
         "yaxis": "y"
        },
        {
         "hovertemplate": "Country=Australia<br>Avg Yearly Shark Attacks=%{x}<br>Avg Fatality Percentage=%{y}<extra></extra>",
         "legendgroup": "Australia",
         "marker": {
          "color": "#EF553B",
          "symbol": "circle"
         },
         "mode": "markers",
         "name": "Australia",
         "orientation": "v",
         "showlegend": true,
         "type": "scatter",
         "x": [
          14.369565217391305
         ],
         "xaxis": "x",
         "y": [
          15.830217391304346
         ],
         "yaxis": "y"
        },
        {
         "hovertemplate": "Country=South Africa<br>Avg Yearly Shark Attacks=%{x}<br>Avg Fatality Percentage=%{y}<extra></extra>",
         "legendgroup": "South Africa",
         "marker": {
          "color": "#00cc96",
          "symbol": "circle"
         },
         "mode": "markers",
         "name": "South Africa",
         "orientation": "v",
         "showlegend": true,
         "type": "scatter",
         "x": [
          6.955555555555556
         ],
         "xaxis": "x",
         "y": [
          12.737333333333332
         ],
         "yaxis": "y"
        },
        {
         "hovertemplate": "Country=Vietnam<br>Avg Yearly Shark Attacks=%{x}<br>Avg Fatality Percentage=%{y}<extra></extra>",
         "legendgroup": "Vietnam",
         "marker": {
          "color": "#ab63fa",
          "symbol": "circle"
         },
         "mode": "markers",
         "name": "Vietnam",
         "orientation": "v",
         "showlegend": true,
         "type": "scatter",
         "x": [
          5
         ],
         "xaxis": "x",
         "y": [
          0
         ],
         "yaxis": "y"
        },
        {
         "hovertemplate": "Country=Tanzania<br>Avg Yearly Shark Attacks=%{x}<br>Avg Fatality Percentage=%{y}<extra></extra>",
         "legendgroup": "Tanzania",
         "marker": {
          "color": "#FFA15A",
          "symbol": "circle"
         },
         "mode": "markers",
         "name": "Tanzania",
         "orientation": "v",
         "showlegend": true,
         "type": "scatter",
         "x": [
          5
         ],
         "xaxis": "x",
         "y": [
          100
         ],
         "yaxis": "y"
        },
        {
         "hovertemplate": "Country=Brazil<br>Avg Yearly Shark Attacks=%{x}<br>Avg Fatality Percentage=%{y}<extra></extra>",
         "legendgroup": "Brazil",
         "marker": {
          "color": "#19d3f3",
          "symbol": "circle"
         },
         "mode": "markers",
         "name": "Brazil",
         "orientation": "v",
         "showlegend": true,
         "type": "scatter",
         "x": [
          3.4375
         ],
         "xaxis": "x",
         "y": [
          24.3746875
         ],
         "yaxis": "y"
        },
        {
         "hovertemplate": "Country=El Salvador<br>Avg Yearly Shark Attacks=%{x}<br>Avg Fatality Percentage=%{y}<extra></extra>",
         "legendgroup": "El Salvador",
         "marker": {
          "color": "#FF6692",
          "symbol": "circle"
         },
         "mode": "markers",
         "name": "El Salvador",
         "orientation": "v",
         "showlegend": true,
         "type": "scatter",
         "x": [
          3
         ],
         "xaxis": "x",
         "y": [
          66.67
         ],
         "yaxis": "y"
        },
        {
         "hovertemplate": "Country=Marshall Islands<br>Avg Yearly Shark Attacks=%{x}<br>Avg Fatality Percentage=%{y}<extra></extra>",
         "legendgroup": "Marshall Islands",
         "marker": {
          "color": "#B6E880",
          "symbol": "circle"
         },
         "mode": "markers",
         "name": "Marshall Islands",
         "orientation": "v",
         "showlegend": true,
         "type": "scatter",
         "x": [
          3
         ],
         "xaxis": "x",
         "y": [
          0
         ],
         "yaxis": "y"
        },
        {
         "hovertemplate": "Country=Bahamas<br>Avg Yearly Shark Attacks=%{x}<br>Avg Fatality Percentage=%{y}<extra></extra>",
         "legendgroup": "Bahamas",
         "marker": {
          "color": "#FF97FF",
          "symbol": "circle"
         },
         "mode": "markers",
         "name": "Bahamas",
         "orientation": "v",
         "showlegend": true,
         "type": "scatter",
         "x": [
          2.682926829268293
         ],
         "xaxis": "x",
         "y": [
          4.105609756097561
         ],
         "yaxis": "y"
        },
        {
         "hovertemplate": "Country=New Zealand<br>Avg Yearly Shark Attacks=%{x}<br>Avg Fatality Percentage=%{y}<extra></extra>",
         "legendgroup": "New Zealand",
         "marker": {
          "color": "#FECB52",
          "symbol": "circle"
         },
         "mode": "markers",
         "name": "New Zealand",
         "orientation": "v",
         "showlegend": true,
         "type": "scatter",
         "x": [
          2.5357142857142856
         ],
         "xaxis": "x",
         "y": [
          8.928571428571429
         ],
         "yaxis": "y"
        }
       ],
       "layout": {
        "autosize": true,
        "legend": {
         "title": {
          "text": "Country"
         },
         "tracegroupgap": 0
        },
        "template": {
         "data": {
          "bar": [
           {
            "error_x": {
             "color": "#f2f5fa"
            },
            "error_y": {
             "color": "#f2f5fa"
            },
            "marker": {
             "line": {
              "color": "rgb(17,17,17)",
              "width": 0.5
             },
             "pattern": {
              "fillmode": "overlay",
              "size": 10,
              "solidity": 0.2
             }
            },
            "type": "bar"
           }
          ],
          "barpolar": [
           {
            "marker": {
             "line": {
              "color": "rgb(17,17,17)",
              "width": 0.5
             },
             "pattern": {
              "fillmode": "overlay",
              "size": 10,
              "solidity": 0.2
             }
            },
            "type": "barpolar"
           }
          ],
          "carpet": [
           {
            "aaxis": {
             "endlinecolor": "#A2B1C6",
             "gridcolor": "#506784",
             "linecolor": "#506784",
             "minorgridcolor": "#506784",
             "startlinecolor": "#A2B1C6"
            },
            "baxis": {
             "endlinecolor": "#A2B1C6",
             "gridcolor": "#506784",
             "linecolor": "#506784",
             "minorgridcolor": "#506784",
             "startlinecolor": "#A2B1C6"
            },
            "type": "carpet"
           }
          ],
          "choropleth": [
           {
            "colorbar": {
             "outlinewidth": 0,
             "ticks": ""
            },
            "type": "choropleth"
           }
          ],
          "contour": [
           {
            "colorbar": {
             "outlinewidth": 0,
             "ticks": ""
            },
            "colorscale": [
             [
              0,
              "#0d0887"
             ],
             [
              0.1111111111111111,
              "#46039f"
             ],
             [
              0.2222222222222222,
              "#7201a8"
             ],
             [
              0.3333333333333333,
              "#9c179e"
             ],
             [
              0.4444444444444444,
              "#bd3786"
             ],
             [
              0.5555555555555556,
              "#d8576b"
             ],
             [
              0.6666666666666666,
              "#ed7953"
             ],
             [
              0.7777777777777778,
              "#fb9f3a"
             ],
             [
              0.8888888888888888,
              "#fdca26"
             ],
             [
              1,
              "#f0f921"
             ]
            ],
            "type": "contour"
           }
          ],
          "contourcarpet": [
           {
            "colorbar": {
             "outlinewidth": 0,
             "ticks": ""
            },
            "type": "contourcarpet"
           }
          ],
          "heatmap": [
           {
            "colorbar": {
             "outlinewidth": 0,
             "ticks": ""
            },
            "colorscale": [
             [
              0,
              "#0d0887"
             ],
             [
              0.1111111111111111,
              "#46039f"
             ],
             [
              0.2222222222222222,
              "#7201a8"
             ],
             [
              0.3333333333333333,
              "#9c179e"
             ],
             [
              0.4444444444444444,
              "#bd3786"
             ],
             [
              0.5555555555555556,
              "#d8576b"
             ],
             [
              0.6666666666666666,
              "#ed7953"
             ],
             [
              0.7777777777777778,
              "#fb9f3a"
             ],
             [
              0.8888888888888888,
              "#fdca26"
             ],
             [
              1,
              "#f0f921"
             ]
            ],
            "type": "heatmap"
           }
          ],
          "heatmapgl": [
           {
            "colorbar": {
             "outlinewidth": 0,
             "ticks": ""
            },
            "colorscale": [
             [
              0,
              "#0d0887"
             ],
             [
              0.1111111111111111,
              "#46039f"
             ],
             [
              0.2222222222222222,
              "#7201a8"
             ],
             [
              0.3333333333333333,
              "#9c179e"
             ],
             [
              0.4444444444444444,
              "#bd3786"
             ],
             [
              0.5555555555555556,
              "#d8576b"
             ],
             [
              0.6666666666666666,
              "#ed7953"
             ],
             [
              0.7777777777777778,
              "#fb9f3a"
             ],
             [
              0.8888888888888888,
              "#fdca26"
             ],
             [
              1,
              "#f0f921"
             ]
            ],
            "type": "heatmapgl"
           }
          ],
          "histogram": [
           {
            "marker": {
             "pattern": {
              "fillmode": "overlay",
              "size": 10,
              "solidity": 0.2
             }
            },
            "type": "histogram"
           }
          ],
          "histogram2d": [
           {
            "colorbar": {
             "outlinewidth": 0,
             "ticks": ""
            },
            "colorscale": [
             [
              0,
              "#0d0887"
             ],
             [
              0.1111111111111111,
              "#46039f"
             ],
             [
              0.2222222222222222,
              "#7201a8"
             ],
             [
              0.3333333333333333,
              "#9c179e"
             ],
             [
              0.4444444444444444,
              "#bd3786"
             ],
             [
              0.5555555555555556,
              "#d8576b"
             ],
             [
              0.6666666666666666,
              "#ed7953"
             ],
             [
              0.7777777777777778,
              "#fb9f3a"
             ],
             [
              0.8888888888888888,
              "#fdca26"
             ],
             [
              1,
              "#f0f921"
             ]
            ],
            "type": "histogram2d"
           }
          ],
          "histogram2dcontour": [
           {
            "colorbar": {
             "outlinewidth": 0,
             "ticks": ""
            },
            "colorscale": [
             [
              0,
              "#0d0887"
             ],
             [
              0.1111111111111111,
              "#46039f"
             ],
             [
              0.2222222222222222,
              "#7201a8"
             ],
             [
              0.3333333333333333,
              "#9c179e"
             ],
             [
              0.4444444444444444,
              "#bd3786"
             ],
             [
              0.5555555555555556,
              "#d8576b"
             ],
             [
              0.6666666666666666,
              "#ed7953"
             ],
             [
              0.7777777777777778,
              "#fb9f3a"
             ],
             [
              0.8888888888888888,
              "#fdca26"
             ],
             [
              1,
              "#f0f921"
             ]
            ],
            "type": "histogram2dcontour"
           }
          ],
          "mesh3d": [
           {
            "colorbar": {
             "outlinewidth": 0,
             "ticks": ""
            },
            "type": "mesh3d"
           }
          ],
          "parcoords": [
           {
            "line": {
             "colorbar": {
              "outlinewidth": 0,
              "ticks": ""
             }
            },
            "type": "parcoords"
           }
          ],
          "pie": [
           {
            "automargin": true,
            "type": "pie"
           }
          ],
          "scatter": [
           {
            "marker": {
             "line": {
              "color": "#283442"
             }
            },
            "type": "scatter"
           }
          ],
          "scatter3d": [
           {
            "line": {
             "colorbar": {
              "outlinewidth": 0,
              "ticks": ""
             }
            },
            "marker": {
             "colorbar": {
              "outlinewidth": 0,
              "ticks": ""
             }
            },
            "type": "scatter3d"
           }
          ],
          "scattercarpet": [
           {
            "marker": {
             "colorbar": {
              "outlinewidth": 0,
              "ticks": ""
             }
            },
            "type": "scattercarpet"
           }
          ],
          "scattergeo": [
           {
            "marker": {
             "colorbar": {
              "outlinewidth": 0,
              "ticks": ""
             }
            },
            "type": "scattergeo"
           }
          ],
          "scattergl": [
           {
            "marker": {
             "line": {
              "color": "#283442"
             }
            },
            "type": "scattergl"
           }
          ],
          "scattermapbox": [
           {
            "marker": {
             "colorbar": {
              "outlinewidth": 0,
              "ticks": ""
             }
            },
            "type": "scattermapbox"
           }
          ],
          "scatterpolar": [
           {
            "marker": {
             "colorbar": {
              "outlinewidth": 0,
              "ticks": ""
             }
            },
            "type": "scatterpolar"
           }
          ],
          "scatterpolargl": [
           {
            "marker": {
             "colorbar": {
              "outlinewidth": 0,
              "ticks": ""
             }
            },
            "type": "scatterpolargl"
           }
          ],
          "scatterternary": [
           {
            "marker": {
             "colorbar": {
              "outlinewidth": 0,
              "ticks": ""
             }
            },
            "type": "scatterternary"
           }
          ],
          "surface": [
           {
            "colorbar": {
             "outlinewidth": 0,
             "ticks": ""
            },
            "colorscale": [
             [
              0,
              "#0d0887"
             ],
             [
              0.1111111111111111,
              "#46039f"
             ],
             [
              0.2222222222222222,
              "#7201a8"
             ],
             [
              0.3333333333333333,
              "#9c179e"
             ],
             [
              0.4444444444444444,
              "#bd3786"
             ],
             [
              0.5555555555555556,
              "#d8576b"
             ],
             [
              0.6666666666666666,
              "#ed7953"
             ],
             [
              0.7777777777777778,
              "#fb9f3a"
             ],
             [
              0.8888888888888888,
              "#fdca26"
             ],
             [
              1,
              "#f0f921"
             ]
            ],
            "type": "surface"
           }
          ],
          "table": [
           {
            "cells": {
             "fill": {
              "color": "#506784"
             },
             "line": {
              "color": "rgb(17,17,17)"
             }
            },
            "header": {
             "fill": {
              "color": "#2a3f5f"
             },
             "line": {
              "color": "rgb(17,17,17)"
             }
            },
            "type": "table"
           }
          ]
         },
         "layout": {
          "annotationdefaults": {
           "arrowcolor": "#f2f5fa",
           "arrowhead": 0,
           "arrowwidth": 1
          },
          "autotypenumbers": "strict",
          "coloraxis": {
           "colorbar": {
            "outlinewidth": 0,
            "ticks": ""
           }
          },
          "colorscale": {
           "diverging": [
            [
             0,
             "#8e0152"
            ],
            [
             0.1,
             "#c51b7d"
            ],
            [
             0.2,
             "#de77ae"
            ],
            [
             0.3,
             "#f1b6da"
            ],
            [
             0.4,
             "#fde0ef"
            ],
            [
             0.5,
             "#f7f7f7"
            ],
            [
             0.6,
             "#e6f5d0"
            ],
            [
             0.7,
             "#b8e186"
            ],
            [
             0.8,
             "#7fbc41"
            ],
            [
             0.9,
             "#4d9221"
            ],
            [
             1,
             "#276419"
            ]
           ],
           "sequential": [
            [
             0,
             "#0d0887"
            ],
            [
             0.1111111111111111,
             "#46039f"
            ],
            [
             0.2222222222222222,
             "#7201a8"
            ],
            [
             0.3333333333333333,
             "#9c179e"
            ],
            [
             0.4444444444444444,
             "#bd3786"
            ],
            [
             0.5555555555555556,
             "#d8576b"
            ],
            [
             0.6666666666666666,
             "#ed7953"
            ],
            [
             0.7777777777777778,
             "#fb9f3a"
            ],
            [
             0.8888888888888888,
             "#fdca26"
            ],
            [
             1,
             "#f0f921"
            ]
           ],
           "sequentialminus": [
            [
             0,
             "#0d0887"
            ],
            [
             0.1111111111111111,
             "#46039f"
            ],
            [
             0.2222222222222222,
             "#7201a8"
            ],
            [
             0.3333333333333333,
             "#9c179e"
            ],
            [
             0.4444444444444444,
             "#bd3786"
            ],
            [
             0.5555555555555556,
             "#d8576b"
            ],
            [
             0.6666666666666666,
             "#ed7953"
            ],
            [
             0.7777777777777778,
             "#fb9f3a"
            ],
            [
             0.8888888888888888,
             "#fdca26"
            ],
            [
             1,
             "#f0f921"
            ]
           ]
          },
          "colorway": [
           "#636efa",
           "#EF553B",
           "#00cc96",
           "#ab63fa",
           "#FFA15A",
           "#19d3f3",
           "#FF6692",
           "#B6E880",
           "#FF97FF",
           "#FECB52"
          ],
          "font": {
           "color": "#f2f5fa"
          },
          "geo": {
           "bgcolor": "rgb(17,17,17)",
           "lakecolor": "rgb(17,17,17)",
           "landcolor": "rgb(17,17,17)",
           "showlakes": true,
           "showland": true,
           "subunitcolor": "#506784"
          },
          "hoverlabel": {
           "align": "left"
          },
          "hovermode": "closest",
          "mapbox": {
           "style": "dark"
          },
          "paper_bgcolor": "rgb(17,17,17)",
          "plot_bgcolor": "rgb(17,17,17)",
          "polar": {
           "angularaxis": {
            "gridcolor": "#506784",
            "linecolor": "#506784",
            "ticks": ""
           },
           "bgcolor": "rgb(17,17,17)",
           "radialaxis": {
            "gridcolor": "#506784",
            "linecolor": "#506784",
            "ticks": ""
           }
          },
          "scene": {
           "xaxis": {
            "backgroundcolor": "rgb(17,17,17)",
            "gridcolor": "#506784",
            "gridwidth": 2,
            "linecolor": "#506784",
            "showbackground": true,
            "ticks": "",
            "zerolinecolor": "#C8D4E3"
           },
           "yaxis": {
            "backgroundcolor": "rgb(17,17,17)",
            "gridcolor": "#506784",
            "gridwidth": 2,
            "linecolor": "#506784",
            "showbackground": true,
            "ticks": "",
            "zerolinecolor": "#C8D4E3"
           },
           "zaxis": {
            "backgroundcolor": "rgb(17,17,17)",
            "gridcolor": "#506784",
            "gridwidth": 2,
            "linecolor": "#506784",
            "showbackground": true,
            "ticks": "",
            "zerolinecolor": "#C8D4E3"
           }
          },
          "shapedefaults": {
           "line": {
            "color": "#f2f5fa"
           }
          },
          "sliderdefaults": {
           "bgcolor": "#C8D4E3",
           "bordercolor": "rgb(17,17,17)",
           "borderwidth": 1,
           "tickwidth": 0
          },
          "ternary": {
           "aaxis": {
            "gridcolor": "#506784",
            "linecolor": "#506784",
            "ticks": ""
           },
           "baxis": {
            "gridcolor": "#506784",
            "linecolor": "#506784",
            "ticks": ""
           },
           "bgcolor": "rgb(17,17,17)",
           "caxis": {
            "gridcolor": "#506784",
            "linecolor": "#506784",
            "ticks": ""
           }
          },
          "title": {
           "x": 0.05
          },
          "updatemenudefaults": {
           "bgcolor": "#506784",
           "borderwidth": 0
          },
          "xaxis": {
           "automargin": true,
           "gridcolor": "#283442",
           "linecolor": "#506784",
           "ticks": "",
           "title": {
            "standoff": 15
           },
           "zerolinecolor": "#283442",
           "zerolinewidth": 2
          },
          "yaxis": {
           "automargin": true,
           "gridcolor": "#283442",
           "linecolor": "#506784",
           "ticks": "",
           "title": {
            "standoff": 15
           },
           "zerolinecolor": "#283442",
           "zerolinewidth": 2
          }
         }
        },
        "title": {
         "text": "Avg Yearly Fatality Rate vs. Attack Frequency (Since 1980)"
        },
        "xaxis": {
         "anchor": "y",
         "autorange": true,
         "domain": [
          0,
          1
         ],
         "range": [
          0.350246079832524,
          40.56844692928602
         ],
         "title": {
          "text": "Avg Yearly Shark Attacks"
         },
         "type": "linear"
        },
        "yaxis": {
         "anchor": "x",
         "autorange": true,
         "domain": [
          0,
          1
         ],
         "range": [
          -8.252427184466018,
          108.25242718446601
         ],
         "title": {
          "text": "Avg Fatality Percentage"
         },
         "type": "linear"
        }
       }
      },
      "image/png": "[encoded data removed]",
      "text/html": [
       "<div>                            <div id=\"fdccb85e-356d-4cad-9637-2466c52a485e\" class=\"plotly-graph-div\" style=\"height:525px; width:100%;\"></div>            <script type=\"text/javascript\">                require([\"plotly\"], function(Plotly) {                    window.PLOTLYENV=window.PLOTLYENV || {};                                    if (document.getElementById(\"fdccb85e-356d-4cad-9637-2466c52a485e\")) {                    Plotly.newPlot(                        \"fdccb85e-356d-4cad-9637-2466c52a485e\",                        [{\"hovertemplate\":\"Country=United States\\u003cbr\\u003eAvg Yearly Shark Attacks=%{x}\\u003cbr\\u003eAvg Fatality Percentage=%{y}\\u003cextra\\u003e\\u003c\\u002fextra\\u003e\",\"legendgroup\":\"United States\",\"marker\":{\"color\":\"#636efa\",\"symbol\":\"circle\"},\"mode\":\"markers\",\"name\":\"United States\",\"orientation\":\"v\",\"showlegend\":true,\"x\":[38.38297872340426],\"xaxis\":\"x\",\"y\":[3.6270212765957446],\"yaxis\":\"y\",\"type\":\"scatter\"},{\"hovertemplate\":\"Country=Australia\\u003cbr\\u003eAvg Yearly Shark Attacks=%{x}\\u003cbr\\u003eAvg Fatality Percentage=%{y}\\u003cextra\\u003e\\u003c\\u002fextra\\u003e\",\"legendgroup\":\"Australia\",\"marker\":{\"color\":\"#EF553B\",\"symbol\":\"circle\"},\"mode\":\"markers\",\"name\":\"Australia\",\"orientation\":\"v\",\"showlegend\":true,\"x\":[14.369565217391305],\"xaxis\":\"x\",\"y\":[15.830217391304346],\"yaxis\":\"y\",\"type\":\"scatter\"},{\"hovertemplate\":\"Country=South Africa\\u003cbr\\u003eAvg Yearly Shark Attacks=%{x}\\u003cbr\\u003eAvg Fatality Percentage=%{y}\\u003cextra\\u003e\\u003c\\u002fextra\\u003e\",\"legendgroup\":\"South Africa\",\"marker\":{\"color\":\"#00cc96\",\"symbol\":\"circle\"},\"mode\":\"markers\",\"name\":\"South Africa\",\"orientation\":\"v\",\"showlegend\":true,\"x\":[6.955555555555556],\"xaxis\":\"x\",\"y\":[12.737333333333332],\"yaxis\":\"y\",\"type\":\"scatter\"},{\"hovertemplate\":\"Country=Vietnam\\u003cbr\\u003eAvg Yearly Shark Attacks=%{x}\\u003cbr\\u003eAvg Fatality Percentage=%{y}\\u003cextra\\u003e\\u003c\\u002fextra\\u003e\",\"legendgroup\":\"Vietnam\",\"marker\":{\"color\":\"#ab63fa\",\"symbol\":\"circle\"},\"mode\":\"markers\",\"name\":\"Vietnam\",\"orientation\":\"v\",\"showlegend\":true,\"x\":[5.0],\"xaxis\":\"x\",\"y\":[0.0],\"yaxis\":\"y\",\"type\":\"scatter\"},{\"hovertemplate\":\"Country=Tanzania\\u003cbr\\u003eAvg Yearly Shark Attacks=%{x}\\u003cbr\\u003eAvg Fatality Percentage=%{y}\\u003cextra\\u003e\\u003c\\u002fextra\\u003e\",\"legendgroup\":\"Tanzania\",\"marker\":{\"color\":\"#FFA15A\",\"symbol\":\"circle\"},\"mode\":\"markers\",\"name\":\"Tanzania\",\"orientation\":\"v\",\"showlegend\":true,\"x\":[5.0],\"xaxis\":\"x\",\"y\":[100.0],\"yaxis\":\"y\",\"type\":\"scatter\"},{\"hovertemplate\":\"Country=Brazil\\u003cbr\\u003eAvg Yearly Shark Attacks=%{x}\\u003cbr\\u003eAvg Fatality Percentage=%{y}\\u003cextra\\u003e\\u003c\\u002fextra\\u003e\",\"legendgroup\":\"Brazil\",\"marker\":{\"color\":\"#19d3f3\",\"symbol\":\"circle\"},\"mode\":\"markers\",\"name\":\"Brazil\",\"orientation\":\"v\",\"showlegend\":true,\"x\":[3.4375],\"xaxis\":\"x\",\"y\":[24.3746875],\"yaxis\":\"y\",\"type\":\"scatter\"},{\"hovertemplate\":\"Country=El Salvador\\u003cbr\\u003eAvg Yearly Shark Attacks=%{x}\\u003cbr\\u003eAvg Fatality Percentage=%{y}\\u003cextra\\u003e\\u003c\\u002fextra\\u003e\",\"legendgroup\":\"El Salvador\",\"marker\":{\"color\":\"#FF6692\",\"symbol\":\"circle\"},\"mode\":\"markers\",\"name\":\"El Salvador\",\"orientation\":\"v\",\"showlegend\":true,\"x\":[3.0],\"xaxis\":\"x\",\"y\":[66.67],\"yaxis\":\"y\",\"type\":\"scatter\"},{\"hovertemplate\":\"Country=Marshall Islands\\u003cbr\\u003eAvg Yearly Shark Attacks=%{x}\\u003cbr\\u003eAvg Fatality Percentage=%{y}\\u003cextra\\u003e\\u003c\\u002fextra\\u003e\",\"legendgroup\":\"Marshall Islands\",\"marker\":{\"color\":\"#B6E880\",\"symbol\":\"circle\"},\"mode\":\"markers\",\"name\":\"Marshall Islands\",\"orientation\":\"v\",\"showlegend\":true,\"x\":[3.0],\"xaxis\":\"x\",\"y\":[0.0],\"yaxis\":\"y\",\"type\":\"scatter\"},{\"hovertemplate\":\"Country=Bahamas\\u003cbr\\u003eAvg Yearly Shark Attacks=%{x}\\u003cbr\\u003eAvg Fatality Percentage=%{y}\\u003cextra\\u003e\\u003c\\u002fextra\\u003e\",\"legendgroup\":\"Bahamas\",\"marker\":{\"color\":\"#FF97FF\",\"symbol\":\"circle\"},\"mode\":\"markers\",\"name\":\"Bahamas\",\"orientation\":\"v\",\"showlegend\":true,\"x\":[2.682926829268293],\"xaxis\":\"x\",\"y\":[4.105609756097561],\"yaxis\":\"y\",\"type\":\"scatter\"},{\"hovertemplate\":\"Country=New Zealand\\u003cbr\\u003eAvg Yearly Shark Attacks=%{x}\\u003cbr\\u003eAvg Fatality Percentage=%{y}\\u003cextra\\u003e\\u003c\\u002fextra\\u003e\",\"legendgroup\":\"New Zealand\",\"marker\":{\"color\":\"#FECB52\",\"symbol\":\"circle\"},\"mode\":\"markers\",\"name\":\"New Zealand\",\"orientation\":\"v\",\"showlegend\":true,\"x\":[2.5357142857142856],\"xaxis\":\"x\",\"y\":[8.928571428571429],\"yaxis\":\"y\",\"type\":\"scatter\"}],                        {\"template\":{\"data\":{\"barpolar\":[{\"marker\":{\"line\":{\"color\":\"rgb(17,17,17)\",\"width\":0.5},\"pattern\":{\"fillmode\":\"overlay\",\"size\":10,\"solidity\":0.2}},\"type\":\"barpolar\"}],\"bar\":[{\"error_x\":{\"color\":\"#f2f5fa\"},\"error_y\":{\"color\":\"#f2f5fa\"},\"marker\":{\"line\":{\"color\":\"rgb(17,17,17)\",\"width\":0.5},\"pattern\":{\"fillmode\":\"overlay\",\"size\":10,\"solidity\":0.2}},\"type\":\"bar\"}],\"carpet\":[{\"aaxis\":{\"endlinecolor\":\"#A2B1C6\",\"gridcolor\":\"#506784\",\"linecolor\":\"#506784\",\"minorgridcolor\":\"#506784\",\"startlinecolor\":\"#A2B1C6\"},\"baxis\":{\"endlinecolor\":\"#A2B1C6\",\"gridcolor\":\"#506784\",\"linecolor\":\"#506784\",\"minorgridcolor\":\"#506784\",\"startlinecolor\":\"#A2B1C6\"},\"type\":\"carpet\"}],\"choropleth\":[{\"colorbar\":{\"outlinewidth\":0,\"ticks\":\"\"},\"type\":\"choropleth\"}],\"contourcarpet\":[{\"colorbar\":{\"outlinewidth\":0,\"ticks\":\"\"},\"type\":\"contourcarpet\"}],\"contour\":[{\"colorbar\":{\"outlinewidth\":0,\"ticks\":\"\"},\"colorscale\":[[0.0,\"#0d0887\"],[0.1111111111111111,\"#46039f\"],[0.2222222222222222,\"#7201a8\"],[0.3333333333333333,\"#9c179e\"],[0.4444444444444444,\"#bd3786\"],[0.5555555555555556,\"#d8576b\"],[0.6666666666666666,\"#ed7953\"],[0.7777777777777778,\"#fb9f3a\"],[0.8888888888888888,\"#fdca26\"],[1.0,\"#f0f921\"]],\"type\":\"contour\"}],\"heatmapgl\":[{\"colorbar\":{\"outlinewidth\":0,\"ticks\":\"\"},\"colorscale\":[[0.0,\"#0d0887\"],[0.1111111111111111,\"#46039f\"],[0.2222222222222222,\"#7201a8\"],[0.3333333333333333,\"#9c179e\"],[0.4444444444444444,\"#bd3786\"],[0.5555555555555556,\"#d8576b\"],[0.6666666666666666,\"#ed7953\"],[0.7777777777777778,\"#fb9f3a\"],[0.8888888888888888,\"#fdca26\"],[1.0,\"#f0f921\"]],\"type\":\"heatmapgl\"}],\"heatmap\":[{\"colorbar\":{\"outlinewidth\":0,\"ticks\":\"\"},\"colorscale\":[[0.0,\"#0d0887\"],[0.1111111111111111,\"#46039f\"],[0.2222222222222222,\"#7201a8\"],[0.3333333333333333,\"#9c179e\"],[0.4444444444444444,\"#bd3786\"],[0.5555555555555556,\"#d8576b\"],[0.6666666666666666,\"#ed7953\"],[0.7777777777777778,\"#fb9f3a\"],[0.8888888888888888,\"#fdca26\"],[1.0,\"#f0f921\"]],\"type\":\"heatmap\"}],\"histogram2dcontour\":[{\"colorbar\":{\"outlinewidth\":0,\"ticks\":\"\"},\"colorscale\":[[0.0,\"#0d0887\"],[0.1111111111111111,\"#46039f\"],[0.2222222222222222,\"#7201a8\"],[0.3333333333333333,\"#9c179e\"],[0.4444444444444444,\"#bd3786\"],[0.5555555555555556,\"#d8576b\"],[0.6666666666666666,\"#ed7953\"],[0.7777777777777778,\"#fb9f3a\"],[0.8888888888888888,\"#fdca26\"],[1.0,\"#f0f921\"]],\"type\":\"histogram2dcontour\"}],\"histogram2d\":[{\"colorbar\":{\"outlinewidth\":0,\"ticks\":\"\"},\"colorscale\":[[0.0,\"#0d0887\"],[0.1111111111111111,\"#46039f\"],[0.2222222222222222,\"#7201a8\"],[0.3333333333333333,\"#9c179e\"],[0.4444444444444444,\"#bd3786\"],[0.5555555555555556,\"#d8576b\"],[0.6666666666666666,\"#ed7953\"],[0.7777777777777778,\"#fb9f3a\"],[0.8888888888888888,\"#fdca26\"],[1.0,\"#f0f921\"]],\"type\":\"histogram2d\"}],\"histogram\":[{\"marker\":{\"pattern\":{\"fillmode\":\"overlay\",\"size\":10,\"solidity\":0.2}},\"type\":\"histogram\"}],\"mesh3d\":[{\"colorbar\":{\"outlinewidth\":0,\"ticks\":\"\"},\"type\":\"mesh3d\"}],\"parcoords\":[{\"line\":{\"colorbar\":{\"outlinewidth\":0,\"ticks\":\"\"}},\"type\":\"parcoords\"}],\"pie\":[{\"automargin\":true,\"type\":\"pie\"}],\"scatter3d\":[{\"line\":{\"colorbar\":{\"outlinewidth\":0,\"ticks\":\"\"}},\"marker\":{\"colorbar\":{\"outlinewidth\":0,\"ticks\":\"\"}},\"type\":\"scatter3d\"}],\"scattercarpet\":[{\"marker\":{\"colorbar\":{\"outlinewidth\":0,\"ticks\":\"\"}},\"type\":\"scattercarpet\"}],\"scattergeo\":[{\"marker\":{\"colorbar\":{\"outlinewidth\":0,\"ticks\":\"\"}},\"type\":\"scattergeo\"}],\"scattergl\":[{\"marker\":{\"line\":{\"color\":\"#283442\"}},\"type\":\"scattergl\"}],\"scattermapbox\":[{\"marker\":{\"colorbar\":{\"outlinewidth\":0,\"ticks\":\"\"}},\"type\":\"scattermapbox\"}],\"scatterpolargl\":[{\"marker\":{\"colorbar\":{\"outlinewidth\":0,\"ticks\":\"\"}},\"type\":\"scatterpolargl\"}],\"scatterpolar\":[{\"marker\":{\"colorbar\":{\"outlinewidth\":0,\"ticks\":\"\"}},\"type\":\"scatterpolar\"}],\"scatter\":[{\"marker\":{\"line\":{\"color\":\"#283442\"}},\"type\":\"scatter\"}],\"scatterternary\":[{\"marker\":{\"colorbar\":{\"outlinewidth\":0,\"ticks\":\"\"}},\"type\":\"scatterternary\"}],\"surface\":[{\"colorbar\":{\"outlinewidth\":0,\"ticks\":\"\"},\"colorscale\":[[0.0,\"#0d0887\"],[0.1111111111111111,\"#46039f\"],[0.2222222222222222,\"#7201a8\"],[0.3333333333333333,\"#9c179e\"],[0.4444444444444444,\"#bd3786\"],[0.5555555555555556,\"#d8576b\"],[0.6666666666666666,\"#ed7953\"],[0.7777777777777778,\"#fb9f3a\"],[0.8888888888888888,\"#fdca26\"],[1.0,\"#f0f921\"]],\"type\":\"surface\"}],\"table\":[{\"cells\":{\"fill\":{\"color\":\"#506784\"},\"line\":{\"color\":\"rgb(17,17,17)\"}},\"header\":{\"fill\":{\"color\":\"#2a3f5f\"},\"line\":{\"color\":\"rgb(17,17,17)\"}},\"type\":\"table\"}]},\"layout\":{\"annotationdefaults\":{\"arrowcolor\":\"#f2f5fa\",\"arrowhead\":0,\"arrowwidth\":1},\"autotypenumbers\":\"strict\",\"coloraxis\":{\"colorbar\":{\"outlinewidth\":0,\"ticks\":\"\"}},\"colorscale\":{\"diverging\":[[0,\"#8e0152\"],[0.1,\"#c51b7d\"],[0.2,\"#de77ae\"],[0.3,\"#f1b6da\"],[0.4,\"#fde0ef\"],[0.5,\"#f7f7f7\"],[0.6,\"#e6f5d0\"],[0.7,\"#b8e186\"],[0.8,\"#7fbc41\"],[0.9,\"#4d9221\"],[1,\"#276419\"]],\"sequential\":[[0.0,\"#0d0887\"],[0.1111111111111111,\"#46039f\"],[0.2222222222222222,\"#7201a8\"],[0.3333333333333333,\"#9c179e\"],[0.4444444444444444,\"#bd3786\"],[0.5555555555555556,\"#d8576b\"],[0.6666666666666666,\"#ed7953\"],[0.7777777777777778,\"#fb9f3a\"],[0.8888888888888888,\"#fdca26\"],[1.0,\"#f0f921\"]],\"sequentialminus\":[[0.0,\"#0d0887\"],[0.1111111111111111,\"#46039f\"],[0.2222222222222222,\"#7201a8\"],[0.3333333333333333,\"#9c179e\"],[0.4444444444444444,\"#bd3786\"],[0.5555555555555556,\"#d8576b\"],[0.6666666666666666,\"#ed7953\"],[0.7777777777777778,\"#fb9f3a\"],[0.8888888888888888,\"#fdca26\"],[1.0,\"#f0f921\"]]},\"colorway\":[\"#636efa\",\"#EF553B\",\"#00cc96\",\"#ab63fa\",\"#FFA15A\",\"#19d3f3\",\"#FF6692\",\"#B6E880\",\"#FF97FF\",\"#FECB52\"],\"font\":{\"color\":\"#f2f5fa\"},\"geo\":{\"bgcolor\":\"rgb(17,17,17)\",\"lakecolor\":\"rgb(17,17,17)\",\"landcolor\":\"rgb(17,17,17)\",\"showlakes\":true,\"showland\":true,\"subunitcolor\":\"#506784\"},\"hoverlabel\":{\"align\":\"left\"},\"hovermode\":\"closest\",\"mapbox\":{\"style\":\"dark\"},\"paper_bgcolor\":\"rgb(17,17,17)\",\"plot_bgcolor\":\"rgb(17,17,17)\",\"polar\":{\"angularaxis\":{\"gridcolor\":\"#506784\",\"linecolor\":\"#506784\",\"ticks\":\"\"},\"bgcolor\":\"rgb(17,17,17)\",\"radialaxis\":{\"gridcolor\":\"#506784\",\"linecolor\":\"#506784\",\"ticks\":\"\"}},\"scene\":{\"xaxis\":{\"backgroundcolor\":\"rgb(17,17,17)\",\"gridcolor\":\"#506784\",\"gridwidth\":2,\"linecolor\":\"#506784\",\"showbackground\":true,\"ticks\":\"\",\"zerolinecolor\":\"#C8D4E3\"},\"yaxis\":{\"backgroundcolor\":\"rgb(17,17,17)\",\"gridcolor\":\"#506784\",\"gridwidth\":2,\"linecolor\":\"#506784\",\"showbackground\":true,\"ticks\":\"\",\"zerolinecolor\":\"#C8D4E3\"},\"zaxis\":{\"backgroundcolor\":\"rgb(17,17,17)\",\"gridcolor\":\"#506784\",\"gridwidth\":2,\"linecolor\":\"#506784\",\"showbackground\":true,\"ticks\":\"\",\"zerolinecolor\":\"#C8D4E3\"}},\"shapedefaults\":{\"line\":{\"color\":\"#f2f5fa\"}},\"sliderdefaults\":{\"bgcolor\":\"#C8D4E3\",\"bordercolor\":\"rgb(17,17,17)\",\"borderwidth\":1,\"tickwidth\":0},\"ternary\":{\"aaxis\":{\"gridcolor\":\"#506784\",\"linecolor\":\"#506784\",\"ticks\":\"\"},\"baxis\":{\"gridcolor\":\"#506784\",\"linecolor\":\"#506784\",\"ticks\":\"\"},\"bgcolor\":\"rgb(17,17,17)\",\"caxis\":{\"gridcolor\":\"#506784\",\"linecolor\":\"#506784\",\"ticks\":\"\"}},\"title\":{\"x\":0.05},\"updatemenudefaults\":{\"bgcolor\":\"#506784\",\"borderwidth\":0},\"xaxis\":{\"automargin\":true,\"gridcolor\":\"#283442\",\"linecolor\":\"#506784\",\"ticks\":\"\",\"title\":{\"standoff\":15},\"zerolinecolor\":\"#283442\",\"zerolinewidth\":2},\"yaxis\":{\"automargin\":true,\"gridcolor\":\"#283442\",\"linecolor\":\"#506784\",\"ticks\":\"\",\"title\":{\"standoff\":15},\"zerolinecolor\":\"#283442\",\"zerolinewidth\":2}}},\"xaxis\":{\"anchor\":\"y\",\"domain\":[0.0,1.0],\"title\":{\"text\":\"Avg Yearly Shark Attacks\"}},\"yaxis\":{\"anchor\":\"x\",\"domain\":[0.0,1.0],\"title\":{\"text\":\"Avg Fatality Percentage\"}},\"legend\":{\"title\":{\"text\":\"Country\"},\"tracegroupgap\":0},\"title\":{\"text\":\"Avg Yearly Fatality Rate vs. Attack Frequency (Since 1980)\"}},                        {\"responsive\": true}                    ).then(function(){\n",
       "                            \n",
       "var gd = document.getElementById('fdccb85e-356d-4cad-9637-2466c52a485e');\n",
       "var x = new MutationObserver(function (mutations, observer) {{\n",
       "        var display = window.getComputedStyle(gd).display;\n",
       "        if (!display || display === 'none') {{\n",
       "            console.log([gd, 'removed!']);\n",
       "            Plotly.purge(gd);\n",
       "            observer.disconnect();\n",
       "        }}\n",
       "}});\n",
       "\n",
       "// Listen for the removal of the full notebook cells\n",
       "var notebookContainer = gd.closest('#notebook-container');\n",
       "if (notebookContainer) {{\n",
       "    x.observe(notebookContainer, {childList: true});\n",
       "}}\n",
       "\n",
       "// Listen for the clearing of the current output cell\n",
       "var outputEl = gd.closest('.output');\n",
       "if (outputEl) {{\n",
       "    x.observe(outputEl, {childList: true});\n",
       "}}\n",
       "\n",
       "                        })                };                });            </script>        </div>"
      ]
     },
     "metadata": {},
     "output_type": "display_data"
    }
   ],
   "source": [
    "fig = px.bar(top_avg_countries, \n",
    "             x=\"Country\", \n",
    "             y=[\"Total Attacks\", \"Fatal Attacks\"], \n",
    "             title=\"Top Countries with Highest Avg Yearly Shark Attacks (Since 1980)\",\n",
    "             labels={\"value\": \"Average Number of Attacks\", \"variable\": \"Attack Type\"},\n",
    "             barmode=\"group\",\n",
    "             template=\"plotly_dark\")\n",
    "\n",
    "fig.show()\n",
    "\n",
    "fig = px.scatter(top_avg_countries, \n",
    "                 x=\"Total Attacks\", \n",
    "                 y=\"Fatality Rate\",\n",
    "                 color=\"Country\",\n",
    "                 title=\"Avg Yearly Fatality Rate vs. Attack Frequency (Since 1980)\",\n",
    "                 labels={\"Total Attacks\": \"Avg Yearly Shark Attacks\", \"Fatality Rate\": \"Avg Fatality Percentage\"},\n",
    "                 template=\"plotly_dark\")\n",
    "\n",
    "fig.show()\n"
   ]
  },
  {
   "cell_type": "code",
   "execution_count": 369,
   "id": "7e52b78d-dd3f-43ac-8383-fd0f9819de17",
   "metadata": {},
   "outputs": [
    {
     "name": "stdout",
     "output_type": "stream",
     "text": [
      "              Country                   Species  Avg Yearly Attacks\n",
      "106     United States     Unknown Shark Species           11.605263\n",
      "91      United States         Great White Shark            5.986667\n",
      "18          Australia     Unknown Shark Species            4.223881\n",
      "105     United States               Tiger Shark            3.906250\n",
      "86      United States                Bull Shark            3.338710\n",
      "7           Australia         Great White Shark            3.104478\n",
      "69   Papua New Guinea     Unknown Shark Species            3.080000\n",
      "103     United States  Tasseled Wobbegong Shark            2.904762\n",
      "39             Brazil     Unknown Shark Species            2.777778\n",
      "3           Australia                Bull Shark            2.545455\n"
     ]
    }
   ],
   "source": [
    "import pandas as pd\n",
    "import plotly.express as px\n",
    "\n",
    "# Standardize species column and remove unknown species\n",
    "df_filtered = df[(df[\"Species\"].notna()) & (df[\"Species\"] != \"Unknown\")]\n",
    "\n",
    "# Identify the top 10 countries with the most attacks\n",
    "top_countries = df_filtered[\"Country\"].value_counts().nlargest(10).index\n",
    "\n",
    "# Filter dataset to include only attacks from the top 10 countries\n",
    "df_filtered = df_filtered[df_filtered[\"Country\"].isin(top_countries)]\n",
    "\n",
    "# Count attacks per species & year per country\n",
    "species_yearly_counts = df_filtered.groupby([\"Country\", \"Species\", \"Year\"]).size().reset_index(name=\"Yearly Count\")\n",
    "\n",
    "# Compute the average yearly attack count per species & country\n",
    "species_avg_yearly = species_yearly_counts.groupby([\"Country\", \"Species\"])[\"Yearly Count\"].mean().reset_index()\n",
    "species_avg_yearly.columns = [\"Country\", \"Species\", \"Avg Yearly Attacks\"]\n",
    "\n",
    "# Sort by highest average attack count (optional)\n",
    "species_avg_yearly.sort_values(by=\"Avg Yearly Attacks\", ascending=False, inplace=True)\n",
    "\n",
    "# Display processed data (optional)\n",
    "print(species_avg_yearly.head(10))  # Show top 10 records\n"
   ]
  },
  {
   "cell_type": "code",
   "execution_count": 371,
   "id": "db34c7c0-8080-4f53-b36a-b2cff8e8da25",
   "metadata": {},
   "outputs": [
    {
     "data": {
      "application/vnd.plotly.v1+json": {
       "config": {
        "plotlyServerURL": "https://plot.ly"
       },
       "data": [
        {
         "alignmentgroup": "True",
         "hovertemplate": "Shark Type=Unknown Shark Species<br>Country=%{x}<br>Average Yearly Attacks=%{y}<extra></extra>",
         "legendgroup": "Unknown Shark Species",
         "marker": {
          "color": "#636efa",
          "pattern": {
           "shape": ""
          }
         },
         "name": "Unknown Shark Species",
         "offsetgroup": "Unknown Shark Species",
         "orientation": "v",
         "showlegend": true,
         "textposition": "auto",
         "type": "bar",
         "visible": "legendonly",
         "x": [
          "United States",
          "Australia",
          "Papua New Guinea",
          "Brazil",
          "South Africa",
          "Unknown",
          "Mexico",
          "Bahamas",
          "New Zealand",
          "New Caledonia"
         ],
         "xaxis": "x",
         "y": [
          11.605263157894736,
          4.223880597014926,
          3.08,
          2.7777777777777777,
          2.2037037037037037,
          2,
          1.75,
          1.6538461538461537,
          1.4375,
          1.4
         ],
         "yaxis": "y"
        },
        {
         "alignmentgroup": "True",
         "hovertemplate": "Shark Type=Great White Shark<br>Country=%{x}<br>Average Yearly Attacks=%{y}<extra></extra>",
         "legendgroup": "Great White Shark",
         "marker": {
          "color": "#EF553B",
          "pattern": {
           "shape": ""
          }
         },
         "name": "Great White Shark",
         "offsetgroup": "Great White Shark",
         "orientation": "v",
         "showlegend": true,
         "textposition": "auto",
         "type": "bar",
         "x": [
          "United States",
          "Australia",
          "South Africa",
          "Mexico",
          "Papua New Guinea",
          "Unknown",
          "New Zealand",
          "Brazil",
          "Bahamas",
          "New Caledonia"
         ],
         "xaxis": "x",
         "y": [
          5.986666666666666,
          3.1044776119402986,
          2.484375,
          1.5,
          1.2857142857142858,
          1.2142857142857142,
          1.2105263157894737,
          1.2,
          1,
          1
         ],
         "yaxis": "y"
        },
        {
         "alignmentgroup": "True",
         "hovertemplate": "Shark Type=Tiger Shark<br>Country=%{x}<br>Average Yearly Attacks=%{y}<extra></extra>",
         "legendgroup": "Tiger Shark",
         "marker": {
          "color": "#00cc96",
          "pattern": {
           "shape": ""
          }
         },
         "name": "Tiger Shark",
         "offsetgroup": "Tiger Shark",
         "orientation": "v",
         "showlegend": true,
         "textposition": "auto",
         "type": "bar",
         "x": [
          "United States",
          "Australia",
          "South Africa",
          "Brazil",
          "Papua New Guinea",
          "New Caledonia",
          "Unknown",
          "Bahamas",
          "Mexico",
          "New Zealand"
         ],
         "xaxis": "x",
         "y": [
          3.90625,
          2.423076923076923,
          2.4,
          1.4285714285714286,
          1.4166666666666667,
          1.3636363636363635,
          1.2,
          1.125,
          1.1111111111111112,
          1
         ],
         "yaxis": "y"
        },
        {
         "alignmentgroup": "True",
         "hovertemplate": "Shark Type=Bull Shark<br>Country=%{x}<br>Average Yearly Attacks=%{y}<extra></extra>",
         "legendgroup": "Bull Shark",
         "marker": {
          "color": "#ab63fa",
          "pattern": {
           "shape": ""
          }
         },
         "name": "Bull Shark",
         "offsetgroup": "Bull Shark",
         "orientation": "v",
         "showlegend": true,
         "textposition": "auto",
         "type": "bar",
         "x": [
          "United States",
          "Australia",
          "Brazil",
          "New Zealand",
          "South Africa",
          "Papua New Guinea",
          "Bahamas",
          "New Caledonia",
          "Unknown",
          "Mexico"
         ],
         "xaxis": "x",
         "y": [
          3.338709677419355,
          2.5454545454545454,
          1.5,
          1.3333333333333333,
          1.2692307692307692,
          1.2,
          1.1666666666666667,
          1.1666666666666667,
          1,
          1
         ],
         "yaxis": "y"
        },
        {
         "alignmentgroup": "True",
         "hovertemplate": "Shark Type=Tasseled Wobbegong Shark<br>Country=%{x}<br>Average Yearly Attacks=%{y}<extra></extra>",
         "legendgroup": "Tasseled Wobbegong Shark",
         "marker": {
          "color": "#FFA15A",
          "pattern": {
           "shape": ""
          }
         },
         "name": "Tasseled Wobbegong Shark",
         "offsetgroup": "Tasseled Wobbegong Shark",
         "orientation": "v",
         "showlegend": true,
         "textposition": "auto",
         "type": "bar",
         "x": [
          "United States",
          "Australia",
          "Unknown",
          "Bahamas",
          "South Africa",
          "Papua New Guinea",
          "New Zealand",
          "New Caledonia"
         ],
         "xaxis": "x",
         "y": [
          2.9047619047619047,
          1.8108108108108107,
          1,
          1,
          1,
          1,
          1,
          1
         ],
         "yaxis": "y"
        },
        {
         "alignmentgroup": "True",
         "hovertemplate": "Shark Type=Blacktip Shark<br>Country=%{x}<br>Average Yearly Attacks=%{y}<extra></extra>",
         "legendgroup": "Blacktip Shark",
         "marker": {
          "color": "#19d3f3",
          "pattern": {
           "shape": ""
          }
         },
         "name": "Blacktip Shark",
         "offsetgroup": "Blacktip Shark",
         "orientation": "v",
         "showlegend": true,
         "textposition": "auto",
         "type": "bar",
         "x": [
          "United States",
          "Unknown",
          "Australia",
          "Bahamas",
          "South Africa"
         ],
         "xaxis": "x",
         "y": [
          2.3846153846153846,
          1,
          1,
          1,
          1
         ],
         "yaxis": "y"
        },
        {
         "alignmentgroup": "True",
         "hovertemplate": "Shark Type=Bronze Whaler Shark<br>Country=%{x}<br>Average Yearly Attacks=%{y}<extra></extra>",
         "legendgroup": "Bronze Whaler Shark",
         "marker": {
          "color": "#FF6692",
          "pattern": {
           "shape": ""
          }
         },
         "name": "Bronze Whaler Shark",
         "offsetgroup": "Bronze Whaler Shark",
         "orientation": "v",
         "showlegend": true,
         "textposition": "auto",
         "type": "bar",
         "x": [
          "Papua New Guinea",
          "Australia",
          "New Zealand"
         ],
         "xaxis": "x",
         "y": [
          2,
          1.7179487179487178,
          1.125
         ],
         "yaxis": "y"
        },
        {
         "alignmentgroup": "True",
         "hovertemplate": "Shark Type=Cookiecutter Shark<br>Country=%{x}<br>Average Yearly Attacks=%{y}<extra></extra>",
         "legendgroup": "Cookiecutter Shark",
         "marker": {
          "color": "#B6E880",
          "pattern": {
           "shape": ""
          }
         },
         "name": "Cookiecutter Shark",
         "offsetgroup": "Cookiecutter Shark",
         "orientation": "v",
         "showlegend": true,
         "textposition": "auto",
         "type": "bar",
         "x": [
          "New Zealand",
          "United States",
          "Australia",
          "Unknown",
          "Bahamas",
          "Brazil",
          "South Africa"
         ],
         "xaxis": "x",
         "y": [
          2,
          1.4,
          1.3333333333333333,
          1,
          1,
          1,
          1
         ],
         "yaxis": "y"
        },
        {
         "alignmentgroup": "True",
         "hovertemplate": "Shark Type=Nurse Shark<br>Country=%{x}<br>Average Yearly Attacks=%{y}<extra></extra>",
         "legendgroup": "Nurse Shark",
         "marker": {
          "color": "#FF97FF",
          "pattern": {
           "shape": ""
          }
         },
         "name": "Nurse Shark",
         "offsetgroup": "Nurse Shark",
         "orientation": "v",
         "showlegend": true,
         "textposition": "auto",
         "type": "bar",
         "x": [
          "Bahamas",
          "United States",
          "Australia",
          "New Zealand"
         ],
         "xaxis": "x",
         "y": [
          1.6,
          1.4375,
          1.4166666666666667,
          1
         ],
         "yaxis": "y"
        },
        {
         "alignmentgroup": "True",
         "hovertemplate": "Shark Type=Hammerhead Shark<br>Country=%{x}<br>Average Yearly Attacks=%{y}<extra></extra>",
         "legendgroup": "Hammerhead Shark",
         "marker": {
          "color": "#FECB52",
          "pattern": {
           "shape": ""
          }
         },
         "name": "Hammerhead Shark",
         "offsetgroup": "Hammerhead Shark",
         "orientation": "v",
         "showlegend": true,
         "textposition": "auto",
         "type": "bar",
         "x": [
          "United States",
          "South Africa",
          "Australia",
          "Brazil",
          "Mexico"
         ],
         "xaxis": "x",
         "y": [
          1.5789473684210527,
          1.5,
          1.25,
          1,
          1
         ],
         "yaxis": "y"
        },
        {
         "alignmentgroup": "True",
         "hovertemplate": "Shark Type=Caribbean Reef Shark<br>Country=%{x}<br>Average Yearly Attacks=%{y}<extra></extra>",
         "legendgroup": "Caribbean Reef Shark",
         "marker": {
          "color": "#636efa",
          "pattern": {
           "shape": ""
          }
         },
         "name": "Caribbean Reef Shark",
         "offsetgroup": "Caribbean Reef Shark",
         "orientation": "v",
         "showlegend": true,
         "textposition": "auto",
         "type": "bar",
         "x": [
          "United States",
          "Australia",
          "Bahamas",
          "Unknown"
         ],
         "xaxis": "x",
         "y": [
          1.5,
          1.2,
          1.0714285714285714,
          1
         ],
         "yaxis": "y"
        },
        {
         "alignmentgroup": "True",
         "hovertemplate": "Shark Type=Lemon Shark<br>Country=%{x}<br>Average Yearly Attacks=%{y}<extra></extra>",
         "legendgroup": "Lemon Shark",
         "marker": {
          "color": "#EF553B",
          "pattern": {
           "shape": ""
          }
         },
         "name": "Lemon Shark",
         "offsetgroup": "Lemon Shark",
         "orientation": "v",
         "showlegend": true,
         "textposition": "auto",
         "type": "bar",
         "x": [
          "Brazil",
          "United States",
          "Bahamas",
          "Australia",
          "New Caledonia"
         ],
         "xaxis": "x",
         "y": [
          1.5,
          1.2105263157894737,
          1.1428571428571428,
          1,
          1
         ],
         "yaxis": "y"
        },
        {
         "alignmentgroup": "True",
         "hovertemplate": "Shark Type=Sevengill Shark<br>Country=%{x}<br>Average Yearly Attacks=%{y}<extra></extra>",
         "legendgroup": "Sevengill Shark",
         "marker": {
          "color": "#00cc96",
          "pattern": {
           "shape": ""
          }
         },
         "name": "Sevengill Shark",
         "offsetgroup": "Sevengill Shark",
         "orientation": "v",
         "showlegend": true,
         "textposition": "auto",
         "type": "bar",
         "x": [
          "New Zealand",
          "United States",
          "Australia"
         ],
         "xaxis": "x",
         "y": [
          1.5,
          1,
          1
         ],
         "yaxis": "y"
        },
        {
         "alignmentgroup": "True",
         "hovertemplate": "Shark Type=Grey Reef Shark<br>Country=%{x}<br>Average Yearly Attacks=%{y}<extra></extra>",
         "legendgroup": "Grey Reef Shark",
         "marker": {
          "color": "#ab63fa",
          "pattern": {
           "shape": ""
          }
         },
         "name": "Grey Reef Shark",
         "offsetgroup": "Grey Reef Shark",
         "orientation": "v",
         "showlegend": true,
         "textposition": "auto",
         "type": "bar",
         "x": [
          "Australia",
          "United States",
          "Unknown",
          "New Zealand"
         ],
         "xaxis": "x",
         "y": [
          1.5,
          1,
          1,
          1
         ],
         "yaxis": "y"
        },
        {
         "alignmentgroup": "True",
         "hovertemplate": "Shark Type=Sand Tiger Shark<br>Country=%{x}<br>Average Yearly Attacks=%{y}<extra></extra>",
         "legendgroup": "Sand Tiger Shark",
         "marker": {
          "color": "#FFA15A",
          "pattern": {
           "shape": ""
          }
         },
         "name": "Sand Tiger Shark",
         "offsetgroup": "Sand Tiger Shark",
         "orientation": "v",
         "showlegend": true,
         "textposition": "auto",
         "type": "bar",
         "x": [
          "United States"
         ],
         "xaxis": "x",
         "y": [
          1.3333333333333333
         ],
         "yaxis": "y"
        },
        {
         "alignmentgroup": "True",
         "hovertemplate": "Shark Type=Oceanic Whitetip Shark<br>Country=%{x}<br>Average Yearly Attacks=%{y}<extra></extra>",
         "legendgroup": "Oceanic Whitetip Shark",
         "marker": {
          "color": "#19d3f3",
          "pattern": {
           "shape": ""
          }
         },
         "name": "Oceanic Whitetip Shark",
         "offsetgroup": "Oceanic Whitetip Shark",
         "orientation": "v",
         "showlegend": true,
         "textposition": "auto",
         "type": "bar",
         "x": [
          "Unknown",
          "United States",
          "Bahamas",
          "Australia"
         ],
         "xaxis": "x",
         "y": [
          1.1666666666666667,
          1,
          1,
          1
         ],
         "yaxis": "y"
        },
        {
         "alignmentgroup": "True",
         "hovertemplate": "Shark Type=Blue Shark<br>Country=%{x}<br>Average Yearly Attacks=%{y}<extra></extra>",
         "legendgroup": "Blue Shark",
         "marker": {
          "color": "#FF6692",
          "pattern": {
           "shape": ""
          }
         },
         "name": "Blue Shark",
         "offsetgroup": "Blue Shark",
         "orientation": "v",
         "showlegend": true,
         "textposition": "auto",
         "type": "bar",
         "x": [
          "United States",
          "Unknown",
          "South Africa",
          "Australia",
          "New Zealand"
         ],
         "xaxis": "x",
         "y": [
          1.0909090909090908,
          1,
          1,
          1,
          1
         ],
         "yaxis": "y"
        },
        {
         "alignmentgroup": "True",
         "hovertemplate": "Shark Type=Mako Shark<br>Country=%{x}<br>Average Yearly Attacks=%{y}<extra></extra>",
         "legendgroup": "Mako Shark",
         "marker": {
          "color": "#B6E880",
          "pattern": {
           "shape": ""
          }
         },
         "name": "Mako Shark",
         "offsetgroup": "Mako Shark",
         "orientation": "v",
         "showlegend": true,
         "textposition": "auto",
         "type": "bar",
         "x": [
          "United States",
          "Unknown",
          "Bahamas",
          "Australia",
          "South Africa",
          "New Zealand"
         ],
         "xaxis": "x",
         "y": [
          1.0714285714285714,
          1,
          1,
          1,
          1,
          1
         ],
         "yaxis": "y"
        },
        {
         "alignmentgroup": "True",
         "hovertemplate": "Shark Type=Basking Shark<br>Country=%{x}<br>Average Yearly Attacks=%{y}<extra></extra>",
         "legendgroup": "Basking Shark",
         "marker": {
          "color": "#FF97FF",
          "pattern": {
           "shape": ""
          }
         },
         "name": "Basking Shark",
         "offsetgroup": "Basking Shark",
         "orientation": "v",
         "showlegend": true,
         "textposition": "auto",
         "type": "bar",
         "x": [
          "United States"
         ],
         "xaxis": "x",
         "y": [
          1
         ],
         "yaxis": "y"
        },
        {
         "alignmentgroup": "True",
         "hovertemplate": "Shark Type=Dusky Shark<br>Country=%{x}<br>Average Yearly Attacks=%{y}<extra></extra>",
         "legendgroup": "Dusky Shark",
         "marker": {
          "color": "#FECB52",
          "pattern": {
           "shape": ""
          }
         },
         "name": "Dusky Shark",
         "offsetgroup": "Dusky Shark",
         "orientation": "v",
         "showlegend": true,
         "textposition": "auto",
         "type": "bar",
         "x": [
          "United States",
          "Australia",
          "South Africa"
         ],
         "xaxis": "x",
         "y": [
          1,
          1,
          1
         ],
         "yaxis": "y"
        },
        {
         "alignmentgroup": "True",
         "hovertemplate": "Shark Type=Whale Shark<br>Country=%{x}<br>Average Yearly Attacks=%{y}<extra></extra>",
         "legendgroup": "Whale Shark",
         "marker": {
          "color": "#636efa",
          "pattern": {
           "shape": ""
          }
         },
         "name": "Whale Shark",
         "offsetgroup": "Whale Shark",
         "orientation": "v",
         "showlegend": true,
         "textposition": "auto",
         "type": "bar",
         "x": [
          "South Africa",
          "Australia",
          "Unknown"
         ],
         "xaxis": "x",
         "y": [
          1,
          1,
          1
         ],
         "yaxis": "y"
        },
        {
         "alignmentgroup": "True",
         "hovertemplate": "Shark Type=Galapagos Shark<br>Country=%{x}<br>Average Yearly Attacks=%{y}<extra></extra>",
         "legendgroup": "Galapagos Shark",
         "marker": {
          "color": "#EF553B",
          "pattern": {
           "shape": ""
          }
         },
         "name": "Galapagos Shark",
         "offsetgroup": "Galapagos Shark",
         "orientation": "v",
         "showlegend": true,
         "textposition": "auto",
         "type": "bar",
         "x": [
          "United States"
         ],
         "xaxis": "x",
         "y": [
          1
         ],
         "yaxis": "y"
        },
        {
         "alignmentgroup": "True",
         "hovertemplate": "Shark Type=Horn Shark<br>Country=%{x}<br>Average Yearly Attacks=%{y}<extra></extra>",
         "legendgroup": "Horn Shark",
         "marker": {
          "color": "#00cc96",
          "pattern": {
           "shape": ""
          }
         },
         "name": "Horn Shark",
         "offsetgroup": "Horn Shark",
         "orientation": "v",
         "showlegend": true,
         "textposition": "auto",
         "type": "bar",
         "x": [
          "United States"
         ],
         "xaxis": "x",
         "y": [
          1
         ],
         "yaxis": "y"
        },
        {
         "alignmentgroup": "True",
         "hovertemplate": "Shark Type=Sandbar Shark<br>Country=%{x}<br>Average Yearly Attacks=%{y}<extra></extra>",
         "legendgroup": "Sandbar Shark",
         "marker": {
          "color": "#ab63fa",
          "pattern": {
           "shape": ""
          }
         },
         "name": "Sandbar Shark",
         "offsetgroup": "Sandbar Shark",
         "orientation": "v",
         "showlegend": true,
         "textposition": "auto",
         "type": "bar",
         "x": [
          "United States",
          "Bahamas",
          "Australia",
          "New Zealand"
         ],
         "xaxis": "x",
         "y": [
          1,
          1,
          1,
          1
         ],
         "yaxis": "y"
        },
        {
         "alignmentgroup": "True",
         "hovertemplate": "Shark Type=Thresher Shark<br>Country=%{x}<br>Average Yearly Attacks=%{y}<extra></extra>",
         "legendgroup": "Thresher Shark",
         "marker": {
          "color": "#FFA15A",
          "pattern": {
           "shape": ""
          }
         },
         "name": "Thresher Shark",
         "offsetgroup": "Thresher Shark",
         "orientation": "v",
         "showlegend": true,
         "textposition": "auto",
         "type": "bar",
         "x": [
          "United States",
          "South Africa"
         ],
         "xaxis": "x",
         "y": [
          1,
          1
         ],
         "yaxis": "y"
        },
        {
         "alignmentgroup": "True",
         "hovertemplate": "Shark Type=Silky Shark<br>Country=%{x}<br>Average Yearly Attacks=%{y}<extra></extra>",
         "legendgroup": "Silky Shark",
         "marker": {
          "color": "#19d3f3",
          "pattern": {
           "shape": ""
          }
         },
         "name": "Silky Shark",
         "offsetgroup": "Silky Shark",
         "orientation": "v",
         "showlegend": true,
         "textposition": "auto",
         "type": "bar",
         "x": [
          "United States"
         ],
         "xaxis": "x",
         "y": [
          1
         ],
         "yaxis": "y"
        }
       ],
       "layout": {
        "autosize": true,
        "barmode": "stack",
        "legend": {
         "title": {
          "text": "Shark Type"
         },
         "tracegroupgap": 0
        },
        "template": {
         "data": {
          "bar": [
           {
            "error_x": {
             "color": "#2a3f5f"
            },
            "error_y": {
             "color": "#2a3f5f"
            },
            "marker": {
             "line": {
              "color": "#E5ECF6",
              "width": 0.5
             },
             "pattern": {
              "fillmode": "overlay",
              "size": 10,
              "solidity": 0.2
             }
            },
            "type": "bar"
           }
          ],
          "barpolar": [
           {
            "marker": {
             "line": {
              "color": "#E5ECF6",
              "width": 0.5
             },
             "pattern": {
              "fillmode": "overlay",
              "size": 10,
              "solidity": 0.2
             }
            },
            "type": "barpolar"
           }
          ],
          "carpet": [
           {
            "aaxis": {
             "endlinecolor": "#2a3f5f",
             "gridcolor": "white",
             "linecolor": "white",
             "minorgridcolor": "white",
             "startlinecolor": "#2a3f5f"
            },
            "baxis": {
             "endlinecolor": "#2a3f5f",
             "gridcolor": "white",
             "linecolor": "white",
             "minorgridcolor": "white",
             "startlinecolor": "#2a3f5f"
            },
            "type": "carpet"
           }
          ],
          "choropleth": [
           {
            "colorbar": {
             "outlinewidth": 0,
             "ticks": ""
            },
            "type": "choropleth"
           }
          ],
          "contour": [
           {
            "colorbar": {
             "outlinewidth": 0,
             "ticks": ""
            },
            "colorscale": [
             [
              0,
              "#0d0887"
             ],
             [
              0.1111111111111111,
              "#46039f"
             ],
             [
              0.2222222222222222,
              "#7201a8"
             ],
             [
              0.3333333333333333,
              "#9c179e"
             ],
             [
              0.4444444444444444,
              "#bd3786"
             ],
             [
              0.5555555555555556,
              "#d8576b"
             ],
             [
              0.6666666666666666,
              "#ed7953"
             ],
             [
              0.7777777777777778,
              "#fb9f3a"
             ],
             [
              0.8888888888888888,
              "#fdca26"
             ],
             [
              1,
              "#f0f921"
             ]
            ],
            "type": "contour"
           }
          ],
          "contourcarpet": [
           {
            "colorbar": {
             "outlinewidth": 0,
             "ticks": ""
            },
            "type": "contourcarpet"
           }
          ],
          "heatmap": [
           {
            "colorbar": {
             "outlinewidth": 0,
             "ticks": ""
            },
            "colorscale": [
             [
              0,
              "#0d0887"
             ],
             [
              0.1111111111111111,
              "#46039f"
             ],
             [
              0.2222222222222222,
              "#7201a8"
             ],
             [
              0.3333333333333333,
              "#9c179e"
             ],
             [
              0.4444444444444444,
              "#bd3786"
             ],
             [
              0.5555555555555556,
              "#d8576b"
             ],
             [
              0.6666666666666666,
              "#ed7953"
             ],
             [
              0.7777777777777778,
              "#fb9f3a"
             ],
             [
              0.8888888888888888,
              "#fdca26"
             ],
             [
              1,
              "#f0f921"
             ]
            ],
            "type": "heatmap"
           }
          ],
          "heatmapgl": [
           {
            "colorbar": {
             "outlinewidth": 0,
             "ticks": ""
            },
            "colorscale": [
             [
              0,
              "#0d0887"
             ],
             [
              0.1111111111111111,
              "#46039f"
             ],
             [
              0.2222222222222222,
              "#7201a8"
             ],
             [
              0.3333333333333333,
              "#9c179e"
             ],
             [
              0.4444444444444444,
              "#bd3786"
             ],
             [
              0.5555555555555556,
              "#d8576b"
             ],
             [
              0.6666666666666666,
              "#ed7953"
             ],
             [
              0.7777777777777778,
              "#fb9f3a"
             ],
             [
              0.8888888888888888,
              "#fdca26"
             ],
             [
              1,
              "#f0f921"
             ]
            ],
            "type": "heatmapgl"
           }
          ],
          "histogram": [
           {
            "marker": {
             "pattern": {
              "fillmode": "overlay",
              "size": 10,
              "solidity": 0.2
             }
            },
            "type": "histogram"
           }
          ],
          "histogram2d": [
           {
            "colorbar": {
             "outlinewidth": 0,
             "ticks": ""
            },
            "colorscale": [
             [
              0,
              "#0d0887"
             ],
             [
              0.1111111111111111,
              "#46039f"
             ],
             [
              0.2222222222222222,
              "#7201a8"
             ],
             [
              0.3333333333333333,
              "#9c179e"
             ],
             [
              0.4444444444444444,
              "#bd3786"
             ],
             [
              0.5555555555555556,
              "#d8576b"
             ],
             [
              0.6666666666666666,
              "#ed7953"
             ],
             [
              0.7777777777777778,
              "#fb9f3a"
             ],
             [
              0.8888888888888888,
              "#fdca26"
             ],
             [
              1,
              "#f0f921"
             ]
            ],
            "type": "histogram2d"
           }
          ],
          "histogram2dcontour": [
           {
            "colorbar": {
             "outlinewidth": 0,
             "ticks": ""
            },
            "colorscale": [
             [
              0,
              "#0d0887"
             ],
             [
              0.1111111111111111,
              "#46039f"
             ],
             [
              0.2222222222222222,
              "#7201a8"
             ],
             [
              0.3333333333333333,
              "#9c179e"
             ],
             [
              0.4444444444444444,
              "#bd3786"
             ],
             [
              0.5555555555555556,
              "#d8576b"
             ],
             [
              0.6666666666666666,
              "#ed7953"
             ],
             [
              0.7777777777777778,
              "#fb9f3a"
             ],
             [
              0.8888888888888888,
              "#fdca26"
             ],
             [
              1,
              "#f0f921"
             ]
            ],
            "type": "histogram2dcontour"
           }
          ],
          "mesh3d": [
           {
            "colorbar": {
             "outlinewidth": 0,
             "ticks": ""
            },
            "type": "mesh3d"
           }
          ],
          "parcoords": [
           {
            "line": {
             "colorbar": {
              "outlinewidth": 0,
              "ticks": ""
             }
            },
            "type": "parcoords"
           }
          ],
          "pie": [
           {
            "automargin": true,
            "type": "pie"
           }
          ],
          "scatter": [
           {
            "fillpattern": {
             "fillmode": "overlay",
             "size": 10,
             "solidity": 0.2
            },
            "type": "scatter"
           }
          ],
          "scatter3d": [
           {
            "line": {
             "colorbar": {
              "outlinewidth": 0,
              "ticks": ""
             }
            },
            "marker": {
             "colorbar": {
              "outlinewidth": 0,
              "ticks": ""
             }
            },
            "type": "scatter3d"
           }
          ],
          "scattercarpet": [
           {
            "marker": {
             "colorbar": {
              "outlinewidth": 0,
              "ticks": ""
             }
            },
            "type": "scattercarpet"
           }
          ],
          "scattergeo": [
           {
            "marker": {
             "colorbar": {
              "outlinewidth": 0,
              "ticks": ""
             }
            },
            "type": "scattergeo"
           }
          ],
          "scattergl": [
           {
            "marker": {
             "colorbar": {
              "outlinewidth": 0,
              "ticks": ""
             }
            },
            "type": "scattergl"
           }
          ],
          "scattermapbox": [
           {
            "marker": {
             "colorbar": {
              "outlinewidth": 0,
              "ticks": ""
             }
            },
            "type": "scattermapbox"
           }
          ],
          "scatterpolar": [
           {
            "marker": {
             "colorbar": {
              "outlinewidth": 0,
              "ticks": ""
             }
            },
            "type": "scatterpolar"
           }
          ],
          "scatterpolargl": [
           {
            "marker": {
             "colorbar": {
              "outlinewidth": 0,
              "ticks": ""
             }
            },
            "type": "scatterpolargl"
           }
          ],
          "scatterternary": [
           {
            "marker": {
             "colorbar": {
              "outlinewidth": 0,
              "ticks": ""
             }
            },
            "type": "scatterternary"
           }
          ],
          "surface": [
           {
            "colorbar": {
             "outlinewidth": 0,
             "ticks": ""
            },
            "colorscale": [
             [
              0,
              "#0d0887"
             ],
             [
              0.1111111111111111,
              "#46039f"
             ],
             [
              0.2222222222222222,
              "#7201a8"
             ],
             [
              0.3333333333333333,
              "#9c179e"
             ],
             [
              0.4444444444444444,
              "#bd3786"
             ],
             [
              0.5555555555555556,
              "#d8576b"
             ],
             [
              0.6666666666666666,
              "#ed7953"
             ],
             [
              0.7777777777777778,
              "#fb9f3a"
             ],
             [
              0.8888888888888888,
              "#fdca26"
             ],
             [
              1,
              "#f0f921"
             ]
            ],
            "type": "surface"
           }
          ],
          "table": [
           {
            "cells": {
             "fill": {
              "color": "#EBF0F8"
             },
             "line": {
              "color": "white"
             }
            },
            "header": {
             "fill": {
              "color": "#C8D4E3"
             },
             "line": {
              "color": "white"
             }
            },
            "type": "table"
           }
          ]
         },
         "layout": {
          "annotationdefaults": {
           "arrowcolor": "#2a3f5f",
           "arrowhead": 0,
           "arrowwidth": 1
          },
          "autotypenumbers": "strict",
          "coloraxis": {
           "colorbar": {
            "outlinewidth": 0,
            "ticks": ""
           }
          },
          "colorscale": {
           "diverging": [
            [
             0,
             "#8e0152"
            ],
            [
             0.1,
             "#c51b7d"
            ],
            [
             0.2,
             "#de77ae"
            ],
            [
             0.3,
             "#f1b6da"
            ],
            [
             0.4,
             "#fde0ef"
            ],
            [
             0.5,
             "#f7f7f7"
            ],
            [
             0.6,
             "#e6f5d0"
            ],
            [
             0.7,
             "#b8e186"
            ],
            [
             0.8,
             "#7fbc41"
            ],
            [
             0.9,
             "#4d9221"
            ],
            [
             1,
             "#276419"
            ]
           ],
           "sequential": [
            [
             0,
             "#0d0887"
            ],
            [
             0.1111111111111111,
             "#46039f"
            ],
            [
             0.2222222222222222,
             "#7201a8"
            ],
            [
             0.3333333333333333,
             "#9c179e"
            ],
            [
             0.4444444444444444,
             "#bd3786"
            ],
            [
             0.5555555555555556,
             "#d8576b"
            ],
            [
             0.6666666666666666,
             "#ed7953"
            ],
            [
             0.7777777777777778,
             "#fb9f3a"
            ],
            [
             0.8888888888888888,
             "#fdca26"
            ],
            [
             1,
             "#f0f921"
            ]
           ],
           "sequentialminus": [
            [
             0,
             "#0d0887"
            ],
            [
             0.1111111111111111,
             "#46039f"
            ],
            [
             0.2222222222222222,
             "#7201a8"
            ],
            [
             0.3333333333333333,
             "#9c179e"
            ],
            [
             0.4444444444444444,
             "#bd3786"
            ],
            [
             0.5555555555555556,
             "#d8576b"
            ],
            [
             0.6666666666666666,
             "#ed7953"
            ],
            [
             0.7777777777777778,
             "#fb9f3a"
            ],
            [
             0.8888888888888888,
             "#fdca26"
            ],
            [
             1,
             "#f0f921"
            ]
           ]
          },
          "colorway": [
           "#636efa",
           "#EF553B",
           "#00cc96",
           "#ab63fa",
           "#FFA15A",
           "#19d3f3",
           "#FF6692",
           "#B6E880",
           "#FF97FF",
           "#FECB52"
          ],
          "font": {
           "color": "#2a3f5f"
          },
          "geo": {
           "bgcolor": "white",
           "lakecolor": "white",
           "landcolor": "#E5ECF6",
           "showlakes": true,
           "showland": true,
           "subunitcolor": "white"
          },
          "hoverlabel": {
           "align": "left"
          },
          "hovermode": "closest",
          "mapbox": {
           "style": "light"
          },
          "paper_bgcolor": "white",
          "plot_bgcolor": "#E5ECF6",
          "polar": {
           "angularaxis": {
            "gridcolor": "white",
            "linecolor": "white",
            "ticks": ""
           },
           "bgcolor": "#E5ECF6",
           "radialaxis": {
            "gridcolor": "white",
            "linecolor": "white",
            "ticks": ""
           }
          },
          "scene": {
           "xaxis": {
            "backgroundcolor": "#E5ECF6",
            "gridcolor": "white",
            "gridwidth": 2,
            "linecolor": "white",
            "showbackground": true,
            "ticks": "",
            "zerolinecolor": "white"
           },
           "yaxis": {
            "backgroundcolor": "#E5ECF6",
            "gridcolor": "white",
            "gridwidth": 2,
            "linecolor": "white",
            "showbackground": true,
            "ticks": "",
            "zerolinecolor": "white"
           },
           "zaxis": {
            "backgroundcolor": "#E5ECF6",
            "gridcolor": "white",
            "gridwidth": 2,
            "linecolor": "white",
            "showbackground": true,
            "ticks": "",
            "zerolinecolor": "white"
           }
          },
          "shapedefaults": {
           "line": {
            "color": "#2a3f5f"
           }
          },
          "ternary": {
           "aaxis": {
            "gridcolor": "white",
            "linecolor": "white",
            "ticks": ""
           },
           "baxis": {
            "gridcolor": "white",
            "linecolor": "white",
            "ticks": ""
           },
           "bgcolor": "#E5ECF6",
           "caxis": {
            "gridcolor": "white",
            "linecolor": "white",
            "ticks": ""
           }
          },
          "title": {
           "x": 0.05
          },
          "xaxis": {
           "automargin": true,
           "gridcolor": "white",
           "linecolor": "white",
           "ticks": "",
           "title": {
            "standoff": 15
           },
           "zerolinecolor": "white",
           "zerolinewidth": 2
          },
          "yaxis": {
           "automargin": true,
           "gridcolor": "white",
           "linecolor": "white",
           "ticks": "",
           "title": {
            "standoff": 15
           },
           "zerolinecolor": "white",
           "zerolinewidth": 2
          }
         }
        },
        "title": {
         "text": "Avg Yearly Shark Attacks by Species (Top 10 Countries)"
        },
        "xaxis": {
         "anchor": "y",
         "autorange": true,
         "domain": [
          0,
          1
         ],
         "range": [
          -0.5,
          9.5
         ],
         "tickangle": -45,
         "title": {
          "text": "Country"
         },
         "type": "category"
        },
        "yaxis": {
         "anchor": "x",
         "autorange": true,
         "domain": [
          0,
          1
         ],
         "range": [
          0,
          41.20384032983666
         ],
         "title": {
          "text": "Average Yearly Attacks"
         },
         "type": "linear"
        }
       }
      },
      "image/png": "[encoded data removed]",
      "text/html": [
       "<div>                            <div id=\"32ad4ecd-23b2-46d2-96e8-cbfed115f77a\" class=\"plotly-graph-div\" style=\"height:525px; width:100%;\"></div>            <script type=\"text/javascript\">                require([\"plotly\"], function(Plotly) {                    window.PLOTLYENV=window.PLOTLYENV || {};                                    if (document.getElementById(\"32ad4ecd-23b2-46d2-96e8-cbfed115f77a\")) {                    Plotly.newPlot(                        \"32ad4ecd-23b2-46d2-96e8-cbfed115f77a\",                        [{\"alignmentgroup\":\"True\",\"hovertemplate\":\"Shark Type=Unknown Shark Species\\u003cbr\\u003eCountry=%{x}\\u003cbr\\u003eAverage Yearly Attacks=%{y}\\u003cextra\\u003e\\u003c\\u002fextra\\u003e\",\"legendgroup\":\"Unknown Shark Species\",\"marker\":{\"color\":\"#636efa\",\"pattern\":{\"shape\":\"\"}},\"name\":\"Unknown Shark Species\",\"offsetgroup\":\"Unknown Shark Species\",\"orientation\":\"v\",\"showlegend\":true,\"textposition\":\"auto\",\"x\":[\"United States\",\"Australia\",\"Papua New Guinea\",\"Brazil\",\"South Africa\",\"Unknown\",\"Mexico\",\"Bahamas\",\"New Zealand\",\"New Caledonia\"],\"xaxis\":\"x\",\"y\":[11.605263157894736,4.223880597014926,3.08,2.7777777777777777,2.2037037037037037,2.0,1.75,1.6538461538461537,1.4375,1.4],\"yaxis\":\"y\",\"type\":\"bar\"},{\"alignmentgroup\":\"True\",\"hovertemplate\":\"Shark Type=Great White Shark\\u003cbr\\u003eCountry=%{x}\\u003cbr\\u003eAverage Yearly Attacks=%{y}\\u003cextra\\u003e\\u003c\\u002fextra\\u003e\",\"legendgroup\":\"Great White Shark\",\"marker\":{\"color\":\"#EF553B\",\"pattern\":{\"shape\":\"\"}},\"name\":\"Great White Shark\",\"offsetgroup\":\"Great White Shark\",\"orientation\":\"v\",\"showlegend\":true,\"textposition\":\"auto\",\"x\":[\"United States\",\"Australia\",\"South Africa\",\"Mexico\",\"Papua New Guinea\",\"Unknown\",\"New Zealand\",\"Brazil\",\"Bahamas\",\"New Caledonia\"],\"xaxis\":\"x\",\"y\":[5.986666666666666,3.1044776119402986,2.484375,1.5,1.2857142857142858,1.2142857142857142,1.2105263157894737,1.2,1.0,1.0],\"yaxis\":\"y\",\"type\":\"bar\"},{\"alignmentgroup\":\"True\",\"hovertemplate\":\"Shark Type=Tiger Shark\\u003cbr\\u003eCountry=%{x}\\u003cbr\\u003eAverage Yearly Attacks=%{y}\\u003cextra\\u003e\\u003c\\u002fextra\\u003e\",\"legendgroup\":\"Tiger Shark\",\"marker\":{\"color\":\"#00cc96\",\"pattern\":{\"shape\":\"\"}},\"name\":\"Tiger Shark\",\"offsetgroup\":\"Tiger Shark\",\"orientation\":\"v\",\"showlegend\":true,\"textposition\":\"auto\",\"x\":[\"United States\",\"Australia\",\"South Africa\",\"Brazil\",\"Papua New Guinea\",\"New Caledonia\",\"Unknown\",\"Bahamas\",\"Mexico\",\"New Zealand\"],\"xaxis\":\"x\",\"y\":[3.90625,2.423076923076923,2.4,1.4285714285714286,1.4166666666666667,1.3636363636363635,1.2,1.125,1.1111111111111112,1.0],\"yaxis\":\"y\",\"type\":\"bar\"},{\"alignmentgroup\":\"True\",\"hovertemplate\":\"Shark Type=Bull Shark\\u003cbr\\u003eCountry=%{x}\\u003cbr\\u003eAverage Yearly Attacks=%{y}\\u003cextra\\u003e\\u003c\\u002fextra\\u003e\",\"legendgroup\":\"Bull Shark\",\"marker\":{\"color\":\"#ab63fa\",\"pattern\":{\"shape\":\"\"}},\"name\":\"Bull Shark\",\"offsetgroup\":\"Bull Shark\",\"orientation\":\"v\",\"showlegend\":true,\"textposition\":\"auto\",\"x\":[\"United States\",\"Australia\",\"Brazil\",\"New Zealand\",\"South Africa\",\"Papua New Guinea\",\"Bahamas\",\"New Caledonia\",\"Unknown\",\"Mexico\"],\"xaxis\":\"x\",\"y\":[3.338709677419355,2.5454545454545454,1.5,1.3333333333333333,1.2692307692307692,1.2,1.1666666666666667,1.1666666666666667,1.0,1.0],\"yaxis\":\"y\",\"type\":\"bar\"},{\"alignmentgroup\":\"True\",\"hovertemplate\":\"Shark Type=Tasseled Wobbegong Shark\\u003cbr\\u003eCountry=%{x}\\u003cbr\\u003eAverage Yearly Attacks=%{y}\\u003cextra\\u003e\\u003c\\u002fextra\\u003e\",\"legendgroup\":\"Tasseled Wobbegong Shark\",\"marker\":{\"color\":\"#FFA15A\",\"pattern\":{\"shape\":\"\"}},\"name\":\"Tasseled Wobbegong Shark\",\"offsetgroup\":\"Tasseled Wobbegong Shark\",\"orientation\":\"v\",\"showlegend\":true,\"textposition\":\"auto\",\"x\":[\"United States\",\"Australia\",\"Unknown\",\"Bahamas\",\"South Africa\",\"Papua New Guinea\",\"New Zealand\",\"New Caledonia\"],\"xaxis\":\"x\",\"y\":[2.9047619047619047,1.8108108108108107,1.0,1.0,1.0,1.0,1.0,1.0],\"yaxis\":\"y\",\"type\":\"bar\"},{\"alignmentgroup\":\"True\",\"hovertemplate\":\"Shark Type=Blacktip Shark\\u003cbr\\u003eCountry=%{x}\\u003cbr\\u003eAverage Yearly Attacks=%{y}\\u003cextra\\u003e\\u003c\\u002fextra\\u003e\",\"legendgroup\":\"Blacktip Shark\",\"marker\":{\"color\":\"#19d3f3\",\"pattern\":{\"shape\":\"\"}},\"name\":\"Blacktip Shark\",\"offsetgroup\":\"Blacktip Shark\",\"orientation\":\"v\",\"showlegend\":true,\"textposition\":\"auto\",\"x\":[\"United States\",\"Unknown\",\"Australia\",\"Bahamas\",\"South Africa\"],\"xaxis\":\"x\",\"y\":[2.3846153846153846,1.0,1.0,1.0,1.0],\"yaxis\":\"y\",\"type\":\"bar\"},{\"alignmentgroup\":\"True\",\"hovertemplate\":\"Shark Type=Bronze Whaler Shark\\u003cbr\\u003eCountry=%{x}\\u003cbr\\u003eAverage Yearly Attacks=%{y}\\u003cextra\\u003e\\u003c\\u002fextra\\u003e\",\"legendgroup\":\"Bronze Whaler Shark\",\"marker\":{\"color\":\"#FF6692\",\"pattern\":{\"shape\":\"\"}},\"name\":\"Bronze Whaler Shark\",\"offsetgroup\":\"Bronze Whaler Shark\",\"orientation\":\"v\",\"showlegend\":true,\"textposition\":\"auto\",\"x\":[\"Papua New Guinea\",\"Australia\",\"New Zealand\"],\"xaxis\":\"x\",\"y\":[2.0,1.7179487179487178,1.125],\"yaxis\":\"y\",\"type\":\"bar\"},{\"alignmentgroup\":\"True\",\"hovertemplate\":\"Shark Type=Cookiecutter Shark\\u003cbr\\u003eCountry=%{x}\\u003cbr\\u003eAverage Yearly Attacks=%{y}\\u003cextra\\u003e\\u003c\\u002fextra\\u003e\",\"legendgroup\":\"Cookiecutter Shark\",\"marker\":{\"color\":\"#B6E880\",\"pattern\":{\"shape\":\"\"}},\"name\":\"Cookiecutter Shark\",\"offsetgroup\":\"Cookiecutter Shark\",\"orientation\":\"v\",\"showlegend\":true,\"textposition\":\"auto\",\"x\":[\"New Zealand\",\"United States\",\"Australia\",\"Unknown\",\"Bahamas\",\"Brazil\",\"South Africa\"],\"xaxis\":\"x\",\"y\":[2.0,1.4,1.3333333333333333,1.0,1.0,1.0,1.0],\"yaxis\":\"y\",\"type\":\"bar\"},{\"alignmentgroup\":\"True\",\"hovertemplate\":\"Shark Type=Nurse Shark\\u003cbr\\u003eCountry=%{x}\\u003cbr\\u003eAverage Yearly Attacks=%{y}\\u003cextra\\u003e\\u003c\\u002fextra\\u003e\",\"legendgroup\":\"Nurse Shark\",\"marker\":{\"color\":\"#FF97FF\",\"pattern\":{\"shape\":\"\"}},\"name\":\"Nurse Shark\",\"offsetgroup\":\"Nurse Shark\",\"orientation\":\"v\",\"showlegend\":true,\"textposition\":\"auto\",\"x\":[\"Bahamas\",\"United States\",\"Australia\",\"New Zealand\"],\"xaxis\":\"x\",\"y\":[1.6,1.4375,1.4166666666666667,1.0],\"yaxis\":\"y\",\"type\":\"bar\"},{\"alignmentgroup\":\"True\",\"hovertemplate\":\"Shark Type=Hammerhead Shark\\u003cbr\\u003eCountry=%{x}\\u003cbr\\u003eAverage Yearly Attacks=%{y}\\u003cextra\\u003e\\u003c\\u002fextra\\u003e\",\"legendgroup\":\"Hammerhead Shark\",\"marker\":{\"color\":\"#FECB52\",\"pattern\":{\"shape\":\"\"}},\"name\":\"Hammerhead Shark\",\"offsetgroup\":\"Hammerhead Shark\",\"orientation\":\"v\",\"showlegend\":true,\"textposition\":\"auto\",\"x\":[\"United States\",\"South Africa\",\"Australia\",\"Brazil\",\"Mexico\"],\"xaxis\":\"x\",\"y\":[1.5789473684210527,1.5,1.25,1.0,1.0],\"yaxis\":\"y\",\"type\":\"bar\"},{\"alignmentgroup\":\"True\",\"hovertemplate\":\"Shark Type=Caribbean Reef Shark\\u003cbr\\u003eCountry=%{x}\\u003cbr\\u003eAverage Yearly Attacks=%{y}\\u003cextra\\u003e\\u003c\\u002fextra\\u003e\",\"legendgroup\":\"Caribbean Reef Shark\",\"marker\":{\"color\":\"#636efa\",\"pattern\":{\"shape\":\"\"}},\"name\":\"Caribbean Reef Shark\",\"offsetgroup\":\"Caribbean Reef Shark\",\"orientation\":\"v\",\"showlegend\":true,\"textposition\":\"auto\",\"x\":[\"United States\",\"Australia\",\"Bahamas\",\"Unknown\"],\"xaxis\":\"x\",\"y\":[1.5,1.2,1.0714285714285714,1.0],\"yaxis\":\"y\",\"type\":\"bar\"},{\"alignmentgroup\":\"True\",\"hovertemplate\":\"Shark Type=Lemon Shark\\u003cbr\\u003eCountry=%{x}\\u003cbr\\u003eAverage Yearly Attacks=%{y}\\u003cextra\\u003e\\u003c\\u002fextra\\u003e\",\"legendgroup\":\"Lemon Shark\",\"marker\":{\"color\":\"#EF553B\",\"pattern\":{\"shape\":\"\"}},\"name\":\"Lemon Shark\",\"offsetgroup\":\"Lemon Shark\",\"orientation\":\"v\",\"showlegend\":true,\"textposition\":\"auto\",\"x\":[\"Brazil\",\"United States\",\"Bahamas\",\"Australia\",\"New Caledonia\"],\"xaxis\":\"x\",\"y\":[1.5,1.2105263157894737,1.1428571428571428,1.0,1.0],\"yaxis\":\"y\",\"type\":\"bar\"},{\"alignmentgroup\":\"True\",\"hovertemplate\":\"Shark Type=Sevengill Shark\\u003cbr\\u003eCountry=%{x}\\u003cbr\\u003eAverage Yearly Attacks=%{y}\\u003cextra\\u003e\\u003c\\u002fextra\\u003e\",\"legendgroup\":\"Sevengill Shark\",\"marker\":{\"color\":\"#00cc96\",\"pattern\":{\"shape\":\"\"}},\"name\":\"Sevengill Shark\",\"offsetgroup\":\"Sevengill Shark\",\"orientation\":\"v\",\"showlegend\":true,\"textposition\":\"auto\",\"x\":[\"New Zealand\",\"United States\",\"Australia\"],\"xaxis\":\"x\",\"y\":[1.5,1.0,1.0],\"yaxis\":\"y\",\"type\":\"bar\"},{\"alignmentgroup\":\"True\",\"hovertemplate\":\"Shark Type=Grey Reef Shark\\u003cbr\\u003eCountry=%{x}\\u003cbr\\u003eAverage Yearly Attacks=%{y}\\u003cextra\\u003e\\u003c\\u002fextra\\u003e\",\"legendgroup\":\"Grey Reef Shark\",\"marker\":{\"color\":\"#ab63fa\",\"pattern\":{\"shape\":\"\"}},\"name\":\"Grey Reef Shark\",\"offsetgroup\":\"Grey Reef Shark\",\"orientation\":\"v\",\"showlegend\":true,\"textposition\":\"auto\",\"x\":[\"Australia\",\"United States\",\"Unknown\",\"New Zealand\"],\"xaxis\":\"x\",\"y\":[1.5,1.0,1.0,1.0],\"yaxis\":\"y\",\"type\":\"bar\"},{\"alignmentgroup\":\"True\",\"hovertemplate\":\"Shark Type=Sand Tiger Shark\\u003cbr\\u003eCountry=%{x}\\u003cbr\\u003eAverage Yearly Attacks=%{y}\\u003cextra\\u003e\\u003c\\u002fextra\\u003e\",\"legendgroup\":\"Sand Tiger Shark\",\"marker\":{\"color\":\"#FFA15A\",\"pattern\":{\"shape\":\"\"}},\"name\":\"Sand Tiger Shark\",\"offsetgroup\":\"Sand Tiger Shark\",\"orientation\":\"v\",\"showlegend\":true,\"textposition\":\"auto\",\"x\":[\"United States\"],\"xaxis\":\"x\",\"y\":[1.3333333333333333],\"yaxis\":\"y\",\"type\":\"bar\"},{\"alignmentgroup\":\"True\",\"hovertemplate\":\"Shark Type=Oceanic Whitetip Shark\\u003cbr\\u003eCountry=%{x}\\u003cbr\\u003eAverage Yearly Attacks=%{y}\\u003cextra\\u003e\\u003c\\u002fextra\\u003e\",\"legendgroup\":\"Oceanic Whitetip Shark\",\"marker\":{\"color\":\"#19d3f3\",\"pattern\":{\"shape\":\"\"}},\"name\":\"Oceanic Whitetip Shark\",\"offsetgroup\":\"Oceanic Whitetip Shark\",\"orientation\":\"v\",\"showlegend\":true,\"textposition\":\"auto\",\"x\":[\"Unknown\",\"United States\",\"Bahamas\",\"Australia\"],\"xaxis\":\"x\",\"y\":[1.1666666666666667,1.0,1.0,1.0],\"yaxis\":\"y\",\"type\":\"bar\"},{\"alignmentgroup\":\"True\",\"hovertemplate\":\"Shark Type=Blue Shark\\u003cbr\\u003eCountry=%{x}\\u003cbr\\u003eAverage Yearly Attacks=%{y}\\u003cextra\\u003e\\u003c\\u002fextra\\u003e\",\"legendgroup\":\"Blue Shark\",\"marker\":{\"color\":\"#FF6692\",\"pattern\":{\"shape\":\"\"}},\"name\":\"Blue Shark\",\"offsetgroup\":\"Blue Shark\",\"orientation\":\"v\",\"showlegend\":true,\"textposition\":\"auto\",\"x\":[\"United States\",\"Unknown\",\"South Africa\",\"Australia\",\"New Zealand\"],\"xaxis\":\"x\",\"y\":[1.0909090909090908,1.0,1.0,1.0,1.0],\"yaxis\":\"y\",\"type\":\"bar\"},{\"alignmentgroup\":\"True\",\"hovertemplate\":\"Shark Type=Mako Shark\\u003cbr\\u003eCountry=%{x}\\u003cbr\\u003eAverage Yearly Attacks=%{y}\\u003cextra\\u003e\\u003c\\u002fextra\\u003e\",\"legendgroup\":\"Mako Shark\",\"marker\":{\"color\":\"#B6E880\",\"pattern\":{\"shape\":\"\"}},\"name\":\"Mako Shark\",\"offsetgroup\":\"Mako Shark\",\"orientation\":\"v\",\"showlegend\":true,\"textposition\":\"auto\",\"x\":[\"United States\",\"Unknown\",\"Bahamas\",\"Australia\",\"South Africa\",\"New Zealand\"],\"xaxis\":\"x\",\"y\":[1.0714285714285714,1.0,1.0,1.0,1.0,1.0],\"yaxis\":\"y\",\"type\":\"bar\"},{\"alignmentgroup\":\"True\",\"hovertemplate\":\"Shark Type=Basking Shark\\u003cbr\\u003eCountry=%{x}\\u003cbr\\u003eAverage Yearly Attacks=%{y}\\u003cextra\\u003e\\u003c\\u002fextra\\u003e\",\"legendgroup\":\"Basking Shark\",\"marker\":{\"color\":\"#FF97FF\",\"pattern\":{\"shape\":\"\"}},\"name\":\"Basking Shark\",\"offsetgroup\":\"Basking Shark\",\"orientation\":\"v\",\"showlegend\":true,\"textposition\":\"auto\",\"x\":[\"United States\"],\"xaxis\":\"x\",\"y\":[1.0],\"yaxis\":\"y\",\"type\":\"bar\"},{\"alignmentgroup\":\"True\",\"hovertemplate\":\"Shark Type=Dusky Shark\\u003cbr\\u003eCountry=%{x}\\u003cbr\\u003eAverage Yearly Attacks=%{y}\\u003cextra\\u003e\\u003c\\u002fextra\\u003e\",\"legendgroup\":\"Dusky Shark\",\"marker\":{\"color\":\"#FECB52\",\"pattern\":{\"shape\":\"\"}},\"name\":\"Dusky Shark\",\"offsetgroup\":\"Dusky Shark\",\"orientation\":\"v\",\"showlegend\":true,\"textposition\":\"auto\",\"x\":[\"United States\",\"Australia\",\"South Africa\"],\"xaxis\":\"x\",\"y\":[1.0,1.0,1.0],\"yaxis\":\"y\",\"type\":\"bar\"},{\"alignmentgroup\":\"True\",\"hovertemplate\":\"Shark Type=Whale Shark\\u003cbr\\u003eCountry=%{x}\\u003cbr\\u003eAverage Yearly Attacks=%{y}\\u003cextra\\u003e\\u003c\\u002fextra\\u003e\",\"legendgroup\":\"Whale Shark\",\"marker\":{\"color\":\"#636efa\",\"pattern\":{\"shape\":\"\"}},\"name\":\"Whale Shark\",\"offsetgroup\":\"Whale Shark\",\"orientation\":\"v\",\"showlegend\":true,\"textposition\":\"auto\",\"x\":[\"South Africa\",\"Australia\",\"Unknown\"],\"xaxis\":\"x\",\"y\":[1.0,1.0,1.0],\"yaxis\":\"y\",\"type\":\"bar\"},{\"alignmentgroup\":\"True\",\"hovertemplate\":\"Shark Type=Galapagos Shark\\u003cbr\\u003eCountry=%{x}\\u003cbr\\u003eAverage Yearly Attacks=%{y}\\u003cextra\\u003e\\u003c\\u002fextra\\u003e\",\"legendgroup\":\"Galapagos Shark\",\"marker\":{\"color\":\"#EF553B\",\"pattern\":{\"shape\":\"\"}},\"name\":\"Galapagos Shark\",\"offsetgroup\":\"Galapagos Shark\",\"orientation\":\"v\",\"showlegend\":true,\"textposition\":\"auto\",\"x\":[\"United States\"],\"xaxis\":\"x\",\"y\":[1.0],\"yaxis\":\"y\",\"type\":\"bar\"},{\"alignmentgroup\":\"True\",\"hovertemplate\":\"Shark Type=Horn Shark\\u003cbr\\u003eCountry=%{x}\\u003cbr\\u003eAverage Yearly Attacks=%{y}\\u003cextra\\u003e\\u003c\\u002fextra\\u003e\",\"legendgroup\":\"Horn Shark\",\"marker\":{\"color\":\"#00cc96\",\"pattern\":{\"shape\":\"\"}},\"name\":\"Horn Shark\",\"offsetgroup\":\"Horn Shark\",\"orientation\":\"v\",\"showlegend\":true,\"textposition\":\"auto\",\"x\":[\"United States\"],\"xaxis\":\"x\",\"y\":[1.0],\"yaxis\":\"y\",\"type\":\"bar\"},{\"alignmentgroup\":\"True\",\"hovertemplate\":\"Shark Type=Sandbar Shark\\u003cbr\\u003eCountry=%{x}\\u003cbr\\u003eAverage Yearly Attacks=%{y}\\u003cextra\\u003e\\u003c\\u002fextra\\u003e\",\"legendgroup\":\"Sandbar Shark\",\"marker\":{\"color\":\"#ab63fa\",\"pattern\":{\"shape\":\"\"}},\"name\":\"Sandbar Shark\",\"offsetgroup\":\"Sandbar Shark\",\"orientation\":\"v\",\"showlegend\":true,\"textposition\":\"auto\",\"x\":[\"United States\",\"Bahamas\",\"Australia\",\"New Zealand\"],\"xaxis\":\"x\",\"y\":[1.0,1.0,1.0,1.0],\"yaxis\":\"y\",\"type\":\"bar\"},{\"alignmentgroup\":\"True\",\"hovertemplate\":\"Shark Type=Thresher Shark\\u003cbr\\u003eCountry=%{x}\\u003cbr\\u003eAverage Yearly Attacks=%{y}\\u003cextra\\u003e\\u003c\\u002fextra\\u003e\",\"legendgroup\":\"Thresher Shark\",\"marker\":{\"color\":\"#FFA15A\",\"pattern\":{\"shape\":\"\"}},\"name\":\"Thresher Shark\",\"offsetgroup\":\"Thresher Shark\",\"orientation\":\"v\",\"showlegend\":true,\"textposition\":\"auto\",\"x\":[\"United States\",\"South Africa\"],\"xaxis\":\"x\",\"y\":[1.0,1.0],\"yaxis\":\"y\",\"type\":\"bar\"},{\"alignmentgroup\":\"True\",\"hovertemplate\":\"Shark Type=Silky Shark\\u003cbr\\u003eCountry=%{x}\\u003cbr\\u003eAverage Yearly Attacks=%{y}\\u003cextra\\u003e\\u003c\\u002fextra\\u003e\",\"legendgroup\":\"Silky Shark\",\"marker\":{\"color\":\"#19d3f3\",\"pattern\":{\"shape\":\"\"}},\"name\":\"Silky Shark\",\"offsetgroup\":\"Silky Shark\",\"orientation\":\"v\",\"showlegend\":true,\"textposition\":\"auto\",\"x\":[\"United States\"],\"xaxis\":\"x\",\"y\":[1.0],\"yaxis\":\"y\",\"type\":\"bar\"}],                        {\"template\":{\"data\":{\"histogram2dcontour\":[{\"type\":\"histogram2dcontour\",\"colorbar\":{\"outlinewidth\":0,\"ticks\":\"\"},\"colorscale\":[[0.0,\"#0d0887\"],[0.1111111111111111,\"#46039f\"],[0.2222222222222222,\"#7201a8\"],[0.3333333333333333,\"#9c179e\"],[0.4444444444444444,\"#bd3786\"],[0.5555555555555556,\"#d8576b\"],[0.6666666666666666,\"#ed7953\"],[0.7777777777777778,\"#fb9f3a\"],[0.8888888888888888,\"#fdca26\"],[1.0,\"#f0f921\"]]}],\"choropleth\":[{\"type\":\"choropleth\",\"colorbar\":{\"outlinewidth\":0,\"ticks\":\"\"}}],\"histogram2d\":[{\"type\":\"histogram2d\",\"colorbar\":{\"outlinewidth\":0,\"ticks\":\"\"},\"colorscale\":[[0.0,\"#0d0887\"],[0.1111111111111111,\"#46039f\"],[0.2222222222222222,\"#7201a8\"],[0.3333333333333333,\"#9c179e\"],[0.4444444444444444,\"#bd3786\"],[0.5555555555555556,\"#d8576b\"],[0.6666666666666666,\"#ed7953\"],[0.7777777777777778,\"#fb9f3a\"],[0.8888888888888888,\"#fdca26\"],[1.0,\"#f0f921\"]]}],\"heatmap\":[{\"type\":\"heatmap\",\"colorbar\":{\"outlinewidth\":0,\"ticks\":\"\"},\"colorscale\":[[0.0,\"#0d0887\"],[0.1111111111111111,\"#46039f\"],[0.2222222222222222,\"#7201a8\"],[0.3333333333333333,\"#9c179e\"],[0.4444444444444444,\"#bd3786\"],[0.5555555555555556,\"#d8576b\"],[0.6666666666666666,\"#ed7953\"],[0.7777777777777778,\"#fb9f3a\"],[0.8888888888888888,\"#fdca26\"],[1.0,\"#f0f921\"]]}],\"heatmapgl\":[{\"type\":\"heatmapgl\",\"colorbar\":{\"outlinewidth\":0,\"ticks\":\"\"},\"colorscale\":[[0.0,\"#0d0887\"],[0.1111111111111111,\"#46039f\"],[0.2222222222222222,\"#7201a8\"],[0.3333333333333333,\"#9c179e\"],[0.4444444444444444,\"#bd3786\"],[0.5555555555555556,\"#d8576b\"],[0.6666666666666666,\"#ed7953\"],[0.7777777777777778,\"#fb9f3a\"],[0.8888888888888888,\"#fdca26\"],[1.0,\"#f0f921\"]]}],\"contourcarpet\":[{\"type\":\"contourcarpet\",\"colorbar\":{\"outlinewidth\":0,\"ticks\":\"\"}}],\"contour\":[{\"type\":\"contour\",\"colorbar\":{\"outlinewidth\":0,\"ticks\":\"\"},\"colorscale\":[[0.0,\"#0d0887\"],[0.1111111111111111,\"#46039f\"],[0.2222222222222222,\"#7201a8\"],[0.3333333333333333,\"#9c179e\"],[0.4444444444444444,\"#bd3786\"],[0.5555555555555556,\"#d8576b\"],[0.6666666666666666,\"#ed7953\"],[0.7777777777777778,\"#fb9f3a\"],[0.8888888888888888,\"#fdca26\"],[1.0,\"#f0f921\"]]}],\"surface\":[{\"type\":\"surface\",\"colorbar\":{\"outlinewidth\":0,\"ticks\":\"\"},\"colorscale\":[[0.0,\"#0d0887\"],[0.1111111111111111,\"#46039f\"],[0.2222222222222222,\"#7201a8\"],[0.3333333333333333,\"#9c179e\"],[0.4444444444444444,\"#bd3786\"],[0.5555555555555556,\"#d8576b\"],[0.6666666666666666,\"#ed7953\"],[0.7777777777777778,\"#fb9f3a\"],[0.8888888888888888,\"#fdca26\"],[1.0,\"#f0f921\"]]}],\"mesh3d\":[{\"type\":\"mesh3d\",\"colorbar\":{\"outlinewidth\":0,\"ticks\":\"\"}}],\"scatter\":[{\"fillpattern\":{\"fillmode\":\"overlay\",\"size\":10,\"solidity\":0.2},\"type\":\"scatter\"}],\"parcoords\":[{\"type\":\"parcoords\",\"line\":{\"colorbar\":{\"outlinewidth\":0,\"ticks\":\"\"}}}],\"scatterpolargl\":[{\"type\":\"scatterpolargl\",\"marker\":{\"colorbar\":{\"outlinewidth\":0,\"ticks\":\"\"}}}],\"bar\":[{\"error_x\":{\"color\":\"#2a3f5f\"},\"error_y\":{\"color\":\"#2a3f5f\"},\"marker\":{\"line\":{\"color\":\"#E5ECF6\",\"width\":0.5},\"pattern\":{\"fillmode\":\"overlay\",\"size\":10,\"solidity\":0.2}},\"type\":\"bar\"}],\"scattergeo\":[{\"type\":\"scattergeo\",\"marker\":{\"colorbar\":{\"outlinewidth\":0,\"ticks\":\"\"}}}],\"scatterpolar\":[{\"type\":\"scatterpolar\",\"marker\":{\"colorbar\":{\"outlinewidth\":0,\"ticks\":\"\"}}}],\"histogram\":[{\"marker\":{\"pattern\":{\"fillmode\":\"overlay\",\"size\":10,\"solidity\":0.2}},\"type\":\"histogram\"}],\"scattergl\":[{\"type\":\"scattergl\",\"marker\":{\"colorbar\":{\"outlinewidth\":0,\"ticks\":\"\"}}}],\"scatter3d\":[{\"type\":\"scatter3d\",\"line\":{\"colorbar\":{\"outlinewidth\":0,\"ticks\":\"\"}},\"marker\":{\"colorbar\":{\"outlinewidth\":0,\"ticks\":\"\"}}}],\"scattermapbox\":[{\"type\":\"scattermapbox\",\"marker\":{\"colorbar\":{\"outlinewidth\":0,\"ticks\":\"\"}}}],\"scatterternary\":[{\"type\":\"scatterternary\",\"marker\":{\"colorbar\":{\"outlinewidth\":0,\"ticks\":\"\"}}}],\"scattercarpet\":[{\"type\":\"scattercarpet\",\"marker\":{\"colorbar\":{\"outlinewidth\":0,\"ticks\":\"\"}}}],\"carpet\":[{\"aaxis\":{\"endlinecolor\":\"#2a3f5f\",\"gridcolor\":\"white\",\"linecolor\":\"white\",\"minorgridcolor\":\"white\",\"startlinecolor\":\"#2a3f5f\"},\"baxis\":{\"endlinecolor\":\"#2a3f5f\",\"gridcolor\":\"white\",\"linecolor\":\"white\",\"minorgridcolor\":\"white\",\"startlinecolor\":\"#2a3f5f\"},\"type\":\"carpet\"}],\"table\":[{\"cells\":{\"fill\":{\"color\":\"#EBF0F8\"},\"line\":{\"color\":\"white\"}},\"header\":{\"fill\":{\"color\":\"#C8D4E3\"},\"line\":{\"color\":\"white\"}},\"type\":\"table\"}],\"barpolar\":[{\"marker\":{\"line\":{\"color\":\"#E5ECF6\",\"width\":0.5},\"pattern\":{\"fillmode\":\"overlay\",\"size\":10,\"solidity\":0.2}},\"type\":\"barpolar\"}],\"pie\":[{\"automargin\":true,\"type\":\"pie\"}]},\"layout\":{\"autotypenumbers\":\"strict\",\"colorway\":[\"#636efa\",\"#EF553B\",\"#00cc96\",\"#ab63fa\",\"#FFA15A\",\"#19d3f3\",\"#FF6692\",\"#B6E880\",\"#FF97FF\",\"#FECB52\"],\"font\":{\"color\":\"#2a3f5f\"},\"hovermode\":\"closest\",\"hoverlabel\":{\"align\":\"left\"},\"paper_bgcolor\":\"white\",\"plot_bgcolor\":\"#E5ECF6\",\"polar\":{\"bgcolor\":\"#E5ECF6\",\"angularaxis\":{\"gridcolor\":\"white\",\"linecolor\":\"white\",\"ticks\":\"\"},\"radialaxis\":{\"gridcolor\":\"white\",\"linecolor\":\"white\",\"ticks\":\"\"}},\"ternary\":{\"bgcolor\":\"#E5ECF6\",\"aaxis\":{\"gridcolor\":\"white\",\"linecolor\":\"white\",\"ticks\":\"\"},\"baxis\":{\"gridcolor\":\"white\",\"linecolor\":\"white\",\"ticks\":\"\"},\"caxis\":{\"gridcolor\":\"white\",\"linecolor\":\"white\",\"ticks\":\"\"}},\"coloraxis\":{\"colorbar\":{\"outlinewidth\":0,\"ticks\":\"\"}},\"colorscale\":{\"sequential\":[[0.0,\"#0d0887\"],[0.1111111111111111,\"#46039f\"],[0.2222222222222222,\"#7201a8\"],[0.3333333333333333,\"#9c179e\"],[0.4444444444444444,\"#bd3786\"],[0.5555555555555556,\"#d8576b\"],[0.6666666666666666,\"#ed7953\"],[0.7777777777777778,\"#fb9f3a\"],[0.8888888888888888,\"#fdca26\"],[1.0,\"#f0f921\"]],\"sequentialminus\":[[0.0,\"#0d0887\"],[0.1111111111111111,\"#46039f\"],[0.2222222222222222,\"#7201a8\"],[0.3333333333333333,\"#9c179e\"],[0.4444444444444444,\"#bd3786\"],[0.5555555555555556,\"#d8576b\"],[0.6666666666666666,\"#ed7953\"],[0.7777777777777778,\"#fb9f3a\"],[0.8888888888888888,\"#fdca26\"],[1.0,\"#f0f921\"]],\"diverging\":[[0,\"#8e0152\"],[0.1,\"#c51b7d\"],[0.2,\"#de77ae\"],[0.3,\"#f1b6da\"],[0.4,\"#fde0ef\"],[0.5,\"#f7f7f7\"],[0.6,\"#e6f5d0\"],[0.7,\"#b8e186\"],[0.8,\"#7fbc41\"],[0.9,\"#4d9221\"],[1,\"#276419\"]]},\"xaxis\":{\"gridcolor\":\"white\",\"linecolor\":\"white\",\"ticks\":\"\",\"title\":{\"standoff\":15},\"zerolinecolor\":\"white\",\"automargin\":true,\"zerolinewidth\":2},\"yaxis\":{\"gridcolor\":\"white\",\"linecolor\":\"white\",\"ticks\":\"\",\"title\":{\"standoff\":15},\"zerolinecolor\":\"white\",\"automargin\":true,\"zerolinewidth\":2},\"scene\":{\"xaxis\":{\"backgroundcolor\":\"#E5ECF6\",\"gridcolor\":\"white\",\"linecolor\":\"white\",\"showbackground\":true,\"ticks\":\"\",\"zerolinecolor\":\"white\",\"gridwidth\":2},\"yaxis\":{\"backgroundcolor\":\"#E5ECF6\",\"gridcolor\":\"white\",\"linecolor\":\"white\",\"showbackground\":true,\"ticks\":\"\",\"zerolinecolor\":\"white\",\"gridwidth\":2},\"zaxis\":{\"backgroundcolor\":\"#E5ECF6\",\"gridcolor\":\"white\",\"linecolor\":\"white\",\"showbackground\":true,\"ticks\":\"\",\"zerolinecolor\":\"white\",\"gridwidth\":2}},\"shapedefaults\":{\"line\":{\"color\":\"#2a3f5f\"}},\"annotationdefaults\":{\"arrowcolor\":\"#2a3f5f\",\"arrowhead\":0,\"arrowwidth\":1},\"geo\":{\"bgcolor\":\"white\",\"landcolor\":\"#E5ECF6\",\"subunitcolor\":\"white\",\"showland\":true,\"showlakes\":true,\"lakecolor\":\"white\"},\"title\":{\"x\":0.05},\"mapbox\":{\"style\":\"light\"}}},\"xaxis\":{\"anchor\":\"y\",\"domain\":[0.0,1.0],\"title\":{\"text\":\"Country\"},\"tickangle\":-45},\"yaxis\":{\"anchor\":\"x\",\"domain\":[0.0,1.0],\"title\":{\"text\":\"Average Yearly Attacks\"}},\"legend\":{\"title\":{\"text\":\"Shark Type\"},\"tracegroupgap\":0},\"title\":{\"text\":\"Avg Yearly Shark Attacks by Species (Top 10 Countries)\"},\"barmode\":\"stack\"},                        {\"responsive\": true}                    ).then(function(){\n",
       "                            \n",
       "var gd = document.getElementById('32ad4ecd-23b2-46d2-96e8-cbfed115f77a');\n",
       "var x = new MutationObserver(function (mutations, observer) {{\n",
       "        var display = window.getComputedStyle(gd).display;\n",
       "        if (!display || display === 'none') {{\n",
       "            console.log([gd, 'removed!']);\n",
       "            Plotly.purge(gd);\n",
       "            observer.disconnect();\n",
       "        }}\n",
       "}});\n",
       "\n",
       "// Listen for the removal of the full notebook cells\n",
       "var notebookContainer = gd.closest('#notebook-container');\n",
       "if (notebookContainer) {{\n",
       "    x.observe(notebookContainer, {childList: true});\n",
       "}}\n",
       "\n",
       "// Listen for the clearing of the current output cell\n",
       "var outputEl = gd.closest('.output');\n",
       "if (outputEl) {{\n",
       "    x.observe(outputEl, {childList: true});\n",
       "}}\n",
       "\n",
       "                        })                };                });            </script>        </div>"
      ]
     },
     "metadata": {},
     "output_type": "display_data"
    }
   ],
   "source": [
    "fig = px.bar(species_avg_yearly, \n",
    "             x=\"Country\", \n",
    "             y=\"Avg Yearly Attacks\", \n",
    "             color=\"Species\",\n",
    "             title=\"Avg Yearly Shark Attacks by Species (Top 10 Countries)\",\n",
    "             labels={\"Country\": \"Country\", \"Avg Yearly Attacks\": \"Average Yearly Attacks\", \"Species\": \"Shark Type\"},\n",
    "             barmode=\"stack\")\n",
    "\n",
    "# Rotate x-axis labels for readability\n",
    "fig.update_layout(xaxis_tickangle=-45)\n",
    "\n",
    "# Show the chart\n",
    "fig.show()\n"
   ]
  }
 ],
 "metadata": {
  "kernelspec": {
   "display_name": "Python [conda env:base] *",
   "language": "python",
   "name": "conda-base-py"
  },
  "language_info": {
   "codemirror_mode": {
    "name": "ipython",
    "version": 3
   },
   "file_extension": ".py",
   "mimetype": "text/x-python",
   "name": "python",
   "nbconvert_exporter": "python",
   "pygments_lexer": "ipython3",
   "version": "3.12.7"
  }
 },
 "nbformat": 4,
 "nbformat_minor": 5
}
